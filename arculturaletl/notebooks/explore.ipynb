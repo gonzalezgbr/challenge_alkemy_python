{
 "cells": [
  {
   "cell_type": "markdown",
   "metadata": {},
   "source": [
    "# Notebook para explorar datos y definir acciones a ejecutar en transform.py"
   ]
  },
  {
   "cell_type": "code",
   "execution_count": 15,
   "metadata": {},
   "outputs": [
    {
     "data": {
      "text/plain": [
       "Index(['Cod_Loc', 'IdProvincia', 'IdDepartamento', 'Observacion', 'Categoría',\n",
       "       'Subcategoria', 'Provincia', 'Departamento', 'Localidad', 'Nombre',\n",
       "       'Domicilio', 'Piso', 'CP', 'Cod_tel', 'Teléfono', 'Mail', 'Web',\n",
       "       'Información adicional', 'Latitud', 'Longitud', 'TipoLatitudLongitud',\n",
       "       'Fuente', 'Tipo_gestion', 'año_inicio', 'Año_actualizacion'],\n",
       "      dtype='object')"
      ]
     },
     "metadata": {},
     "output_type": "display_data"
    },
    {
     "data": {
      "text/plain": [
       "(2017, 25)"
      ]
     },
     "metadata": {},
     "output_type": "display_data"
    },
    {
     "data": {
      "text/plain": [
       "Index(['Cod_Loc', 'IdProvincia', 'IdDepartamento', 'Observaciones',\n",
       "       'Categoría', 'Provincia', 'Departamento', 'Localidad', 'Nombre',\n",
       "       'Dirección', 'Piso', 'CP', 'cod_area', 'Teléfono', 'Mail', 'Web',\n",
       "       'Información adicional', 'Latitud', 'Longitud', 'TipoLatitudLongitud',\n",
       "       'Fuente', 'tipo_gestion', 'Pantallas', 'Butacas', 'espacio_INCAA',\n",
       "       'año_actualizacion'],\n",
       "      dtype='object')"
      ]
     },
     "metadata": {},
     "output_type": "display_data"
    },
    {
     "data": {
      "text/plain": [
       "(329, 26)"
      ]
     },
     "metadata": {},
     "output_type": "display_data"
    },
    {
     "data": {
      "text/plain": [
       "Index(['Cod_Loc', 'IdProvincia', 'IdDepartamento', 'Observaciones',\n",
       "       'categoria', 'subcategoria', 'provincia', 'localidad', 'nombre',\n",
       "       'direccion', 'piso', 'CP', 'cod_area', 'telefono', 'Mail', 'Web',\n",
       "       'Latitud', 'Longitud', 'TipoLatitudLongitud', 'Info_adicional',\n",
       "       'fuente', 'jurisdiccion', 'año_inauguracion', 'actualizacion'],\n",
       "      dtype='object')"
      ]
     },
     "metadata": {},
     "output_type": "display_data"
    },
    {
     "data": {
      "text/plain": [
       "(1182, 24)"
      ]
     },
     "metadata": {},
     "output_type": "display_data"
    }
   ],
   "source": [
    "import numpy as np\n",
    "import pandas as pd\n",
    "pd.set_option('display.max_colwidth', None)\n",
    "\n",
    "# Cargar dfs\n",
    "df_bibliotecas_path = '../data/bibliotecas/2022-octubre/bibliotecas-07-10-2022.csv'\n",
    "df_cines_path = '../data/cines/2022-octubre/cines-07-10-2022.csv'\n",
    "df_museos_path = '../data/museos/2022-octubre/museos-07-10-2022.csv'\n",
    "\n",
    "bibliotecas_df = pd.read_csv(df_bibliotecas_path, encoding='utf8')\n",
    "cines_df = pd.read_csv(df_cines_path, encoding='utf8')\n",
    "museos_df = pd.read_csv(df_museos_path, encoding='utf8')\n",
    "\n",
    "# Ver tamaños y columnas de cada uno\n",
    "dfs = [bibliotecas_df, cines_df, museos_df]\n",
    "for df in dfs:\n",
    "    display(df.columns)\n",
    "    display(df.shape)"
   ]
  },
  {
   "cell_type": "markdown",
   "metadata": {},
   "source": [
    "## A) Transformaciones para master dataset\n",
    "### 1° Unificar nombres de columnas comunes requeridas entre los 3 dfs"
   ]
  },
  {
   "cell_type": "code",
   "execution_count": 16,
   "metadata": {},
   "outputs": [
    {
     "data": {
      "text/plain": [
       "Index(['cod_localidad', 'id_provincia', 'id_departamento', 'categoria',\n",
       "       'provincia', 'localidad', 'nombre', 'domicilio', 'codigo_postal',\n",
       "       'Cod_tel', 'Teléfono', 'mail', 'web'],\n",
       "      dtype='object')"
      ]
     },
     "metadata": {},
     "output_type": "display_data"
    },
    {
     "data": {
      "text/plain": [
       "(3528, 13)"
      ]
     },
     "metadata": {},
     "output_type": "display_data"
    },
    {
     "data": {
      "text/html": [
       "<div>\n",
       "<style scoped>\n",
       "    .dataframe tbody tr th:only-of-type {\n",
       "        vertical-align: middle;\n",
       "    }\n",
       "\n",
       "    .dataframe tbody tr th {\n",
       "        vertical-align: top;\n",
       "    }\n",
       "\n",
       "    .dataframe thead th {\n",
       "        text-align: right;\n",
       "    }\n",
       "</style>\n",
       "<table border=\"1\" class=\"dataframe\">\n",
       "  <thead>\n",
       "    <tr style=\"text-align: right;\">\n",
       "      <th></th>\n",
       "      <th>cod_localidad</th>\n",
       "      <th>id_provincia</th>\n",
       "      <th>id_departamento</th>\n",
       "      <th>categoria</th>\n",
       "      <th>provincia</th>\n",
       "      <th>localidad</th>\n",
       "      <th>nombre</th>\n",
       "      <th>domicilio</th>\n",
       "      <th>codigo_postal</th>\n",
       "      <th>Cod_tel</th>\n",
       "      <th>Teléfono</th>\n",
       "      <th>mail</th>\n",
       "      <th>web</th>\n",
       "    </tr>\n",
       "  </thead>\n",
       "  <tbody>\n",
       "    <tr>\n",
       "      <th>621</th>\n",
       "      <td>6098010</td>\n",
       "      <td>6</td>\n",
       "      <td>6098</td>\n",
       "      <td>Bibliotecas Populares</td>\n",
       "      <td>Buenos Aires</td>\n",
       "      <td>Villa B. Constructor</td>\n",
       "      <td>Biblioteca Popular Belisario Roldán</td>\n",
       "      <td>15 4211</td>\n",
       "      <td>1923.0</td>\n",
       "      <td>221.0</td>\n",
       "      <td>4611872.0</td>\n",
       "      <td>s/d</td>\n",
       "      <td>NaN</td>\n",
       "    </tr>\n",
       "    <tr>\n",
       "      <th>1467</th>\n",
       "      <td>6805010</td>\n",
       "      <td>6</td>\n",
       "      <td>6805</td>\n",
       "      <td>Bibliotecas Populares</td>\n",
       "      <td>Buenos Aires</td>\n",
       "      <td>El Talar de Pacheco</td>\n",
       "      <td>Biblioteca Popular Lopez Camelo</td>\n",
       "      <td>Paul Groussac 3302</td>\n",
       "      <td>1618.0</td>\n",
       "      <td>3327.0</td>\n",
       "      <td>444949.0</td>\n",
       "      <td>cultura@cotelnet.com.ar</td>\n",
       "      <td>NaN</td>\n",
       "    </tr>\n",
       "    <tr>\n",
       "      <th>1825</th>\n",
       "      <td>82014140</td>\n",
       "      <td>82</td>\n",
       "      <td>82014</td>\n",
       "      <td>Bibliotecas Populares</td>\n",
       "      <td>Santa Fe</td>\n",
       "      <td>Villada</td>\n",
       "      <td>Asociación Civil Biblioteca Popular Mariano Moreno de Villada</td>\n",
       "      <td>San Miguel 376</td>\n",
       "      <td>2173.0</td>\n",
       "      <td>341.0</td>\n",
       "      <td>4257166.0</td>\n",
       "      <td>bibpopmarianomoreno@yahoo.com.ar</td>\n",
       "      <td>NaN</td>\n",
       "    </tr>\n",
       "    <tr>\n",
       "      <th>108</th>\n",
       "      <td>6672010</td>\n",
       "      <td>6</td>\n",
       "      <td>6672</td>\n",
       "      <td>Espacios de Exhibición Patrimonial</td>\n",
       "      <td>Buenos Aires</td>\n",
       "      <td>Rauch</td>\n",
       "      <td>Museo Municipal De Artes Plásticas Faustino Jorge Bonadeo</td>\n",
       "      <td>Avda. San Martín 155</td>\n",
       "      <td>B7203BPB</td>\n",
       "      <td>2297.0</td>\n",
       "      <td>443 249</td>\n",
       "      <td>NaN</td>\n",
       "      <td>NaN</td>\n",
       "    </tr>\n",
       "    <tr>\n",
       "      <th>1102</th>\n",
       "      <td>6441030</td>\n",
       "      <td>6</td>\n",
       "      <td>6441</td>\n",
       "      <td>Bibliotecas Populares</td>\n",
       "      <td>Buenos Aires</td>\n",
       "      <td>La Plata</td>\n",
       "      <td>Biblioteca Pública Central General José de San Martín</td>\n",
       "      <td>Calle 47 510</td>\n",
       "      <td>1900.0</td>\n",
       "      <td>221.0</td>\n",
       "      <td>4254954.0</td>\n",
       "      <td>bibliotecacentraldelaprovincia@yahoo.com.ar</td>\n",
       "      <td>NaN</td>\n",
       "    </tr>\n",
       "  </tbody>\n",
       "</table>\n",
       "</div>"
      ],
      "text/plain": [
       "      cod_localidad  id_provincia  id_departamento  \\\n",
       "621         6098010             6             6098   \n",
       "1467        6805010             6             6805   \n",
       "1825       82014140            82            82014   \n",
       "108         6672010             6             6672   \n",
       "1102        6441030             6             6441   \n",
       "\n",
       "                               categoria     provincia             localidad  \\\n",
       "621                Bibliotecas Populares  Buenos Aires  Villa B. Constructor   \n",
       "1467               Bibliotecas Populares  Buenos Aires   El Talar de Pacheco   \n",
       "1825               Bibliotecas Populares      Santa Fe               Villada   \n",
       "108   Espacios de Exhibición Patrimonial  Buenos Aires                 Rauch   \n",
       "1102               Bibliotecas Populares  Buenos Aires              La Plata   \n",
       "\n",
       "                                                             nombre  \\\n",
       "621                             Biblioteca Popular Belisario Roldán   \n",
       "1467                                Biblioteca Popular Lopez Camelo   \n",
       "1825  Asociación Civil Biblioteca Popular Mariano Moreno de Villada   \n",
       "108       Museo Municipal De Artes Plásticas Faustino Jorge Bonadeo   \n",
       "1102          Biblioteca Pública Central General José de San Martín   \n",
       "\n",
       "                 domicilio codigo_postal  Cod_tel   Teléfono  \\\n",
       "621                15 4211        1923.0    221.0  4611872.0   \n",
       "1467    Paul Groussac 3302        1618.0   3327.0   444949.0   \n",
       "1825        San Miguel 376        2173.0    341.0  4257166.0   \n",
       "108   Avda. San Martín 155      B7203BPB   2297.0    443 249   \n",
       "1102          Calle 47 510        1900.0    221.0  4254954.0   \n",
       "\n",
       "                                             mail  web  \n",
       "621                                           s/d  NaN  \n",
       "1467                      cultura@cotelnet.com.ar  NaN  \n",
       "1825             bibpopmarianomoreno@yahoo.com.ar  NaN  \n",
       "108                                           NaN  NaN  \n",
       "1102  bibliotecacentraldelaprovincia@yahoo.com.ar  NaN  "
      ]
     },
     "execution_count": 16,
     "metadata": {},
     "output_type": "execute_result"
    }
   ],
   "source": [
    "# Columnas para master_df: cod_localidad, id_provincia, id_departamento, categoría, \n",
    "# provincia, localidad, nombre, domicilio, código postal, número de teléfono, mail, web\n",
    "\n",
    "# Cargar nombres de columnas de interés de cada df en mismo orden\n",
    "columns = ['cod_localidad', 'id_provincia', 'id_departamento', 'categoria', \n",
    "                'provincia', 'localidad','nombre','domicilio', 'codigo_postal', 'Cod_tel',\n",
    "                'Teléfono', 'mail', 'web' ]\n",
    "bibliotecas_columns = ['Cod_Loc', 'IdProvincia', 'IdDepartamento', 'Categoría', \n",
    "                        'Provincia', 'Localidad','Nombre','Domicilio', 'CP', 'Cod_tel', \n",
    "                        'Teléfono', 'Mail', 'Web']\n",
    "cines_columns = ['Cod_Loc', 'IdProvincia', 'IdDepartamento', 'Categoría', 'Provincia', \n",
    "                    'Localidad','Nombre','Dirección', 'CP', 'cod_area', 'Teléfono', 'Mail', \n",
    "                    'Web']\n",
    "museos_columns = ['Cod_Loc', 'IdProvincia', 'IdDepartamento', 'categoria', 'provincia', \n",
    "                    'localidad','nombre','direccion', 'CP', 'cod_area', 'telefono', \n",
    "                    'Mail', 'Web' ]\n",
    "\n",
    "# Renombrar columnas en cada df para que todos sean iguales y se pueda concatenar\n",
    "bibliotecas_df.rename(columns=dict(zip(bibliotecas_columns, columns)), inplace=True)\n",
    "cines_df.rename(columns=dict(zip(cines_columns, columns)), inplace=True)\n",
    "museos_df.rename(columns=dict(zip(museos_columns, columns)), inplace=True)\n",
    "\n",
    "# Concatenar dfs en master y ver resultados\n",
    "master_df = pd.concat([bibliotecas_df[columns], cines_df[columns], museos_df[columns]])\n",
    "display(master_df.columns, master_df.shape)\n",
    "master_df.sample(5)"
   ]
  },
  {
   "cell_type": "markdown",
   "metadata": {},
   "source": [
    "### 2° Unificar cod_tel y telefono en una única columna"
   ]
  },
  {
   "cell_type": "code",
   "execution_count": 17,
   "metadata": {},
   "outputs": [
    {
     "data": {
      "text/plain": [
       "dtype('float64')"
      ]
     },
     "metadata": {},
     "output_type": "display_data"
    },
    {
     "data": {
      "text/plain": [
       "dtype('O')"
      ]
     },
     "metadata": {},
     "output_type": "display_data"
    },
    {
     "data": {
      "text/html": [
       "<div>\n",
       "<style scoped>\n",
       "    .dataframe tbody tr th:only-of-type {\n",
       "        vertical-align: middle;\n",
       "    }\n",
       "\n",
       "    .dataframe tbody tr th {\n",
       "        vertical-align: top;\n",
       "    }\n",
       "\n",
       "    .dataframe thead th {\n",
       "        text-align: right;\n",
       "    }\n",
       "</style>\n",
       "<table border=\"1\" class=\"dataframe\">\n",
       "  <thead>\n",
       "    <tr style=\"text-align: right;\">\n",
       "      <th></th>\n",
       "      <th>Cod_tel</th>\n",
       "      <th>Teléfono</th>\n",
       "    </tr>\n",
       "  </thead>\n",
       "  <tbody>\n",
       "    <tr>\n",
       "      <th>637</th>\n",
       "      <td>NaN</td>\n",
       "      <td>NaN</td>\n",
       "    </tr>\n",
       "    <tr>\n",
       "      <th>1027</th>\n",
       "      <td>2652.0</td>\n",
       "      <td>459826.0</td>\n",
       "    </tr>\n",
       "    <tr>\n",
       "      <th>82</th>\n",
       "      <td>2323.0</td>\n",
       "      <td>420 755</td>\n",
       "    </tr>\n",
       "    <tr>\n",
       "      <th>1544</th>\n",
       "      <td>3876.0</td>\n",
       "      <td>422739.0</td>\n",
       "    </tr>\n",
       "    <tr>\n",
       "      <th>539</th>\n",
       "      <td>3442.0</td>\n",
       "      <td>426 540</td>\n",
       "    </tr>\n",
       "    <tr>\n",
       "      <th>809</th>\n",
       "      <td>358.0</td>\n",
       "      <td>4882335.0</td>\n",
       "    </tr>\n",
       "    <tr>\n",
       "      <th>1953</th>\n",
       "      <td>351.0</td>\n",
       "      <td>6006861.0</td>\n",
       "    </tr>\n",
       "    <tr>\n",
       "      <th>23</th>\n",
       "      <td>11.0</td>\n",
       "      <td>46641840.0</td>\n",
       "    </tr>\n",
       "    <tr>\n",
       "      <th>753</th>\n",
       "      <td>261.0</td>\n",
       "      <td>941 050</td>\n",
       "    </tr>\n",
       "  </tbody>\n",
       "</table>\n",
       "</div>"
      ],
      "text/plain": [
       "      Cod_tel    Teléfono\n",
       "637       NaN         NaN\n",
       "1027   2652.0    459826.0\n",
       "82     2323.0     420 755\n",
       "1544   3876.0    422739.0\n",
       "539    3442.0     426 540\n",
       "809     358.0   4882335.0\n",
       "1953    351.0   6006861.0\n",
       "23       11.0  46641840.0\n",
       "753     261.0     941 050"
      ]
     },
     "execution_count": 17,
     "metadata": {},
     "output_type": "execute_result"
    }
   ],
   "source": [
    "display(master_df['Cod_tel'].dtype, master_df['Teléfono'].dtype)\n",
    "master_df[['Cod_tel', 'Teléfono']].sample(9)"
   ]
  },
  {
   "cell_type": "code",
   "execution_count": 18,
   "metadata": {},
   "outputs": [],
   "source": [
    "# Cod_tel es de tipo float por lo que los nros tienen agregado .0 al final, y hay valores nulos\n",
    "# Teléfono es tipo str, tiene valores con espacios en blanco, pero también tiene algunos con .0 al final y valores nulos\n",
    "# La nueva columna será str para preservar nulos, y se creará uniendo los dos campos (siempre y cuando haya valor en Teléfono)\n",
    "# separados por un espacio (para seguir formato presentado), previa eliminación de los .0\n",
    "\n",
    "def make_phone_number(row):\n",
    "\n",
    "    if not pd.isnull(row['Teléfono']):\n",
    "        # convierto a str\n",
    "        tel = str(row['Teléfono']).strip()\n",
    "        # elimino .0 final si tiene\n",
    "        if tel.find('.0') != -1:\n",
    "            tel = tel[:tel.find('.0')]\n",
    "        # chequeo código para ver si debo concatenar o va solo nro de telefono sin cod area\n",
    "        if not pd.isnull(row['Cod_tel']):\n",
    "            cod = str(row['Cod_tel']).strip()\n",
    "            if cod.find('.0') != -1:\n",
    "                cod = cod[:cod.find('.0')]\n",
    "            row['telefono'] = cod + ' ' + tel\n",
    "        else:\n",
    "            row['telefono'] = tel\n",
    "    else:\n",
    "    # si no tengo número de teléfono no me interesa si hay código de área \n",
    "        row['telefono'] = np.nan\n",
    "    return row    \n",
    "\n",
    "master_df = master_df.apply(make_phone_number, axis='columns')\n",
    "\n",
    "master_df[['Cod_tel', 'Teléfono', 'telefono']].sample(12)\n",
    "master_df.drop(['Cod_tel', 'Teléfono'], inplace=True, axis='columns')\n",
    "columns.remove('Cod_tel')\n",
    "columns.remove('Teléfono')"
   ]
  },
  {
   "cell_type": "markdown",
   "metadata": {},
   "source": [
    "### Explorar datos por columna"
   ]
  },
  {
   "cell_type": "code",
   "execution_count": 19,
   "metadata": {},
   "outputs": [
    {
     "data": {
      "text/plain": [
       "'---------------------------- Columna cod_localidad - int64 ----------------------------'"
      ]
     },
     "metadata": {},
     "output_type": "display_data"
    },
    {
     "data": {
      "text/plain": [
       "'Total: 3528  |  Nulos: 0  |  No nulos: 3528 | Únicos: 1197'"
      ]
     },
     "metadata": {},
     "output_type": "display_data"
    },
    {
     "data": {
      "text/plain": [
       "'Top Distribución de valores:'"
      ]
     },
     "metadata": {},
     "output_type": "display_data"
    },
    {
     "data": {
      "text/plain": [
       "2000010     210\n",
       "14014010     92\n",
       "82063170     72\n",
       "6441030      63\n",
       "82084270     61\n",
       "66028050     50\n",
       "22140060     46\n",
       "58035070     37\n",
       "86049110     31\n",
       "50007010     31\n",
       "70028010     30\n",
       "90084010     27\n",
       "6056010      24\n",
       "6427010      22\n",
       "38021060     21\n",
       "Name: cod_localidad, dtype: int64"
      ]
     },
     "metadata": {},
     "output_type": "display_data"
    },
    {
     "data": {
      "text/plain": [
       "'---------------------------- Columna id_provincia - int64 ----------------------------'"
      ]
     },
     "metadata": {},
     "output_type": "display_data"
    },
    {
     "data": {
      "text/plain": [
       "'Total: 3528  |  Nulos: 0  |  No nulos: 3528 | Únicos: 24'"
      ]
     },
     "metadata": {},
     "output_type": "display_data"
    },
    {
     "data": {
      "text/plain": [
       "'Valores únicos:'"
      ]
     },
     "metadata": {},
     "output_type": "display_data"
    },
    {
     "data": {
      "text/plain": [
       "array([70,  2,  6, 30, 82, 18, 14, 74, 86, 90, 50, 46, 10, 66, 38, 22, 34,\n",
       "       54, 42, 58, 62, 78, 94, 26], dtype=int64)"
      ]
     },
     "metadata": {},
     "output_type": "display_data"
    },
    {
     "data": {
      "text/plain": [
       "'Distribución de valores:'"
      ]
     },
     "metadata": {},
     "output_type": "display_data"
    },
    {
     "data": {
      "text/plain": [
       "6     801\n",
       "82    458\n",
       "14    346\n",
       "2     210\n",
       "50    146\n",
       "30    128\n",
       "42    123\n",
       "58    115\n",
       "66    109\n",
       "22    107\n",
       "26    102\n",
       "62     92\n",
       "38     91\n",
       "70     83\n",
       "86     82\n",
       "74     80\n",
       "18     80\n",
       "54     78\n",
       "10     74\n",
       "90     71\n",
       "46     46\n",
       "78     46\n",
       "34     34\n",
       "94     26\n",
       "Name: id_provincia, dtype: int64"
      ]
     },
     "metadata": {},
     "output_type": "display_data"
    },
    {
     "data": {
      "text/plain": [
       "'---------------------------- Columna id_departamento - int64 ----------------------------'"
      ]
     },
     "metadata": {},
     "output_type": "display_data"
    },
    {
     "data": {
      "text/plain": [
       "'Total: 3528  |  Nulos: 0  |  No nulos: 3528 | Únicos: 461'"
      ]
     },
     "metadata": {},
     "output_type": "display_data"
    },
    {
     "data": {
      "text/plain": [
       "'Top Distribución de valores:'"
      ]
     },
     "metadata": {},
     "output_type": "display_data"
    },
    {
     "data": {
      "text/plain": [
       "2000     210\n",
       "14014     92\n",
       "82063     87\n",
       "82084     78\n",
       "6441      63\n",
       "58035     60\n",
       "22140     52\n",
       "66028     52\n",
       "62042     42\n",
       "82021     40\n",
       "14140     39\n",
       "86049     32\n",
       "50007     31\n",
       "14021     30\n",
       "70028     30\n",
       "Name: id_departamento, dtype: int64"
      ]
     },
     "metadata": {},
     "output_type": "display_data"
    },
    {
     "data": {
      "text/plain": [
       "'---------------------------- Columna categoria - object ----------------------------'"
      ]
     },
     "metadata": {},
     "output_type": "display_data"
    },
    {
     "data": {
      "text/plain": [
       "'Total: 3528  |  Nulos: 0  |  No nulos: 3528 | Únicos: 3'"
      ]
     },
     "metadata": {},
     "output_type": "display_data"
    },
    {
     "data": {
      "text/plain": [
       "'Valores únicos:'"
      ]
     },
     "metadata": {},
     "output_type": "display_data"
    },
    {
     "data": {
      "text/plain": [
       "array(['Bibliotecas Populares', 'Salas de cine',\n",
       "       'Espacios de Exhibición Patrimonial'], dtype=object)"
      ]
     },
     "metadata": {},
     "output_type": "display_data"
    },
    {
     "data": {
      "text/plain": [
       "'Distribución de valores:'"
      ]
     },
     "metadata": {},
     "output_type": "display_data"
    },
    {
     "data": {
      "text/plain": [
       "Bibliotecas Populares                 2017\n",
       "Espacios de Exhibición Patrimonial    1182\n",
       "Salas de cine                          329\n",
       "Name: categoria, dtype: int64"
      ]
     },
     "metadata": {},
     "output_type": "display_data"
    },
    {
     "data": {
      "text/plain": [
       "'---------------------------- Columna provincia - object ----------------------------'"
      ]
     },
     "metadata": {},
     "output_type": "display_data"
    },
    {
     "data": {
      "text/plain": [
       "'Total: 3528  |  Nulos: 0  |  No nulos: 3528 | Únicos: 27'"
      ]
     },
     "metadata": {},
     "output_type": "display_data"
    },
    {
     "data": {
      "text/plain": [
       "'Valores únicos:'"
      ]
     },
     "metadata": {},
     "output_type": "display_data"
    },
    {
     "data": {
      "text/plain": [
       "array(['San Juan', 'Ciudad Autónoma de Buenos Aires', 'Buenos Aires',\n",
       "       'Entre Ríos', 'Santa Fe', 'Corrientes', 'Córdoba', 'San Luis',\n",
       "       'Santiago del Estero', 'Tucumán', 'Mendoza', 'La Rioja',\n",
       "       'Catamarca', 'Salta', 'Jujuy', 'Chaco', 'Formosa', 'Misiones',\n",
       "       'La Pampa', 'Neuquén', 'Río Negro', 'Santa Cruz',\n",
       "       'Tierra del Fuego', 'Chubut', 'Santa Fé', 'Neuquén\\xa0',\n",
       "       'Tierra del Fuego, Antártida e Islas del Atlántico Sur'],\n",
       "      dtype=object)"
      ]
     },
     "metadata": {},
     "output_type": "display_data"
    },
    {
     "data": {
      "text/plain": [
       "'Distribución de valores:'"
      ]
     },
     "metadata": {},
     "output_type": "display_data"
    },
    {
     "data": {
      "text/plain": [
       "Buenos Aires                                             801\n",
       "Santa Fe                                                 457\n",
       "Córdoba                                                  346\n",
       "Ciudad Autónoma de Buenos Aires                          210\n",
       "Mendoza                                                  146\n",
       "Entre Ríos                                               128\n",
       "La Pampa                                                 123\n",
       "Salta                                                    110\n",
       "Chaco                                                    107\n",
       "Chubut                                                   102\n",
       "Río Negro                                                 92\n",
       "Jujuy                                                     91\n",
       "San Juan                                                  83\n",
       "Santiago del Estero                                       82\n",
       "San Luis                                                  80\n",
       "Corrientes                                                80\n",
       "Misiones                                                  78\n",
       "Neuquén                                                   75\n",
       "Catamarca                                                 74\n",
       "Tucumán                                                   71\n",
       "La Rioja                                                  46\n",
       "Santa Cruz                                                46\n",
       "Neuquén                                                   39\n",
       "Formosa                                                   34\n",
       "Tierra del Fuego, Antártida e Islas del Atlántico Sur     14\n",
       "Tierra del Fuego                                          12\n",
       "Santa Fé                                                   1\n",
       "Name: provincia, dtype: int64"
      ]
     },
     "metadata": {},
     "output_type": "display_data"
    },
    {
     "data": {
      "text/plain": [
       "'---------------------------- Columna localidad - object ----------------------------'"
      ]
     },
     "metadata": {},
     "output_type": "display_data"
    },
    {
     "data": {
      "text/plain": [
       "'Total: 3528  |  Nulos: 0  |  No nulos: 3528 | Únicos: 1417'"
      ]
     },
     "metadata": {},
     "output_type": "display_data"
    },
    {
     "data": {
      "text/plain": [
       "'Top Distribución de valores:'"
      ]
     },
     "metadata": {},
     "output_type": "display_data"
    },
    {
     "data": {
      "text/plain": [
       "Ciudad Autónoma de Buenos Aires    167\n",
       "Santa Fe                            72\n",
       "Rosario                             61\n",
       "Córdoba                             57\n",
       "La Plata                            55\n",
       "Salta                               49\n",
       "Resistencia                         46\n",
       "Ciudad de Buenos Aires              43\n",
       "Cordoba                             31\n",
       "Neuquén                             31\n",
       "Mendoza                             28\n",
       "Santiago del Estero                 27\n",
       "San Miguel de Tucumán               26\n",
       "San Juan                            25\n",
       "Corrientes                          21\n",
       "Name: localidad, dtype: int64"
      ]
     },
     "metadata": {},
     "output_type": "display_data"
    },
    {
     "data": {
      "text/plain": [
       "'---------------------------- Columna nombre - object ----------------------------'"
      ]
     },
     "metadata": {},
     "output_type": "display_data"
    },
    {
     "data": {
      "text/plain": [
       "'Total: 3528  |  Nulos: 0  |  No nulos: 3528 | Únicos: 2827'"
      ]
     },
     "metadata": {},
     "output_type": "display_data"
    },
    {
     "data": {
      "text/plain": [
       "'Top Distribución de valores:'"
      ]
     },
     "metadata": {},
     "output_type": "display_data"
    },
    {
     "data": {
      "text/plain": [
       "Biblioteca Popular Domingo Faustino Sarmiento    112\n",
       "Biblioteca Popular Mariano Moreno                 61\n",
       "Biblioteca Popular Bernardino Rivadavia           40\n",
       "Biblioteca Popular Juan Bautista Alberdi          37\n",
       "Biblioteca Popular Bartolomé Mitre                24\n",
       "Biblioteca Popular Almafuerte                     19\n",
       "Biblioteca Popular José Hernández                 19\n",
       "Biblioteca Popular Florentino Ameghino            18\n",
       "Cinemacenter                                      17\n",
       "Biblioteca Popular José Ingenieros                16\n",
       "Biblioteca Popular Manuel Belgrano                16\n",
       "Biblioteca Popular Alfonsina Storni               12\n",
       "Biblioteca Popular General San Martín             12\n",
       "Hoyts                                             11\n",
       "Museo De La Ciudad                                10\n",
       "Name: nombre, dtype: int64"
      ]
     },
     "metadata": {},
     "output_type": "display_data"
    },
    {
     "data": {
      "text/plain": [
       "'---------------------------- Columna domicilio - object ----------------------------'"
      ]
     },
     "metadata": {},
     "output_type": "display_data"
    },
    {
     "data": {
      "text/plain": [
       "'Total: 3528  |  Nulos: 18  |  No nulos: 3510 | Únicos: 3371'"
      ]
     },
     "metadata": {},
     "output_type": "display_data"
    },
    {
     "data": {
      "text/plain": [
       "'Top Distribución de valores:'"
      ]
     },
     "metadata": {},
     "output_type": "display_data"
    },
    {
     "data": {
      "text/plain": [
       "Sin dirección               30\n",
       "Sarmiento                   10\n",
       "San Martín                   9\n",
       "25 de mayo                   5\n",
       "9 de julio                   5\n",
       "Sarmiento 450                4\n",
       "Santa Rosa 1564              3\n",
       "Calle Principal              3\n",
       "San Martín 345               3\n",
       "Zona Rural                   3\n",
       "Independencia                3\n",
       "Sargento Cabral 2354         3\n",
       "Rivadavia S/N                3\n",
       "Estación del ferrocarril     3\n",
       "Planta Urbana                3\n",
       "Name: domicilio, dtype: int64"
      ]
     },
     "metadata": {},
     "output_type": "display_data"
    },
    {
     "data": {
      "text/plain": [
       "'---------------------------- Columna codigo_postal - object ----------------------------'"
      ]
     },
     "metadata": {},
     "output_type": "display_data"
    },
    {
     "data": {
      "text/plain": [
       "'Total: 3528  |  Nulos: 349  |  No nulos: 3179 | Únicos: 1937'"
      ]
     },
     "metadata": {},
     "output_type": "display_data"
    },
    {
     "data": {
      "text/plain": [
       "'Top Distribución de valores:'"
      ]
     },
     "metadata": {},
     "output_type": "display_data"
    },
    {
     "data": {
      "text/plain": [
       "2000.0      41\n",
       "1900.0      31\n",
       "4400.0      29\n",
       "3500.0      28\n",
       "4200.0      27\n",
       "S3002GVP    27\n",
       "8300.0      27\n",
       "5400.0      25\n",
       "5000.0      19\n",
       "3000.0      18\n",
       "7000.0      16\n",
       "5500        16\n",
       "3400.0      14\n",
       "4000.0      13\n",
       "7600.0      13\n",
       "Name: codigo_postal, dtype: int64"
      ]
     },
     "metadata": {},
     "output_type": "display_data"
    },
    {
     "data": {
      "text/plain": [
       "'---------------------------- Columna mail - object ----------------------------'"
      ]
     },
     "metadata": {},
     "output_type": "display_data"
    },
    {
     "data": {
      "text/plain": [
       "'Total: 3528  |  Nulos: 918  |  No nulos: 2610 | Únicos: 1980'"
      ]
     },
     "metadata": {},
     "output_type": "display_data"
    },
    {
     "data": {
      "text/plain": [
       "'Top Distribución de valores:'"
      ]
     },
     "metadata": {},
     "output_type": "display_data"
    },
    {
     "data": {
      "text/plain": [
       "s/d                                         561\n",
       "rmazzutti@hoyts.com.ar                       11\n",
       "iventura@cinemark.com.ar                      9\n",
       "info@atlascines.com.ar                        5\n",
       "fharari@hotmail.com.ar                        4\n",
       "diversidad.cultural@santafeciudad.gov.ar      4\n",
       "admin@lastipasboulevard.com.ar                3\n",
       "nuevocineteatrorex@gmail.com                  3\n",
       "cluduena@grupodinosaurio.com                  3\n",
       "rabdenur@gmail.com                            3\n",
       "ericontadoralinares@gmail.com                 3\n",
       "naiarg@naiarg.com.ar                          3\n",
       "gabriel.guralnik@gmail.com                    2\n",
       "york.cultura@vicentelopez.gov.ar              2\n",
       "museoesperanza@esperanza.gov.ar               2\n",
       "Name: mail, dtype: int64"
      ]
     },
     "metadata": {},
     "output_type": "display_data"
    },
    {
     "data": {
      "text/plain": [
       "'---------------------------- Columna web - object ----------------------------'"
      ]
     },
     "metadata": {},
     "output_type": "display_data"
    },
    {
     "data": {
      "text/plain": [
       "'Total: 3528  |  Nulos: 3124  |  No nulos: 404 | Únicos: 308'"
      ]
     },
     "metadata": {},
     "output_type": "display_data"
    },
    {
     "data": {
      "text/plain": [
       "'Top Distribución de valores:'"
      ]
     },
     "metadata": {},
     "output_type": "display_data"
    },
    {
     "data": {
      "text/plain": [
       "http://www.cinemacenter.com.ar/            17\n",
       "s/d                                        16\n",
       "https://www.cinemarkhoyts.com.ar/          11\n",
       "https://www.cinemarkhoyts.com.ar           10\n",
       "https://www.villagecines.com/               8\n",
       "cineatlasweb.com.ar                         7\n",
       "https://www.multiplex.com.ar/               6\n",
       "https://www.todoshowcase.com/               6\n",
       "http://www.cinesunstar.com/                 6\n",
       "www.ara.mil.ar                              4\n",
       "www.enteculturaltucuman.gov.ar              4\n",
       "http://cinema3dlarioja.com/                 3\n",
       "http://www.cinemalaplata.com                3\n",
       "www.culturarionegro.gov.ar                  3\n",
       "https://www.cinesdinomall.com.ar/Inicio     2\n",
       "Name: web, dtype: int64"
      ]
     },
     "metadata": {},
     "output_type": "display_data"
    }
   ],
   "source": [
    "# Explorar datos, chequeando nulos, valores únicos y distribución de valores\n",
    "total_rows = master_df.shape[0]\n",
    "for column in columns:\n",
    "    display(f'---------------------------- Columna {column} - {master_df[column].dtype} ----------------------------')\n",
    "    no_nulos = master_df[column].count()\n",
    "    unique_values_count = len(master_df[column].unique())\n",
    "    display(f'Total: {total_rows}  |  Nulos: {total_rows - no_nulos}  |  No nulos: {no_nulos} | Únicos: {unique_values_count}')\n",
    "    if unique_values_count > 30:\n",
    "        display(f'Top Distribución de valores:')\n",
    "        display(master_df[column].value_counts().iloc[:15])\n",
    "    else:\n",
    "        display(f'Valores únicos:')\n",
    "        display(master_df[column].unique())\n",
    "        display(f'Distribución de valores:')\n",
    "        display(master_df[column].value_counts())\n"
   ]
  },
  {
   "cell_type": "markdown",
   "metadata": {},
   "source": [
    "#### Resultados de de la exploración\n",
    "- IdProvincia tiene 24 valores únicos pero Provincia tiene 27 valores únicos. Hay 3 provincias que tienen dos nombres cada una y se deben unificar: \n",
    "1. Neuquén y Neuquén\\xa0, \n",
    "2. Tierra del Fuego y Tierra del Fuego, Antártida e Islas del Atlántico Sur\n",
    "3. Santa Fe y Santa Fé\n",
    "- Domicilio: tiene 18 nulos + 30 'sin dirección', convertir a nulos\n",
    "- Web tiene 3124 nulos y 16 valores 's/d', convertir a nulos\n",
    "- Mail tiene 918 nulos y 561 's/d', convertir a nulos\n",
    "- CP es string pero tiene valores con .0 al final, eliminar .0"
   ]
  },
  {
   "cell_type": "markdown",
   "metadata": {},
   "source": [
    "### 3° Unificar nombres de Provincia"
   ]
  },
  {
   "cell_type": "code",
   "execution_count": 20,
   "metadata": {},
   "outputs": [
    {
     "data": {
      "text/html": [
       "<div>\n",
       "<style scoped>\n",
       "    .dataframe tbody tr th:only-of-type {\n",
       "        vertical-align: middle;\n",
       "    }\n",
       "\n",
       "    .dataframe tbody tr th {\n",
       "        vertical-align: top;\n",
       "    }\n",
       "\n",
       "    .dataframe thead th {\n",
       "        text-align: right;\n",
       "    }\n",
       "</style>\n",
       "<table border=\"1\" class=\"dataframe\">\n",
       "  <thead>\n",
       "    <tr style=\"text-align: right;\">\n",
       "      <th></th>\n",
       "      <th></th>\n",
       "      <th>categoria</th>\n",
       "    </tr>\n",
       "    <tr>\n",
       "      <th>id_provincia</th>\n",
       "      <th>provincia</th>\n",
       "      <th></th>\n",
       "    </tr>\n",
       "  </thead>\n",
       "  <tbody>\n",
       "    <tr>\n",
       "      <th>2</th>\n",
       "      <th>Ciudad Autónoma de Buenos Aires</th>\n",
       "      <td>210</td>\n",
       "    </tr>\n",
       "    <tr>\n",
       "      <th>6</th>\n",
       "      <th>Buenos Aires</th>\n",
       "      <td>801</td>\n",
       "    </tr>\n",
       "    <tr>\n",
       "      <th>10</th>\n",
       "      <th>Catamarca</th>\n",
       "      <td>74</td>\n",
       "    </tr>\n",
       "    <tr>\n",
       "      <th>14</th>\n",
       "      <th>Córdoba</th>\n",
       "      <td>346</td>\n",
       "    </tr>\n",
       "    <tr>\n",
       "      <th>18</th>\n",
       "      <th>Corrientes</th>\n",
       "      <td>80</td>\n",
       "    </tr>\n",
       "    <tr>\n",
       "      <th>22</th>\n",
       "      <th>Chaco</th>\n",
       "      <td>107</td>\n",
       "    </tr>\n",
       "    <tr>\n",
       "      <th>26</th>\n",
       "      <th>Chubut</th>\n",
       "      <td>102</td>\n",
       "    </tr>\n",
       "    <tr>\n",
       "      <th>30</th>\n",
       "      <th>Entre Ríos</th>\n",
       "      <td>128</td>\n",
       "    </tr>\n",
       "    <tr>\n",
       "      <th>34</th>\n",
       "      <th>Formosa</th>\n",
       "      <td>34</td>\n",
       "    </tr>\n",
       "    <tr>\n",
       "      <th>38</th>\n",
       "      <th>Jujuy</th>\n",
       "      <td>91</td>\n",
       "    </tr>\n",
       "    <tr>\n",
       "      <th>42</th>\n",
       "      <th>La Pampa</th>\n",
       "      <td>123</td>\n",
       "    </tr>\n",
       "    <tr>\n",
       "      <th>46</th>\n",
       "      <th>La Rioja</th>\n",
       "      <td>46</td>\n",
       "    </tr>\n",
       "    <tr>\n",
       "      <th>50</th>\n",
       "      <th>Mendoza</th>\n",
       "      <td>146</td>\n",
       "    </tr>\n",
       "    <tr>\n",
       "      <th>54</th>\n",
       "      <th>Misiones</th>\n",
       "      <td>78</td>\n",
       "    </tr>\n",
       "    <tr>\n",
       "      <th rowspan=\"3\" valign=\"top\">58</th>\n",
       "      <th>Neuquén</th>\n",
       "      <td>75</td>\n",
       "    </tr>\n",
       "    <tr>\n",
       "      <th>Neuquén</th>\n",
       "      <td>39</td>\n",
       "    </tr>\n",
       "    <tr>\n",
       "      <th>Salta</th>\n",
       "      <td>1</td>\n",
       "    </tr>\n",
       "    <tr>\n",
       "      <th>62</th>\n",
       "      <th>Río Negro</th>\n",
       "      <td>92</td>\n",
       "    </tr>\n",
       "    <tr>\n",
       "      <th>66</th>\n",
       "      <th>Salta</th>\n",
       "      <td>109</td>\n",
       "    </tr>\n",
       "    <tr>\n",
       "      <th>70</th>\n",
       "      <th>San Juan</th>\n",
       "      <td>83</td>\n",
       "    </tr>\n",
       "    <tr>\n",
       "      <th>74</th>\n",
       "      <th>San Luis</th>\n",
       "      <td>80</td>\n",
       "    </tr>\n",
       "    <tr>\n",
       "      <th>78</th>\n",
       "      <th>Santa Cruz</th>\n",
       "      <td>46</td>\n",
       "    </tr>\n",
       "    <tr>\n",
       "      <th rowspan=\"2\" valign=\"top\">82</th>\n",
       "      <th>Santa Fe</th>\n",
       "      <td>457</td>\n",
       "    </tr>\n",
       "    <tr>\n",
       "      <th>Santa Fé</th>\n",
       "      <td>1</td>\n",
       "    </tr>\n",
       "    <tr>\n",
       "      <th>86</th>\n",
       "      <th>Santiago del Estero</th>\n",
       "      <td>82</td>\n",
       "    </tr>\n",
       "    <tr>\n",
       "      <th>90</th>\n",
       "      <th>Tucumán</th>\n",
       "      <td>71</td>\n",
       "    </tr>\n",
       "    <tr>\n",
       "      <th rowspan=\"2\" valign=\"top\">94</th>\n",
       "      <th>Tierra del Fuego</th>\n",
       "      <td>12</td>\n",
       "    </tr>\n",
       "    <tr>\n",
       "      <th>Tierra del Fuego, Antártida e Islas del Atlántico Sur</th>\n",
       "      <td>14</td>\n",
       "    </tr>\n",
       "  </tbody>\n",
       "</table>\n",
       "</div>"
      ],
      "text/plain": [
       "                                                                    categoria\n",
       "id_provincia provincia                                                       \n",
       "2            Ciudad Autónoma de Buenos Aires                              210\n",
       "6            Buenos Aires                                                 801\n",
       "10           Catamarca                                                     74\n",
       "14           Córdoba                                                      346\n",
       "18           Corrientes                                                    80\n",
       "22           Chaco                                                        107\n",
       "26           Chubut                                                       102\n",
       "30           Entre Ríos                                                   128\n",
       "34           Formosa                                                       34\n",
       "38           Jujuy                                                         91\n",
       "42           La Pampa                                                     123\n",
       "46           La Rioja                                                      46\n",
       "50           Mendoza                                                      146\n",
       "54           Misiones                                                      78\n",
       "58           Neuquén                                                       75\n",
       "             Neuquén                                                       39\n",
       "             Salta                                                          1\n",
       "62           Río Negro                                                     92\n",
       "66           Salta                                                        109\n",
       "70           San Juan                                                      83\n",
       "74           San Luis                                                      80\n",
       "78           Santa Cruz                                                    46\n",
       "82           Santa Fe                                                     457\n",
       "             Santa Fé                                                       1\n",
       "86           Santiago del Estero                                           82\n",
       "90           Tucumán                                                       71\n",
       "94           Tierra del Fuego                                              12\n",
       "             Tierra del Fuego, Antártida e Islas del Atlántico Sur         14"
      ]
     },
     "execution_count": 20,
     "metadata": {},
     "output_type": "execute_result"
    }
   ],
   "source": [
    "master_df[['id_provincia', 'provincia', 'categoria']].groupby(['id_provincia', 'provincia']).count().sort_values(by='id_provincia')"
   ]
  },
  {
   "cell_type": "code",
   "execution_count": 21,
   "metadata": {},
   "outputs": [
    {
     "data": {
      "text/html": [
       "<div>\n",
       "<style scoped>\n",
       "    .dataframe tbody tr th:only-of-type {\n",
       "        vertical-align: middle;\n",
       "    }\n",
       "\n",
       "    .dataframe tbody tr th {\n",
       "        vertical-align: top;\n",
       "    }\n",
       "\n",
       "    .dataframe thead th {\n",
       "        text-align: right;\n",
       "    }\n",
       "</style>\n",
       "<table border=\"1\" class=\"dataframe\">\n",
       "  <thead>\n",
       "    <tr style=\"text-align: right;\">\n",
       "      <th></th>\n",
       "      <th></th>\n",
       "      <th>categoria</th>\n",
       "    </tr>\n",
       "    <tr>\n",
       "      <th>id_provincia</th>\n",
       "      <th>provincia</th>\n",
       "      <th></th>\n",
       "    </tr>\n",
       "  </thead>\n",
       "  <tbody>\n",
       "    <tr>\n",
       "      <th>2</th>\n",
       "      <th>Ciudad Autónoma de Buenos Aires</th>\n",
       "      <td>210</td>\n",
       "    </tr>\n",
       "    <tr>\n",
       "      <th>6</th>\n",
       "      <th>Buenos Aires</th>\n",
       "      <td>801</td>\n",
       "    </tr>\n",
       "    <tr>\n",
       "      <th>10</th>\n",
       "      <th>Catamarca</th>\n",
       "      <td>74</td>\n",
       "    </tr>\n",
       "    <tr>\n",
       "      <th>14</th>\n",
       "      <th>Córdoba</th>\n",
       "      <td>346</td>\n",
       "    </tr>\n",
       "    <tr>\n",
       "      <th>18</th>\n",
       "      <th>Corrientes</th>\n",
       "      <td>80</td>\n",
       "    </tr>\n",
       "    <tr>\n",
       "      <th>22</th>\n",
       "      <th>Chaco</th>\n",
       "      <td>107</td>\n",
       "    </tr>\n",
       "    <tr>\n",
       "      <th>26</th>\n",
       "      <th>Chubut</th>\n",
       "      <td>102</td>\n",
       "    </tr>\n",
       "    <tr>\n",
       "      <th>30</th>\n",
       "      <th>Entre Ríos</th>\n",
       "      <td>128</td>\n",
       "    </tr>\n",
       "    <tr>\n",
       "      <th>34</th>\n",
       "      <th>Formosa</th>\n",
       "      <td>34</td>\n",
       "    </tr>\n",
       "    <tr>\n",
       "      <th>38</th>\n",
       "      <th>Jujuy</th>\n",
       "      <td>91</td>\n",
       "    </tr>\n",
       "    <tr>\n",
       "      <th>42</th>\n",
       "      <th>La Pampa</th>\n",
       "      <td>123</td>\n",
       "    </tr>\n",
       "    <tr>\n",
       "      <th>46</th>\n",
       "      <th>La Rioja</th>\n",
       "      <td>46</td>\n",
       "    </tr>\n",
       "    <tr>\n",
       "      <th>50</th>\n",
       "      <th>Mendoza</th>\n",
       "      <td>146</td>\n",
       "    </tr>\n",
       "    <tr>\n",
       "      <th>54</th>\n",
       "      <th>Misiones</th>\n",
       "      <td>78</td>\n",
       "    </tr>\n",
       "    <tr>\n",
       "      <th rowspan=\"2\" valign=\"top\">58</th>\n",
       "      <th>Neuquén</th>\n",
       "      <td>114</td>\n",
       "    </tr>\n",
       "    <tr>\n",
       "      <th>Salta</th>\n",
       "      <td>1</td>\n",
       "    </tr>\n",
       "    <tr>\n",
       "      <th>62</th>\n",
       "      <th>Río Negro</th>\n",
       "      <td>92</td>\n",
       "    </tr>\n",
       "    <tr>\n",
       "      <th>66</th>\n",
       "      <th>Salta</th>\n",
       "      <td>109</td>\n",
       "    </tr>\n",
       "    <tr>\n",
       "      <th>70</th>\n",
       "      <th>San Juan</th>\n",
       "      <td>83</td>\n",
       "    </tr>\n",
       "    <tr>\n",
       "      <th>74</th>\n",
       "      <th>San Luis</th>\n",
       "      <td>80</td>\n",
       "    </tr>\n",
       "    <tr>\n",
       "      <th>78</th>\n",
       "      <th>Santa Cruz</th>\n",
       "      <td>46</td>\n",
       "    </tr>\n",
       "    <tr>\n",
       "      <th>82</th>\n",
       "      <th>Santa Fé</th>\n",
       "      <td>458</td>\n",
       "    </tr>\n",
       "    <tr>\n",
       "      <th>86</th>\n",
       "      <th>Santiago del Estero</th>\n",
       "      <td>82</td>\n",
       "    </tr>\n",
       "    <tr>\n",
       "      <th>90</th>\n",
       "      <th>Tucumán</th>\n",
       "      <td>71</td>\n",
       "    </tr>\n",
       "    <tr>\n",
       "      <th>94</th>\n",
       "      <th>Tierra del Fuego, Antártida e Islas del Atlántico Sur</th>\n",
       "      <td>26</td>\n",
       "    </tr>\n",
       "  </tbody>\n",
       "</table>\n",
       "</div>"
      ],
      "text/plain": [
       "                                                                    categoria\n",
       "id_provincia provincia                                                       \n",
       "2            Ciudad Autónoma de Buenos Aires                              210\n",
       "6            Buenos Aires                                                 801\n",
       "10           Catamarca                                                     74\n",
       "14           Córdoba                                                      346\n",
       "18           Corrientes                                                    80\n",
       "22           Chaco                                                        107\n",
       "26           Chubut                                                       102\n",
       "30           Entre Ríos                                                   128\n",
       "34           Formosa                                                       34\n",
       "38           Jujuy                                                         91\n",
       "42           La Pampa                                                     123\n",
       "46           La Rioja                                                      46\n",
       "50           Mendoza                                                      146\n",
       "54           Misiones                                                      78\n",
       "58           Neuquén                                                      114\n",
       "             Salta                                                          1\n",
       "62           Río Negro                                                     92\n",
       "66           Salta                                                        109\n",
       "70           San Juan                                                      83\n",
       "74           San Luis                                                      80\n",
       "78           Santa Cruz                                                    46\n",
       "82           Santa Fé                                                     458\n",
       "86           Santiago del Estero                                           82\n",
       "90           Tucumán                                                       71\n",
       "94           Tierra del Fuego, Antártida e Islas del Atlántico Sur         26"
      ]
     },
     "execution_count": 21,
     "metadata": {},
     "output_type": "execute_result"
    }
   ],
   "source": [
    "def unify_province_names(row):\n",
    "    if row['provincia'] == 'Neuquén\\xa0':\n",
    "        row['provincia'] = 'Neuquén'\n",
    "    elif row['provincia'] == 'Santa Fe':\n",
    "        row['provincia'] = 'Santa Fé'\n",
    "    elif row['provincia'] == 'Tierra del Fuego':\n",
    "        row['provincia'] = 'Tierra del Fuego, Antártida e Islas del Atlántico Sur'\n",
    "    return row\n",
    "master_df = master_df.apply(unify_province_names, axis='columns')\n",
    "\n",
    "master_df[['id_provincia', 'provincia', 'categoria']].groupby(['id_provincia', 'provincia']).count().sort_values(by='id_provincia')"
   ]
  },
  {
   "cell_type": "markdown",
   "metadata": {},
   "source": [
    "- Se detecta una row que tiene Salta con codigo 58, que corresponde a Neuquén. Cambiar a 66\n",
    "### 4° Cambiar cód de Salta en row erronea"
   ]
  },
  {
   "cell_type": "code",
   "execution_count": 22,
   "metadata": {},
   "outputs": [
    {
     "data": {
      "text/html": [
       "<div>\n",
       "<style scoped>\n",
       "    .dataframe tbody tr th:only-of-type {\n",
       "        vertical-align: middle;\n",
       "    }\n",
       "\n",
       "    .dataframe tbody tr th {\n",
       "        vertical-align: top;\n",
       "    }\n",
       "\n",
       "    .dataframe thead th {\n",
       "        text-align: right;\n",
       "    }\n",
       "</style>\n",
       "<table border=\"1\" class=\"dataframe\">\n",
       "  <thead>\n",
       "    <tr style=\"text-align: right;\">\n",
       "      <th></th>\n",
       "      <th>cod_localidad</th>\n",
       "      <th>id_provincia</th>\n",
       "      <th>id_departamento</th>\n",
       "      <th>categoria</th>\n",
       "      <th>provincia</th>\n",
       "      <th>localidad</th>\n",
       "      <th>nombre</th>\n",
       "      <th>domicilio</th>\n",
       "      <th>codigo_postal</th>\n",
       "      <th>mail</th>\n",
       "      <th>web</th>\n",
       "      <th>telefono</th>\n",
       "    </tr>\n",
       "  </thead>\n",
       "  <tbody>\n",
       "    <tr>\n",
       "      <th>860</th>\n",
       "      <td>58035070</td>\n",
       "      <td>58</td>\n",
       "      <td>58035</td>\n",
       "      <td>Espacios de Exhibición Patrimonial</td>\n",
       "      <td>Salta</td>\n",
       "      <td>Salta</td>\n",
       "      <td>Museo Catedralicio</td>\n",
       "      <td>Av. Belgrano 589</td>\n",
       "      <td>NaN</td>\n",
       "      <td>NaN</td>\n",
       "      <td>NaN</td>\n",
       "      <td>NaN</td>\n",
       "    </tr>\n",
       "  </tbody>\n",
       "</table>\n",
       "</div>"
      ],
      "text/plain": [
       "     cod_localidad  id_provincia  id_departamento  \\\n",
       "860       58035070            58            58035   \n",
       "\n",
       "                              categoria provincia localidad  \\\n",
       "860  Espacios de Exhibición Patrimonial     Salta     Salta   \n",
       "\n",
       "                 nombre         domicilio codigo_postal mail  web telefono  \n",
       "860  Museo Catedralicio  Av. Belgrano 589           NaN  NaN  NaN      NaN  "
      ]
     },
     "execution_count": 22,
     "metadata": {},
     "output_type": "execute_result"
    }
   ],
   "source": [
    "# Chequear si lo que está incorrecto es el codigo o el nombre de la pcia.\n",
    "master_df.loc[(master_df['provincia'] == 'Salta') & (master_df['id_provincia'] == 58)]"
   ]
  },
  {
   "cell_type": "code",
   "execution_count": 23,
   "metadata": {},
   "outputs": [
    {
     "data": {
      "text/html": [
       "<div>\n",
       "<style scoped>\n",
       "    .dataframe tbody tr th:only-of-type {\n",
       "        vertical-align: middle;\n",
       "    }\n",
       "\n",
       "    .dataframe tbody tr th {\n",
       "        vertical-align: top;\n",
       "    }\n",
       "\n",
       "    .dataframe thead th {\n",
       "        text-align: right;\n",
       "    }\n",
       "</style>\n",
       "<table border=\"1\" class=\"dataframe\">\n",
       "  <thead>\n",
       "    <tr style=\"text-align: right;\">\n",
       "      <th></th>\n",
       "      <th></th>\n",
       "      <th>categoria</th>\n",
       "    </tr>\n",
       "    <tr>\n",
       "      <th>id_provincia</th>\n",
       "      <th>provincia</th>\n",
       "      <th></th>\n",
       "    </tr>\n",
       "  </thead>\n",
       "  <tbody>\n",
       "    <tr>\n",
       "      <th>2</th>\n",
       "      <th>Ciudad Autónoma de Buenos Aires</th>\n",
       "      <td>210</td>\n",
       "    </tr>\n",
       "    <tr>\n",
       "      <th>6</th>\n",
       "      <th>Buenos Aires</th>\n",
       "      <td>801</td>\n",
       "    </tr>\n",
       "    <tr>\n",
       "      <th>10</th>\n",
       "      <th>Catamarca</th>\n",
       "      <td>74</td>\n",
       "    </tr>\n",
       "    <tr>\n",
       "      <th>14</th>\n",
       "      <th>Córdoba</th>\n",
       "      <td>346</td>\n",
       "    </tr>\n",
       "    <tr>\n",
       "      <th>18</th>\n",
       "      <th>Corrientes</th>\n",
       "      <td>80</td>\n",
       "    </tr>\n",
       "    <tr>\n",
       "      <th>22</th>\n",
       "      <th>Chaco</th>\n",
       "      <td>107</td>\n",
       "    </tr>\n",
       "    <tr>\n",
       "      <th>26</th>\n",
       "      <th>Chubut</th>\n",
       "      <td>102</td>\n",
       "    </tr>\n",
       "    <tr>\n",
       "      <th>30</th>\n",
       "      <th>Entre Ríos</th>\n",
       "      <td>128</td>\n",
       "    </tr>\n",
       "    <tr>\n",
       "      <th>34</th>\n",
       "      <th>Formosa</th>\n",
       "      <td>34</td>\n",
       "    </tr>\n",
       "    <tr>\n",
       "      <th>38</th>\n",
       "      <th>Jujuy</th>\n",
       "      <td>91</td>\n",
       "    </tr>\n",
       "    <tr>\n",
       "      <th>42</th>\n",
       "      <th>La Pampa</th>\n",
       "      <td>123</td>\n",
       "    </tr>\n",
       "    <tr>\n",
       "      <th>46</th>\n",
       "      <th>La Rioja</th>\n",
       "      <td>46</td>\n",
       "    </tr>\n",
       "    <tr>\n",
       "      <th>50</th>\n",
       "      <th>Mendoza</th>\n",
       "      <td>146</td>\n",
       "    </tr>\n",
       "    <tr>\n",
       "      <th>54</th>\n",
       "      <th>Misiones</th>\n",
       "      <td>78</td>\n",
       "    </tr>\n",
       "    <tr>\n",
       "      <th>58</th>\n",
       "      <th>Neuquén</th>\n",
       "      <td>114</td>\n",
       "    </tr>\n",
       "    <tr>\n",
       "      <th>62</th>\n",
       "      <th>Río Negro</th>\n",
       "      <td>92</td>\n",
       "    </tr>\n",
       "    <tr>\n",
       "      <th>66</th>\n",
       "      <th>Salta</th>\n",
       "      <td>110</td>\n",
       "    </tr>\n",
       "    <tr>\n",
       "      <th>70</th>\n",
       "      <th>San Juan</th>\n",
       "      <td>83</td>\n",
       "    </tr>\n",
       "    <tr>\n",
       "      <th>74</th>\n",
       "      <th>San Luis</th>\n",
       "      <td>80</td>\n",
       "    </tr>\n",
       "    <tr>\n",
       "      <th>78</th>\n",
       "      <th>Santa Cruz</th>\n",
       "      <td>46</td>\n",
       "    </tr>\n",
       "    <tr>\n",
       "      <th>82</th>\n",
       "      <th>Santa Fé</th>\n",
       "      <td>458</td>\n",
       "    </tr>\n",
       "    <tr>\n",
       "      <th>86</th>\n",
       "      <th>Santiago del Estero</th>\n",
       "      <td>82</td>\n",
       "    </tr>\n",
       "    <tr>\n",
       "      <th>90</th>\n",
       "      <th>Tucumán</th>\n",
       "      <td>71</td>\n",
       "    </tr>\n",
       "    <tr>\n",
       "      <th>94</th>\n",
       "      <th>Tierra del Fuego, Antártida e Islas del Atlántico Sur</th>\n",
       "      <td>26</td>\n",
       "    </tr>\n",
       "  </tbody>\n",
       "</table>\n",
       "</div>"
      ],
      "text/plain": [
       "                                                                    categoria\n",
       "id_provincia provincia                                                       \n",
       "2            Ciudad Autónoma de Buenos Aires                              210\n",
       "6            Buenos Aires                                                 801\n",
       "10           Catamarca                                                     74\n",
       "14           Córdoba                                                      346\n",
       "18           Corrientes                                                    80\n",
       "22           Chaco                                                        107\n",
       "26           Chubut                                                       102\n",
       "30           Entre Ríos                                                   128\n",
       "34           Formosa                                                       34\n",
       "38           Jujuy                                                         91\n",
       "42           La Pampa                                                     123\n",
       "46           La Rioja                                                      46\n",
       "50           Mendoza                                                      146\n",
       "54           Misiones                                                      78\n",
       "58           Neuquén                                                      114\n",
       "62           Río Negro                                                     92\n",
       "66           Salta                                                        110\n",
       "70           San Juan                                                      83\n",
       "74           San Luis                                                      80\n",
       "78           Santa Cruz                                                    46\n",
       "82           Santa Fé                                                     458\n",
       "86           Santiago del Estero                                           82\n",
       "90           Tucumán                                                       71\n",
       "94           Tierra del Fuego, Antártida e Islas del Atlántico Sur         26"
      ]
     },
     "execution_count": 23,
     "metadata": {},
     "output_type": "execute_result"
    }
   ],
   "source": [
    "master_df.loc[(master_df['provincia'] == 'Salta') & (master_df['id_provincia'] == 58), 'id_provincia'] = 66\n",
    "\n",
    "#chequear con group by\n",
    "master_df[['id_provincia', 'provincia', 'categoria']].groupby(['id_provincia', 'provincia']).count().sort_values(by='id_provincia')"
   ]
  },
  {
   "cell_type": "markdown",
   "metadata": {},
   "source": [
    "- Antes de unificar nulos, chequear que no haya 0s o espacios en blanco en ninguna columna"
   ]
  },
  {
   "cell_type": "code",
   "execution_count": 24,
   "metadata": {},
   "outputs": [
    {
     "data": {
      "text/plain": [
       "'cod_localidad: zero 0'"
      ]
     },
     "metadata": {},
     "output_type": "display_data"
    },
    {
     "data": {
      "text/plain": [
       "'id_provincia: zero 0'"
      ]
     },
     "metadata": {},
     "output_type": "display_data"
    },
    {
     "data": {
      "text/plain": [
       "'id_departamento: zero 0'"
      ]
     },
     "metadata": {},
     "output_type": "display_data"
    },
    {
     "data": {
      "text/plain": [
       "'categoria: empty 0, whitespace 0'"
      ]
     },
     "metadata": {},
     "output_type": "display_data"
    },
    {
     "data": {
      "text/plain": [
       "'provincia: empty 0, whitespace 0'"
      ]
     },
     "metadata": {},
     "output_type": "display_data"
    },
    {
     "data": {
      "text/plain": [
       "'localidad: empty 0, whitespace 0'"
      ]
     },
     "metadata": {},
     "output_type": "display_data"
    },
    {
     "data": {
      "text/plain": [
       "'nombre: empty 0, whitespace 0'"
      ]
     },
     "metadata": {},
     "output_type": "display_data"
    },
    {
     "data": {
      "text/plain": [
       "'domicilio: empty 0, whitespace 0'"
      ]
     },
     "metadata": {},
     "output_type": "display_data"
    },
    {
     "data": {
      "text/plain": [
       "'codigo_postal: empty 0, whitespace 0'"
      ]
     },
     "metadata": {},
     "output_type": "display_data"
    },
    {
     "data": {
      "text/plain": [
       "'mail: empty 0, whitespace 0'"
      ]
     },
     "metadata": {},
     "output_type": "display_data"
    },
    {
     "data": {
      "text/plain": [
       "'web: empty 0, whitespace 0'"
      ]
     },
     "metadata": {},
     "output_type": "display_data"
    },
    {
     "data": {
      "text/plain": [
       "'telefono: empty 0, whitespace 0'"
      ]
     },
     "metadata": {},
     "output_type": "display_data"
    }
   ],
   "source": [
    "from pandas.api.types import is_string_dtype, is_numeric_dtype\n",
    "\n",
    "columns.append('telefono')\n",
    "\n",
    "for column in columns:\n",
    "    if is_string_dtype(master_df[column]):\n",
    "        # Para str chequeo espacio en blanco y vacio\n",
    "        empty_count = master_df.loc[master_df[column] == '', column].count()\n",
    "        whitespace_count = master_df.loc[master_df[column] == ' ', column].count()        \n",
    "        display(f'{column}: empty {empty_count}, whitespace {whitespace_count}')\n",
    "    elif is_numeric_dtype(master_df[column]):\n",
    "        # Para numeric chequeo 0\n",
    "        zero_count = master_df.loc[master_df[column] == 0, column].count()\n",
    "        display(f'{column}: zero {zero_count}')"
   ]
  },
  {
   "cell_type": "markdown",
   "metadata": {},
   "source": [
    "### 5° Unificar nulos"
   ]
  },
  {
   "cell_type": "code",
   "execution_count": 25,
   "metadata": {},
   "outputs": [
    {
     "data": {
      "text/plain": [
       "Sarmiento               10\n",
       "San Martín               9\n",
       "25 de mayo               5\n",
       "9 de julio               5\n",
       "Sarmiento 450            4\n",
       "                        ..\n",
       "Junín 2238               1\n",
       "Chubut y O.del Sur       1\n",
       "Ruta 36 Km 3             1\n",
       "Av. José Roberti 363     1\n",
       "Ernesto Padilla S/N      1\n",
       "Name: domicilio, Length: 3367, dtype: int64"
      ]
     },
     "metadata": {},
     "output_type": "display_data"
    },
    {
     "data": {
      "text/plain": [
       "rmazzutti@hoyts.com.ar                      11\n",
       "iventura@cinemark.com.ar                     9\n",
       "info@atlascines.com.ar                       5\n",
       "diversidad.cultural@santafeciudad.gov.ar     4\n",
       "fharari@hotmail.com.ar                       4\n",
       "                                            ..\n",
       "dirrecioncultura@52.coopenet.com.ar          1\n",
       "biblio2945amenabar@hotmail.com               1\n",
       "bibliotecahoracioquiroga@live.com            1\n",
       "bibliotecalugones@bombal.net.ar              1\n",
       "museoejercitotucuman@hotmail.com             1\n",
       "Name: mail, Length: 1978, dtype: int64"
      ]
     },
     "metadata": {},
     "output_type": "display_data"
    },
    {
     "data": {
      "text/plain": [
       "http://www.cinemacenter.com.ar/                                                       17\n",
       "https://www.cinemarkhoyts.com.ar/                                                     11\n",
       "https://www.cinemarkhoyts.com.ar                                                      10\n",
       "https://www.villagecines.com/                                                          8\n",
       "cineatlasweb.com.ar                                                                    7\n",
       "                                                                                      ..\n",
       "https://twitter.com/cineteatroalfa                                                     1\n",
       "https://www.facebook.com/pg/CineAHZ/about/?ref=page_internal                           1\n",
       "https://www.facebook.com/pg/Cines-Avenida-112830095434025/about/?ref=page_internal     1\n",
       "https://www.facebook.com/cine.italia/                                                  1\n",
       "www.casaindependencia.com.ar                                                           1\n",
       "Name: web, Length: 306, dtype: int64"
      ]
     },
     "metadata": {},
     "output_type": "display_data"
    }
   ],
   "source": [
    "#Domicilio: tiene 18 nulos + 30 'Sin dirección', convertir a nulos\n",
    "#Web tiene 3124 nulos y 16 valores 's/d', convertir a nulos\n",
    "#Mail tiene 918 nulos y 561 's/d', convertir a nulos\n",
    "\n",
    "def convert_text_nulls_to_nan(row):\n",
    "    nulls = ['sin dirección', 's/d']\n",
    "    if str(row['domicilio']).strip().lower() in nulls:\n",
    "        row['domicilio'] = np.nan\n",
    "    if str(row['web']).strip().lower() in nulls:\n",
    "        row['web'] = np.nan\n",
    "    if str(row['mail']).strip().lower() in nulls:\n",
    "        row['mail'] = np.nan\n",
    "    return row\n",
    "\n",
    "master_df = master_df.apply(convert_text_nulls_to_nan, axis='columns')\n",
    "# Check\n",
    "display(master_df['domicilio'].value_counts())\n",
    "display(master_df['mail'].value_counts())\n",
    "display(master_df['web'].value_counts())\n",
    "\n"
   ]
  },
  {
   "cell_type": "markdown",
   "metadata": {},
   "source": [
    "### 6° Quitar .0 de CP"
   ]
  },
  {
   "cell_type": "code",
   "execution_count": 26,
   "metadata": {},
   "outputs": [
    {
     "data": {
      "text/plain": [
       "dtype('O')"
      ]
     },
     "metadata": {},
     "output_type": "display_data"
    },
    {
     "data": {
      "text/plain": [
       "863     A4427AQP\n",
       "753     M5533XAZ\n",
       "679       5139.0\n",
       "997         2132\n",
       "1315      8353.0\n",
       "1144    V9420LCK\n",
       "Name: codigo_postal, dtype: object"
      ]
     },
     "execution_count": 26,
     "metadata": {},
     "output_type": "execute_result"
    }
   ],
   "source": [
    "display(master_df['codigo_postal'].dtype)\n",
    "master_df['codigo_postal'].sample(6)"
   ]
  },
  {
   "cell_type": "code",
   "execution_count": 27,
   "metadata": {},
   "outputs": [
    {
     "data": {
      "text/plain": [
       "109         3572\n",
       "128         8103\n",
       "1535         NaN\n",
       "1018    S2300LND\n",
       "1142        2535\n",
       "782         4220\n",
       "Name: codigo_postal, dtype: object"
      ]
     },
     "execution_count": 27,
     "metadata": {},
     "output_type": "execute_result"
    }
   ],
   "source": [
    "master_df['codigo_postal'] = master_df['codigo_postal'].map(lambda x: str(x)[:-2] if str(x).find('.0') != -1 else x)\n",
    "master_df['codigo_postal'].sample(6)"
   ]
  },
  {
   "cell_type": "markdown",
   "metadata": {},
   "source": [
    "## B) Transformaciones para resumen dataset"
   ]
  },
  {
   "cell_type": "markdown",
   "metadata": {},
   "source": [
    "### 1° Cantidad de registros totales por categoria"
   ]
  },
  {
   "cell_type": "code",
   "execution_count": 59,
   "metadata": {},
   "outputs": [
    {
     "data": {
      "text/html": [
       "<div>\n",
       "<style scoped>\n",
       "    .dataframe tbody tr th:only-of-type {\n",
       "        vertical-align: middle;\n",
       "    }\n",
       "\n",
       "    .dataframe tbody tr th {\n",
       "        vertical-align: top;\n",
       "    }\n",
       "\n",
       "    .dataframe thead th {\n",
       "        text-align: right;\n",
       "    }\n",
       "</style>\n",
       "<table border=\"1\" class=\"dataframe\">\n",
       "  <thead>\n",
       "    <tr style=\"text-align: right;\">\n",
       "      <th></th>\n",
       "      <th>etiqueta</th>\n",
       "      <th>valor</th>\n",
       "      <th>total</th>\n",
       "    </tr>\n",
       "  </thead>\n",
       "  <tbody>\n",
       "    <tr>\n",
       "      <th>0</th>\n",
       "      <td>categoria</td>\n",
       "      <td>Bibliotecas Populares</td>\n",
       "      <td>2017</td>\n",
       "    </tr>\n",
       "    <tr>\n",
       "      <th>1</th>\n",
       "      <td>categoria</td>\n",
       "      <td>Espacios de Exhibición Patrimonial</td>\n",
       "      <td>1182</td>\n",
       "    </tr>\n",
       "    <tr>\n",
       "      <th>2</th>\n",
       "      <td>categoria</td>\n",
       "      <td>Salas de cine</td>\n",
       "      <td>329</td>\n",
       "    </tr>\n",
       "  </tbody>\n",
       "</table>\n",
       "</div>"
      ],
      "text/plain": [
       "    etiqueta                               valor  total\n",
       "0  categoria               Bibliotecas Populares   2017\n",
       "1  categoria  Espacios de Exhibición Patrimonial   1182\n",
       "2  categoria                       Salas de cine    329"
      ]
     },
     "execution_count": 59,
     "metadata": {},
     "output_type": "execute_result"
    }
   ],
   "source": [
    "# Cantidad de registros totales por categoría\n",
    "df_totales_categoria = master_df[['id_provincia', 'categoria']].groupby('categoria').count()\n",
    "df_resumen = pd.DataFrame(\n",
    "    {\n",
    "        'etiqueta': ['categoria']*3,\n",
    "        'valor': df_totales_categoria.index,\n",
    "        'total': df_totales_categoria['id_provincia']\n",
    "    }\n",
    ")\n",
    "\n",
    "df_resumen.reset_index(inplace=True)\n",
    "df_resumen.drop(['categoria'], inplace=True, axis='columns')\n",
    "df_resumen"
   ]
  },
  {
   "cell_type": "markdown",
   "metadata": {},
   "source": [
    "### 2° Cantidad de registros totales por fuente"
   ]
  },
  {
   "cell_type": "code",
   "execution_count": 60,
   "metadata": {},
   "outputs": [
    {
     "data": {
      "text/plain": [
       "'Bibliotecas: 2017'"
      ]
     },
     "metadata": {},
     "output_type": "display_data"
    },
    {
     "data": {
      "text/plain": [
       "'Cines: 329'"
      ]
     },
     "metadata": {},
     "output_type": "display_data"
    },
    {
     "data": {
      "text/plain": [
       "'Museos: 1182'"
      ]
     },
     "metadata": {},
     "output_type": "display_data"
    },
    {
     "data": {
      "text/html": [
       "<div>\n",
       "<style scoped>\n",
       "    .dataframe tbody tr th:only-of-type {\n",
       "        vertical-align: middle;\n",
       "    }\n",
       "\n",
       "    .dataframe tbody tr th {\n",
       "        vertical-align: top;\n",
       "    }\n",
       "\n",
       "    .dataframe thead th {\n",
       "        text-align: right;\n",
       "    }\n",
       "</style>\n",
       "<table border=\"1\" class=\"dataframe\">\n",
       "  <thead>\n",
       "    <tr style=\"text-align: right;\">\n",
       "      <th></th>\n",
       "      <th>etiqueta</th>\n",
       "      <th>valor</th>\n",
       "      <th>total</th>\n",
       "    </tr>\n",
       "  </thead>\n",
       "  <tbody>\n",
       "    <tr>\n",
       "      <th>0</th>\n",
       "      <td>fuente</td>\n",
       "      <td>bibliotecas</td>\n",
       "      <td>2017</td>\n",
       "    </tr>\n",
       "    <tr>\n",
       "      <th>1</th>\n",
       "      <td>fuente</td>\n",
       "      <td>cines</td>\n",
       "      <td>329</td>\n",
       "    </tr>\n",
       "    <tr>\n",
       "      <th>2</th>\n",
       "      <td>fuente</td>\n",
       "      <td>museos</td>\n",
       "      <td>1182</td>\n",
       "    </tr>\n",
       "  </tbody>\n",
       "</table>\n",
       "</div>"
      ],
      "text/plain": [
       "  etiqueta        valor  total\n",
       "0   fuente  bibliotecas   2017\n",
       "1   fuente        cines    329\n",
       "2   fuente       museos   1182"
      ]
     },
     "execution_count": 60,
     "metadata": {},
     "output_type": "execute_result"
    }
   ],
   "source": [
    "# Cantidad de registros totales por fuente\n",
    "\n",
    "display(f'Bibliotecas: {bibliotecas_df.shape[0]}')\n",
    "display(f'Cines: {cines_df.shape[0]}')\n",
    "display(f'Museos: {museos_df.shape[0]}')\n",
    "df_resumen2 = pd.DataFrame(\n",
    "    {\n",
    "        'etiqueta': ['fuente']*3,\n",
    "        'valor': ['bibliotecas', 'cines', 'museos'],\n",
    "        'total': [bibliotecas_df.shape[0], cines_df.shape[0], museos_df.shape[0]]\n",
    "    } \n",
    ")\n",
    "df_resumen2"
   ]
  },
  {
   "cell_type": "markdown",
   "metadata": {},
   "source": [
    "### 3° Cantidad de registros por provincia y categoria"
   ]
  },
  {
   "cell_type": "code",
   "execution_count": 56,
   "metadata": {},
   "outputs": [
    {
     "data": {
      "text/html": [
       "<div>\n",
       "<style scoped>\n",
       "    .dataframe tbody tr th:only-of-type {\n",
       "        vertical-align: middle;\n",
       "    }\n",
       "\n",
       "    .dataframe tbody tr th {\n",
       "        vertical-align: top;\n",
       "    }\n",
       "\n",
       "    .dataframe thead th {\n",
       "        text-align: right;\n",
       "    }\n",
       "</style>\n",
       "<table border=\"1\" class=\"dataframe\">\n",
       "  <thead>\n",
       "    <tr style=\"text-align: right;\">\n",
       "      <th></th>\n",
       "      <th></th>\n",
       "      <th>id_provincia</th>\n",
       "    </tr>\n",
       "    <tr>\n",
       "      <th>provincia</th>\n",
       "      <th>categoria</th>\n",
       "      <th></th>\n",
       "    </tr>\n",
       "  </thead>\n",
       "  <tbody>\n",
       "    <tr>\n",
       "      <th rowspan=\"3\" valign=\"top\">Buenos Aires</th>\n",
       "      <th>Bibliotecas Populares</th>\n",
       "      <td>543</td>\n",
       "    </tr>\n",
       "    <tr>\n",
       "      <th>Espacios de Exhibición Patrimonial</th>\n",
       "      <td>152</td>\n",
       "    </tr>\n",
       "    <tr>\n",
       "      <th>Salas de cine</th>\n",
       "      <td>106</td>\n",
       "    </tr>\n",
       "    <tr>\n",
       "      <th rowspan=\"2\" valign=\"top\">Catamarca</th>\n",
       "      <th>Bibliotecas Populares</th>\n",
       "      <td>38</td>\n",
       "    </tr>\n",
       "    <tr>\n",
       "      <th>Espacios de Exhibición Patrimonial</th>\n",
       "      <td>32</td>\n",
       "    </tr>\n",
       "    <tr>\n",
       "      <th>...</th>\n",
       "      <th>...</th>\n",
       "      <td>...</td>\n",
       "    </tr>\n",
       "    <tr>\n",
       "      <th rowspan=\"2\" valign=\"top\">Tierra del Fuego, Antártida e Islas del Atlántico Sur</th>\n",
       "      <th>Espacios de Exhibición Patrimonial</th>\n",
       "      <td>14</td>\n",
       "    </tr>\n",
       "    <tr>\n",
       "      <th>Salas de cine</th>\n",
       "      <td>3</td>\n",
       "    </tr>\n",
       "    <tr>\n",
       "      <th rowspan=\"3\" valign=\"top\">Tucumán</th>\n",
       "      <th>Bibliotecas Populares</th>\n",
       "      <td>37</td>\n",
       "    </tr>\n",
       "    <tr>\n",
       "      <th>Espacios de Exhibición Patrimonial</th>\n",
       "      <td>26</td>\n",
       "    </tr>\n",
       "    <tr>\n",
       "      <th>Salas de cine</th>\n",
       "      <td>8</td>\n",
       "    </tr>\n",
       "  </tbody>\n",
       "</table>\n",
       "<p>72 rows × 1 columns</p>\n",
       "</div>"
      ],
      "text/plain": [
       "                                                                                          id_provincia\n",
       "provincia                                             categoria                                       \n",
       "Buenos Aires                                          Bibliotecas Populares                        543\n",
       "                                                      Espacios de Exhibición Patrimonial           152\n",
       "                                                      Salas de cine                                106\n",
       "Catamarca                                             Bibliotecas Populares                         38\n",
       "                                                      Espacios de Exhibición Patrimonial            32\n",
       "...                                                                                                ...\n",
       "Tierra del Fuego, Antártida e Islas del Atlántico Sur Espacios de Exhibición Patrimonial            14\n",
       "                                                      Salas de cine                                  3\n",
       "Tucumán                                               Bibliotecas Populares                         37\n",
       "                                                      Espacios de Exhibición Patrimonial            26\n",
       "                                                      Salas de cine                                  8\n",
       "\n",
       "[72 rows x 1 columns]"
      ]
     },
     "metadata": {},
     "output_type": "display_data"
    }
   ],
   "source": [
    "# Cantidad de registros por provincia y categoría\n",
    "df_totales_prov_categoria = master_df[['id_provincia', 'provincia', 'categoria']].groupby(['provincia','categoria']).count()\n",
    "display(df_totales_prov_categoria)\n",
    "values = ['_'.join(row) for row in df_totales_prov_categoria.index]"
   ]
  },
  {
   "cell_type": "code",
   "execution_count": 58,
   "metadata": {},
   "outputs": [
    {
     "data": {
      "text/html": [
       "<div>\n",
       "<style scoped>\n",
       "    .dataframe tbody tr th:only-of-type {\n",
       "        vertical-align: middle;\n",
       "    }\n",
       "\n",
       "    .dataframe tbody tr th {\n",
       "        vertical-align: top;\n",
       "    }\n",
       "\n",
       "    .dataframe thead th {\n",
       "        text-align: right;\n",
       "    }\n",
       "</style>\n",
       "<table border=\"1\" class=\"dataframe\">\n",
       "  <thead>\n",
       "    <tr style=\"text-align: right;\">\n",
       "      <th></th>\n",
       "      <th>etiqueta</th>\n",
       "      <th>valor</th>\n",
       "      <th>total</th>\n",
       "    </tr>\n",
       "  </thead>\n",
       "  <tbody>\n",
       "    <tr>\n",
       "      <th>0</th>\n",
       "      <td>provincia_categoria</td>\n",
       "      <td>Buenos Aires_Bibliotecas Populares</td>\n",
       "      <td>543</td>\n",
       "    </tr>\n",
       "    <tr>\n",
       "      <th>1</th>\n",
       "      <td>provincia_categoria</td>\n",
       "      <td>Buenos Aires_Espacios de Exhibición Patrimonial</td>\n",
       "      <td>152</td>\n",
       "    </tr>\n",
       "    <tr>\n",
       "      <th>2</th>\n",
       "      <td>provincia_categoria</td>\n",
       "      <td>Buenos Aires_Salas de cine</td>\n",
       "      <td>106</td>\n",
       "    </tr>\n",
       "    <tr>\n",
       "      <th>3</th>\n",
       "      <td>provincia_categoria</td>\n",
       "      <td>Catamarca_Bibliotecas Populares</td>\n",
       "      <td>38</td>\n",
       "    </tr>\n",
       "    <tr>\n",
       "      <th>4</th>\n",
       "      <td>provincia_categoria</td>\n",
       "      <td>Catamarca_Espacios de Exhibición Patrimonial</td>\n",
       "      <td>32</td>\n",
       "    </tr>\n",
       "    <tr>\n",
       "      <th>...</th>\n",
       "      <td>...</td>\n",
       "      <td>...</td>\n",
       "      <td>...</td>\n",
       "    </tr>\n",
       "    <tr>\n",
       "      <th>67</th>\n",
       "      <td>provincia_categoria</td>\n",
       "      <td>Tierra del Fuego, Antártida e Islas del Atlántico Sur_Espacios de Exhibición Patrimonial</td>\n",
       "      <td>14</td>\n",
       "    </tr>\n",
       "    <tr>\n",
       "      <th>68</th>\n",
       "      <td>provincia_categoria</td>\n",
       "      <td>Tierra del Fuego, Antártida e Islas del Atlántico Sur_Salas de cine</td>\n",
       "      <td>3</td>\n",
       "    </tr>\n",
       "    <tr>\n",
       "      <th>69</th>\n",
       "      <td>provincia_categoria</td>\n",
       "      <td>Tucumán_Bibliotecas Populares</td>\n",
       "      <td>37</td>\n",
       "    </tr>\n",
       "    <tr>\n",
       "      <th>70</th>\n",
       "      <td>provincia_categoria</td>\n",
       "      <td>Tucumán_Espacios de Exhibición Patrimonial</td>\n",
       "      <td>26</td>\n",
       "    </tr>\n",
       "    <tr>\n",
       "      <th>71</th>\n",
       "      <td>provincia_categoria</td>\n",
       "      <td>Tucumán_Salas de cine</td>\n",
       "      <td>8</td>\n",
       "    </tr>\n",
       "  </tbody>\n",
       "</table>\n",
       "<p>72 rows × 3 columns</p>\n",
       "</div>"
      ],
      "text/plain": [
       "               etiqueta  \\\n",
       "0   provincia_categoria   \n",
       "1   provincia_categoria   \n",
       "2   provincia_categoria   \n",
       "3   provincia_categoria   \n",
       "4   provincia_categoria   \n",
       "..                  ...   \n",
       "67  provincia_categoria   \n",
       "68  provincia_categoria   \n",
       "69  provincia_categoria   \n",
       "70  provincia_categoria   \n",
       "71  provincia_categoria   \n",
       "\n",
       "                                                                                       valor  \\\n",
       "0                                                         Buenos Aires_Bibliotecas Populares   \n",
       "1                                            Buenos Aires_Espacios de Exhibición Patrimonial   \n",
       "2                                                                 Buenos Aires_Salas de cine   \n",
       "3                                                            Catamarca_Bibliotecas Populares   \n",
       "4                                               Catamarca_Espacios de Exhibición Patrimonial   \n",
       "..                                                                                       ...   \n",
       "67  Tierra del Fuego, Antártida e Islas del Atlántico Sur_Espacios de Exhibición Patrimonial   \n",
       "68                       Tierra del Fuego, Antártida e Islas del Atlántico Sur_Salas de cine   \n",
       "69                                                             Tucumán_Bibliotecas Populares   \n",
       "70                                                Tucumán_Espacios de Exhibición Patrimonial   \n",
       "71                                                                     Tucumán_Salas de cine   \n",
       "\n",
       "    total  \n",
       "0     543  \n",
       "1     152  \n",
       "2     106  \n",
       "3      38  \n",
       "4      32  \n",
       "..    ...  \n",
       "67     14  \n",
       "68      3  \n",
       "69     37  \n",
       "70     26  \n",
       "71      8  \n",
       "\n",
       "[72 rows x 3 columns]"
      ]
     },
     "execution_count": 58,
     "metadata": {},
     "output_type": "execute_result"
    }
   ],
   "source": [
    "df_resumen3 = pd.DataFrame(\n",
    "        {\n",
    "        'etiqueta': ['provincia_categoria']*df_totales_prov_categoria.shape[0],\n",
    "        'valor': ['_'.join(row) for row in df_totales_prov_categoria.index],\n",
    "        'total': df_totales_prov_categoria['id_provincia']\n",
    "    }\n",
    ")\n",
    "df_resumen3.reset_index(inplace=True)\n",
    "df_resumen3.drop(['provincia', 'categoria'], inplace=True, axis='columns')\n",
    "df_resumen3"
   ]
  },
  {
   "cell_type": "code",
   "execution_count": 63,
   "metadata": {},
   "outputs": [
    {
     "data": {
      "text/html": [
       "<div>\n",
       "<style scoped>\n",
       "    .dataframe tbody tr th:only-of-type {\n",
       "        vertical-align: middle;\n",
       "    }\n",
       "\n",
       "    .dataframe tbody tr th {\n",
       "        vertical-align: top;\n",
       "    }\n",
       "\n",
       "    .dataframe thead th {\n",
       "        text-align: right;\n",
       "    }\n",
       "</style>\n",
       "<table border=\"1\" class=\"dataframe\">\n",
       "  <thead>\n",
       "    <tr style=\"text-align: right;\">\n",
       "      <th></th>\n",
       "      <th>etiqueta</th>\n",
       "      <th>valor</th>\n",
       "      <th>total</th>\n",
       "    </tr>\n",
       "  </thead>\n",
       "  <tbody>\n",
       "    <tr>\n",
       "      <th>0</th>\n",
       "      <td>categoria</td>\n",
       "      <td>Bibliotecas Populares</td>\n",
       "      <td>2017</td>\n",
       "    </tr>\n",
       "    <tr>\n",
       "      <th>1</th>\n",
       "      <td>categoria</td>\n",
       "      <td>Espacios de Exhibición Patrimonial</td>\n",
       "      <td>1182</td>\n",
       "    </tr>\n",
       "    <tr>\n",
       "      <th>2</th>\n",
       "      <td>categoria</td>\n",
       "      <td>Salas de cine</td>\n",
       "      <td>329</td>\n",
       "    </tr>\n",
       "    <tr>\n",
       "      <th>0</th>\n",
       "      <td>fuente</td>\n",
       "      <td>bibliotecas</td>\n",
       "      <td>2017</td>\n",
       "    </tr>\n",
       "    <tr>\n",
       "      <th>1</th>\n",
       "      <td>fuente</td>\n",
       "      <td>cines</td>\n",
       "      <td>329</td>\n",
       "    </tr>\n",
       "    <tr>\n",
       "      <th>...</th>\n",
       "      <td>...</td>\n",
       "      <td>...</td>\n",
       "      <td>...</td>\n",
       "    </tr>\n",
       "    <tr>\n",
       "      <th>67</th>\n",
       "      <td>provincia_categoria</td>\n",
       "      <td>Tierra del Fuego, Antártida e Islas del Atlántico Sur_Espacios de Exhibición Patrimonial</td>\n",
       "      <td>14</td>\n",
       "    </tr>\n",
       "    <tr>\n",
       "      <th>68</th>\n",
       "      <td>provincia_categoria</td>\n",
       "      <td>Tierra del Fuego, Antártida e Islas del Atlántico Sur_Salas de cine</td>\n",
       "      <td>3</td>\n",
       "    </tr>\n",
       "    <tr>\n",
       "      <th>69</th>\n",
       "      <td>provincia_categoria</td>\n",
       "      <td>Tucumán_Bibliotecas Populares</td>\n",
       "      <td>37</td>\n",
       "    </tr>\n",
       "    <tr>\n",
       "      <th>70</th>\n",
       "      <td>provincia_categoria</td>\n",
       "      <td>Tucumán_Espacios de Exhibición Patrimonial</td>\n",
       "      <td>26</td>\n",
       "    </tr>\n",
       "    <tr>\n",
       "      <th>71</th>\n",
       "      <td>provincia_categoria</td>\n",
       "      <td>Tucumán_Salas de cine</td>\n",
       "      <td>8</td>\n",
       "    </tr>\n",
       "  </tbody>\n",
       "</table>\n",
       "<p>78 rows × 3 columns</p>\n",
       "</div>"
      ],
      "text/plain": [
       "               etiqueta  \\\n",
       "0             categoria   \n",
       "1             categoria   \n",
       "2             categoria   \n",
       "0                fuente   \n",
       "1                fuente   \n",
       "..                  ...   \n",
       "67  provincia_categoria   \n",
       "68  provincia_categoria   \n",
       "69  provincia_categoria   \n",
       "70  provincia_categoria   \n",
       "71  provincia_categoria   \n",
       "\n",
       "                                                                                       valor  \\\n",
       "0                                                                      Bibliotecas Populares   \n",
       "1                                                         Espacios de Exhibición Patrimonial   \n",
       "2                                                                              Salas de cine   \n",
       "0                                                                                bibliotecas   \n",
       "1                                                                                      cines   \n",
       "..                                                                                       ...   \n",
       "67  Tierra del Fuego, Antártida e Islas del Atlántico Sur_Espacios de Exhibición Patrimonial   \n",
       "68                       Tierra del Fuego, Antártida e Islas del Atlántico Sur_Salas de cine   \n",
       "69                                                             Tucumán_Bibliotecas Populares   \n",
       "70                                                Tucumán_Espacios de Exhibición Patrimonial   \n",
       "71                                                                     Tucumán_Salas de cine   \n",
       "\n",
       "    total  \n",
       "0    2017  \n",
       "1    1182  \n",
       "2     329  \n",
       "0    2017  \n",
       "1     329  \n",
       "..    ...  \n",
       "67     14  \n",
       "68      3  \n",
       "69     37  \n",
       "70     26  \n",
       "71      8  \n",
       "\n",
       "[78 rows x 3 columns]"
      ]
     },
     "execution_count": 63,
     "metadata": {},
     "output_type": "execute_result"
    }
   ],
   "source": [
    "# Concat all three to make the final summary df\n",
    "df_summary = pd.concat([df_resumen, df_resumen2, df_resumen3], axis='rows', copy=True)\n",
    "df_summary"
   ]
  }
 ],
 "metadata": {
  "kernelspec": {
   "display_name": "Python 3.10.7 ('env': venv)",
   "language": "python",
   "name": "python3"
  },
  "language_info": {
   "codemirror_mode": {
    "name": "ipython",
    "version": 3
   },
   "file_extension": ".py",
   "mimetype": "text/x-python",
   "name": "python",
   "nbconvert_exporter": "python",
   "pygments_lexer": "ipython3",
   "version": "3.10.7"
  },
  "orig_nbformat": 4,
  "vscode": {
   "interpreter": {
    "hash": "40dcbba769bc9945f786c3e32445bfe66f4f516dde2c4cd41e92be9e1dbce03f"
   }
  }
 },
 "nbformat": 4,
 "nbformat_minor": 2
}
