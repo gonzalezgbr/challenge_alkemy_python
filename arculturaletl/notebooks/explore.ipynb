{
 "cells": [
  {
   "cell_type": "markdown",
   "metadata": {},
   "source": [
    "# Notebook para explorar datos y definir acciones a ejecutar en transform.py"
   ]
  },
  {
   "cell_type": "code",
   "execution_count": 28,
   "metadata": {},
   "outputs": [
    {
     "data": {
      "text/plain": [
       "Index(['Cod_Loc', 'IdProvincia', 'IdDepartamento', 'Observacion', 'Categoría',\n",
       "       'Subcategoria', 'Provincia', 'Departamento', 'Localidad', 'Nombre',\n",
       "       'Domicilio', 'Piso', 'CP', 'Cod_tel', 'Teléfono', 'Mail', 'Web',\n",
       "       'Información adicional', 'Latitud', 'Longitud', 'TipoLatitudLongitud',\n",
       "       'Fuente', 'Tipo_gestion', 'año_inicio', 'Año_actualizacion'],\n",
       "      dtype='object')"
      ]
     },
     "metadata": {},
     "output_type": "display_data"
    },
    {
     "data": {
      "text/plain": [
       "(2017, 25)"
      ]
     },
     "metadata": {},
     "output_type": "display_data"
    },
    {
     "data": {
      "text/plain": [
       "Index(['Cod_Loc', 'IdProvincia', 'IdDepartamento', 'Observaciones',\n",
       "       'Categoría', 'Provincia', 'Departamento', 'Localidad', 'Nombre',\n",
       "       'Dirección', 'Piso', 'CP', 'cod_area', 'Teléfono', 'Mail', 'Web',\n",
       "       'Información adicional', 'Latitud', 'Longitud', 'TipoLatitudLongitud',\n",
       "       'Fuente', 'tipo_gestion', 'Pantallas', 'Butacas', 'espacio_INCAA',\n",
       "       'año_actualizacion'],\n",
       "      dtype='object')"
      ]
     },
     "metadata": {},
     "output_type": "display_data"
    },
    {
     "data": {
      "text/plain": [
       "(329, 26)"
      ]
     },
     "metadata": {},
     "output_type": "display_data"
    },
    {
     "data": {
      "text/plain": [
       "Index(['Cod_Loc', 'IdProvincia', 'IdDepartamento', 'Observaciones',\n",
       "       'categoria', 'subcategoria', 'provincia', 'localidad', 'nombre',\n",
       "       'direccion', 'piso', 'CP', 'cod_area', 'telefono', 'Mail', 'Web',\n",
       "       'Latitud', 'Longitud', 'TipoLatitudLongitud', 'Info_adicional',\n",
       "       'fuente', 'jurisdiccion', 'año_inauguracion', 'actualizacion'],\n",
       "      dtype='object')"
      ]
     },
     "metadata": {},
     "output_type": "display_data"
    },
    {
     "data": {
      "text/plain": [
       "(1182, 24)"
      ]
     },
     "metadata": {},
     "output_type": "display_data"
    }
   ],
   "source": [
    "import numpy as np\n",
    "import pandas as pd\n",
    "pd.set_option('display.max_colwidth', None)\n",
    "\n",
    "# Cargar dfs\n",
    "df_bibliotecas_path = '../data/bibliotecas/2022-octubre/bibliotecas-07-10-2022.csv'\n",
    "df_cines_path = '../data/cines/2022-octubre/cines-07-10-2022.csv'\n",
    "df_museos_path = '../data/museos/2022-octubre/museos-07-10-2022.csv'\n",
    "\n",
    "bibliotecas_df = pd.read_csv(df_bibliotecas_path, encoding='utf8')\n",
    "cines_df = pd.read_csv(df_cines_path, encoding='utf8')\n",
    "museos_df = pd.read_csv(df_museos_path, encoding='utf8')\n",
    "\n",
    "# Ver tamaños y columnas de cada uno\n",
    "dfs = [bibliotecas_df, cines_df, museos_df]\n",
    "for df in dfs:\n",
    "    display(df.columns)\n",
    "    display(df.shape)"
   ]
  },
  {
   "cell_type": "markdown",
   "metadata": {},
   "source": [
    "## Transformaciones para master dataset\n",
    "### 1° Unificar nombres de columnas comunes requeridas entre los 3 dfs"
   ]
  },
  {
   "cell_type": "code",
   "execution_count": 29,
   "metadata": {},
   "outputs": [
    {
     "data": {
      "text/plain": [
       "Index(['Cod_Loc', 'IdProvincia', 'IdDepartamento', 'Categoría', 'Provincia',\n",
       "       'Localidad', 'Nombre', 'Domicilio', 'CP', 'Cod_tel', 'Teléfono', 'Mail',\n",
       "       'Web'],\n",
       "      dtype='object')"
      ]
     },
     "metadata": {},
     "output_type": "display_data"
    },
    {
     "data": {
      "text/plain": [
       "(3528, 13)"
      ]
     },
     "metadata": {},
     "output_type": "display_data"
    },
    {
     "data": {
      "text/html": [
       "<div>\n",
       "<style scoped>\n",
       "    .dataframe tbody tr th:only-of-type {\n",
       "        vertical-align: middle;\n",
       "    }\n",
       "\n",
       "    .dataframe tbody tr th {\n",
       "        vertical-align: top;\n",
       "    }\n",
       "\n",
       "    .dataframe thead th {\n",
       "        text-align: right;\n",
       "    }\n",
       "</style>\n",
       "<table border=\"1\" class=\"dataframe\">\n",
       "  <thead>\n",
       "    <tr style=\"text-align: right;\">\n",
       "      <th></th>\n",
       "      <th>Cod_Loc</th>\n",
       "      <th>IdProvincia</th>\n",
       "      <th>IdDepartamento</th>\n",
       "      <th>Categoría</th>\n",
       "      <th>Provincia</th>\n",
       "      <th>Localidad</th>\n",
       "      <th>Nombre</th>\n",
       "      <th>Domicilio</th>\n",
       "      <th>CP</th>\n",
       "      <th>Cod_tel</th>\n",
       "      <th>Teléfono</th>\n",
       "      <th>Mail</th>\n",
       "      <th>Web</th>\n",
       "    </tr>\n",
       "  </thead>\n",
       "  <tbody>\n",
       "    <tr>\n",
       "      <th>1143</th>\n",
       "      <td>94007010</td>\n",
       "      <td>94</td>\n",
       "      <td>94007</td>\n",
       "      <td>Espacios de Exhibición Patrimonial</td>\n",
       "      <td>Tierra del Fuego, Antártida e Islas del Atlántico Sur</td>\n",
       "      <td>Río Grande</td>\n",
       "      <td>Museo Fueguino De Arte</td>\n",
       "      <td>Av. Belgrano Nº 319</td>\n",
       "      <td>V9420BBA</td>\n",
       "      <td>2964.0</td>\n",
       "      <td>425 823</td>\n",
       "      <td>NaN</td>\n",
       "      <td>NaN</td>\n",
       "    </tr>\n",
       "    <tr>\n",
       "      <th>1067</th>\n",
       "      <td>6833080</td>\n",
       "      <td>6</td>\n",
       "      <td>6833</td>\n",
       "      <td>Bibliotecas Populares</td>\n",
       "      <td>Buenos Aires</td>\n",
       "      <td>San Francisco de Belloq</td>\n",
       "      <td>Biblioteca Popular San Francisco de Bellocq</td>\n",
       "      <td>Calle 15 446</td>\n",
       "      <td>7505.0</td>\n",
       "      <td>2982.0</td>\n",
       "      <td>497013.0</td>\n",
       "      <td>bibsanfrabe@eternet.cc</td>\n",
       "      <td>NaN</td>\n",
       "    </tr>\n",
       "    <tr>\n",
       "      <th>841</th>\n",
       "      <td>62042010</td>\n",
       "      <td>62</td>\n",
       "      <td>62042</td>\n",
       "      <td>Espacios de Exhibición Patrimonial</td>\n",
       "      <td>Río Negro</td>\n",
       "      <td>Allen</td>\n",
       "      <td>Museo Municipal De Allen</td>\n",
       "      <td>Libertad 250</td>\n",
       "      <td>R8328ASP</td>\n",
       "      <td>2941.0</td>\n",
       "      <td>453 403</td>\n",
       "      <td>museodeallen@yahoo.com.ar</td>\n",
       "      <td>NaN</td>\n",
       "    </tr>\n",
       "    <tr>\n",
       "      <th>988</th>\n",
       "      <td>86049110</td>\n",
       "      <td>86</td>\n",
       "      <td>86049</td>\n",
       "      <td>Bibliotecas Populares</td>\n",
       "      <td>Santiago del Estero</td>\n",
       "      <td>Santiago del Estero</td>\n",
       "      <td>Biblioteca Popular Jorge W. Abalos</td>\n",
       "      <td>Romualdo Helman 158</td>\n",
       "      <td>4200.0</td>\n",
       "      <td>385.0</td>\n",
       "      <td>4392109.0</td>\n",
       "      <td>bjwasantiago@yahoo.com.ar</td>\n",
       "      <td>NaN</td>\n",
       "    </tr>\n",
       "    <tr>\n",
       "      <th>15</th>\n",
       "      <td>46042010</td>\n",
       "      <td>46</td>\n",
       "      <td>46042</td>\n",
       "      <td>Salas de cine</td>\n",
       "      <td>La Rioja</td>\n",
       "      <td>Chilecito</td>\n",
       "      <td>Cinema</td>\n",
       "      <td>La Plata Y 19 De Febrero</td>\n",
       "      <td>5360</td>\n",
       "      <td>380.0</td>\n",
       "      <td>4626907.0</td>\n",
       "      <td>ericontadoralinares@gmail.com</td>\n",
       "      <td>http://cinema3dlarioja.com/</td>\n",
       "    </tr>\n",
       "  </tbody>\n",
       "</table>\n",
       "</div>"
      ],
      "text/plain": [
       "       Cod_Loc  IdProvincia  IdDepartamento  \\\n",
       "1143  94007010           94           94007   \n",
       "1067   6833080            6            6833   \n",
       "841   62042010           62           62042   \n",
       "988   86049110           86           86049   \n",
       "15    46042010           46           46042   \n",
       "\n",
       "                               Categoría  \\\n",
       "1143  Espacios de Exhibición Patrimonial   \n",
       "1067               Bibliotecas Populares   \n",
       "841   Espacios de Exhibición Patrimonial   \n",
       "988                Bibliotecas Populares   \n",
       "15                         Salas de cine   \n",
       "\n",
       "                                                  Provincia  \\\n",
       "1143  Tierra del Fuego, Antártida e Islas del Atlántico Sur   \n",
       "1067                                           Buenos Aires   \n",
       "841                                               Río Negro   \n",
       "988                                     Santiago del Estero   \n",
       "15                                                 La Rioja   \n",
       "\n",
       "                    Localidad                                       Nombre  \\\n",
       "1143               Río Grande                       Museo Fueguino De Arte   \n",
       "1067  San Francisco de Belloq  Biblioteca Popular San Francisco de Bellocq   \n",
       "841                     Allen                     Museo Municipal De Allen   \n",
       "988       Santiago del Estero           Biblioteca Popular Jorge W. Abalos   \n",
       "15                  Chilecito                                       Cinema   \n",
       "\n",
       "                     Domicilio        CP  Cod_tel   Teléfono  \\\n",
       "1143       Av. Belgrano Nº 319  V9420BBA   2964.0    425 823   \n",
       "1067              Calle 15 446    7505.0   2982.0   497013.0   \n",
       "841               Libertad 250  R8328ASP   2941.0    453 403   \n",
       "988        Romualdo Helman 158    4200.0    385.0  4392109.0   \n",
       "15    La Plata Y 19 De Febrero      5360    380.0  4626907.0   \n",
       "\n",
       "                               Mail                          Web  \n",
       "1143                            NaN                          NaN  \n",
       "1067         bibsanfrabe@eternet.cc                          NaN  \n",
       "841       museodeallen@yahoo.com.ar                          NaN  \n",
       "988       bjwasantiago@yahoo.com.ar                          NaN  \n",
       "15    ericontadoralinares@gmail.com  http://cinema3dlarioja.com/  "
      ]
     },
     "execution_count": 29,
     "metadata": {},
     "output_type": "execute_result"
    }
   ],
   "source": [
    "# Columnas para master_df: cod_localidad, id_provincia, id_departamento, categoría, \n",
    "# provincia, localidad, nombre, domicilio, código postal, número de teléfono, mail, web\n",
    "\n",
    "# Cargar nombres de columnas de interés de cada df en mismo orden\n",
    "columns = ['Cod_Loc', 'IdProvincia', 'IdDepartamento', 'Categoría', 'Provincia', \n",
    "            'Localidad','Nombre','Domicilio', 'CP', 'Cod_tel', 'Teléfono', 'Mail', 'Web']\n",
    "bibliotecas_columns = ['Cod_Loc', 'IdProvincia', 'IdDepartamento', 'Categoría', \n",
    "                        'Provincia', 'Localidad','Nombre','Domicilio', 'CP', 'Cod_tel', \n",
    "                        'Teléfono', 'Mail', 'Web']\n",
    "cines_columns = ['Cod_Loc', 'IdProvincia', 'IdDepartamento', 'Categoría', 'Provincia', \n",
    "                    'Localidad','Nombre','Dirección', 'CP', 'cod_area', 'Teléfono', 'Mail', \n",
    "                    'Web']\n",
    "museos_columns = ['Cod_Loc', 'IdProvincia', 'IdDepartamento', 'categoria', 'provincia', \n",
    "                    'localidad','nombre','direccion', 'CP', 'cod_area', 'telefono', \n",
    "                    'Mail', 'Web' ]\n",
    "\n",
    "# Renombrar columnas en cada df para que todos sean iguales y se pueda concatenar\n",
    "bibliotecas_df.rename(columns=dict(zip(bibliotecas_columns, columns)), inplace=True)\n",
    "cines_df.rename(columns=dict(zip(cines_columns, columns)), inplace=True)\n",
    "museos_df.rename(columns=dict(zip(museos_columns, columns)), inplace=True)\n",
    "\n",
    "# Concatenar dfs en master y ver resultados\n",
    "master_df = pd.concat([bibliotecas_df[columns], cines_df[columns], museos_df[columns]])\n",
    "display(master_df.columns, master_df.shape)\n",
    "master_df.sample(5)"
   ]
  },
  {
   "cell_type": "markdown",
   "metadata": {},
   "source": [
    "### 2° Unificar cod_tel y telefono en una única columna"
   ]
  },
  {
   "cell_type": "code",
   "execution_count": 30,
   "metadata": {},
   "outputs": [
    {
     "data": {
      "text/plain": [
       "dtype('float64')"
      ]
     },
     "metadata": {},
     "output_type": "display_data"
    },
    {
     "data": {
      "text/plain": [
       "dtype('O')"
      ]
     },
     "metadata": {},
     "output_type": "display_data"
    },
    {
     "data": {
      "text/html": [
       "<div>\n",
       "<style scoped>\n",
       "    .dataframe tbody tr th:only-of-type {\n",
       "        vertical-align: middle;\n",
       "    }\n",
       "\n",
       "    .dataframe tbody tr th {\n",
       "        vertical-align: top;\n",
       "    }\n",
       "\n",
       "    .dataframe thead th {\n",
       "        text-align: right;\n",
       "    }\n",
       "</style>\n",
       "<table border=\"1\" class=\"dataframe\">\n",
       "  <thead>\n",
       "    <tr style=\"text-align: right;\">\n",
       "      <th></th>\n",
       "      <th>Cod_tel</th>\n",
       "      <th>Teléfono</th>\n",
       "    </tr>\n",
       "  </thead>\n",
       "  <tbody>\n",
       "    <tr>\n",
       "      <th>205</th>\n",
       "      <td>362.0</td>\n",
       "      <td>443 9315</td>\n",
       "    </tr>\n",
       "    <tr>\n",
       "      <th>957</th>\n",
       "      <td>387.0</td>\n",
       "      <td>4220765.0</td>\n",
       "    </tr>\n",
       "    <tr>\n",
       "      <th>610</th>\n",
       "      <td>388.0</td>\n",
       "      <td>423 423</td>\n",
       "    </tr>\n",
       "    <tr>\n",
       "      <th>1004</th>\n",
       "      <td>3483.0</td>\n",
       "      <td>496 125</td>\n",
       "    </tr>\n",
       "    <tr>\n",
       "      <th>328</th>\n",
       "      <td>11.0</td>\n",
       "      <td>5411 4781</td>\n",
       "    </tr>\n",
       "    <tr>\n",
       "      <th>965</th>\n",
       "      <td>299.0</td>\n",
       "      <td>4439077.0</td>\n",
       "    </tr>\n",
       "    <tr>\n",
       "      <th>584</th>\n",
       "      <td>3455.0</td>\n",
       "      <td>492 191</td>\n",
       "    </tr>\n",
       "    <tr>\n",
       "      <th>1839</th>\n",
       "      <td>341.0</td>\n",
       "      <td>4663399.0</td>\n",
       "    </tr>\n",
       "    <tr>\n",
       "      <th>777</th>\n",
       "      <td>2473.0</td>\n",
       "      <td>480143.0</td>\n",
       "    </tr>\n",
       "  </tbody>\n",
       "</table>\n",
       "</div>"
      ],
      "text/plain": [
       "      Cod_tel   Teléfono\n",
       "205     362.0   443 9315\n",
       "957     387.0  4220765.0\n",
       "610     388.0    423 423\n",
       "1004   3483.0    496 125\n",
       "328      11.0  5411 4781\n",
       "965     299.0  4439077.0\n",
       "584    3455.0    492 191\n",
       "1839    341.0  4663399.0\n",
       "777    2473.0   480143.0"
      ]
     },
     "execution_count": 30,
     "metadata": {},
     "output_type": "execute_result"
    }
   ],
   "source": [
    "display(master_df['Cod_tel'].dtype, master_df['Teléfono'].dtype)\n",
    "master_df[['Cod_tel', 'Teléfono']].sample(9)"
   ]
  },
  {
   "cell_type": "code",
   "execution_count": 31,
   "metadata": {},
   "outputs": [],
   "source": [
    "# Cod_tel es de tipo float por lo que los nros tienen agregado .0 al final, y hay valores nulos\n",
    "# Teléfono es tipo str, tiene valores con espacios en blanco, pero también tiene algunos con .0 al final y valores nulos\n",
    "# La nueva columna será str para preservar nulos, y se creará uniendo los dos campos (siempre y cuando haya valor en Teléfono)\n",
    "# separados por un espacio (para seguir formato presentado), previa eliminación de los .0\n",
    "\n",
    "def make_phone_number(row):\n",
    "\n",
    "    if not pd.isnull(row['Teléfono']):\n",
    "        # convierto a str\n",
    "        tel = str(row['Teléfono']).strip()\n",
    "        # elimino .0 final si tiene\n",
    "        if tel.find('.0') != -1:\n",
    "            tel = tel[:tel.find('.0')]\n",
    "        # chequeo código para ver si debo concatenar o va solo nro de telefono sin cod area\n",
    "        if not pd.isnull(row['Cod_tel']):\n",
    "            cod = str(row['Cod_tel']).strip()\n",
    "            if cod.find('.0') != -1:\n",
    "                cod = cod[:cod.find('.0')]\n",
    "            row['Nro_Teléfono'] = cod + ' ' + tel\n",
    "        else:\n",
    "            row['Nro_Teléfono'] = tel\n",
    "    else:\n",
    "    # si no tengo número de teléfono no me interesa si hay código de área \n",
    "        row['Nro_Teléfono'] = np.nan\n",
    "    return row    \n",
    "\n",
    "master_df = master_df.apply(make_phone_number, axis='columns')\n",
    "\n",
    "master_df[['Cod_tel', 'Teléfono', 'Nro_Teléfono']].sample(12)\n",
    "master_df.drop(['Cod_tel', 'Teléfono'], inplace=True, axis='columns')\n",
    "columns.remove('Cod_tel')\n",
    "columns.remove('Teléfono')"
   ]
  },
  {
   "cell_type": "markdown",
   "metadata": {},
   "source": [
    "### Explorar datos por columna"
   ]
  },
  {
   "cell_type": "code",
   "execution_count": 32,
   "metadata": {},
   "outputs": [
    {
     "data": {
      "text/plain": [
       "'---------------------------- Columna Cod_Loc - int64 ----------------------------'"
      ]
     },
     "metadata": {},
     "output_type": "display_data"
    },
    {
     "data": {
      "text/plain": [
       "'Total: 3528  |  Nulos: 0  |  No nulos: 3528 | Únicos: 1197'"
      ]
     },
     "metadata": {},
     "output_type": "display_data"
    },
    {
     "data": {
      "text/plain": [
       "'Top Distribución de valores:'"
      ]
     },
     "metadata": {},
     "output_type": "display_data"
    },
    {
     "data": {
      "text/plain": [
       "2000010     210\n",
       "14014010     92\n",
       "82063170     72\n",
       "6441030      63\n",
       "82084270     61\n",
       "66028050     50\n",
       "22140060     46\n",
       "58035070     37\n",
       "86049110     31\n",
       "50007010     31\n",
       "70028010     30\n",
       "90084010     27\n",
       "6056010      24\n",
       "6427010      22\n",
       "38021060     21\n",
       "Name: Cod_Loc, dtype: int64"
      ]
     },
     "metadata": {},
     "output_type": "display_data"
    },
    {
     "data": {
      "text/plain": [
       "'---------------------------- Columna IdProvincia - int64 ----------------------------'"
      ]
     },
     "metadata": {},
     "output_type": "display_data"
    },
    {
     "data": {
      "text/plain": [
       "'Total: 3528  |  Nulos: 0  |  No nulos: 3528 | Únicos: 24'"
      ]
     },
     "metadata": {},
     "output_type": "display_data"
    },
    {
     "data": {
      "text/plain": [
       "'Valores únicos:'"
      ]
     },
     "metadata": {},
     "output_type": "display_data"
    },
    {
     "data": {
      "text/plain": [
       "array([70,  2,  6, 30, 82, 18, 14, 74, 86, 90, 50, 46, 10, 66, 38, 22, 34,\n",
       "       54, 42, 58, 62, 78, 94, 26], dtype=int64)"
      ]
     },
     "metadata": {},
     "output_type": "display_data"
    },
    {
     "data": {
      "text/plain": [
       "'Distribución de valores:'"
      ]
     },
     "metadata": {},
     "output_type": "display_data"
    },
    {
     "data": {
      "text/plain": [
       "6     801\n",
       "82    458\n",
       "14    346\n",
       "2     210\n",
       "50    146\n",
       "30    128\n",
       "42    123\n",
       "58    115\n",
       "66    109\n",
       "22    107\n",
       "26    102\n",
       "62     92\n",
       "38     91\n",
       "70     83\n",
       "86     82\n",
       "74     80\n",
       "18     80\n",
       "54     78\n",
       "10     74\n",
       "90     71\n",
       "46     46\n",
       "78     46\n",
       "34     34\n",
       "94     26\n",
       "Name: IdProvincia, dtype: int64"
      ]
     },
     "metadata": {},
     "output_type": "display_data"
    },
    {
     "data": {
      "text/plain": [
       "'---------------------------- Columna IdDepartamento - int64 ----------------------------'"
      ]
     },
     "metadata": {},
     "output_type": "display_data"
    },
    {
     "data": {
      "text/plain": [
       "'Total: 3528  |  Nulos: 0  |  No nulos: 3528 | Únicos: 461'"
      ]
     },
     "metadata": {},
     "output_type": "display_data"
    },
    {
     "data": {
      "text/plain": [
       "'Top Distribución de valores:'"
      ]
     },
     "metadata": {},
     "output_type": "display_data"
    },
    {
     "data": {
      "text/plain": [
       "2000     210\n",
       "14014     92\n",
       "82063     87\n",
       "82084     78\n",
       "6441      63\n",
       "58035     60\n",
       "22140     52\n",
       "66028     52\n",
       "62042     42\n",
       "82021     40\n",
       "14140     39\n",
       "86049     32\n",
       "50007     31\n",
       "14021     30\n",
       "70028     30\n",
       "Name: IdDepartamento, dtype: int64"
      ]
     },
     "metadata": {},
     "output_type": "display_data"
    },
    {
     "data": {
      "text/plain": [
       "'---------------------------- Columna Categoría - object ----------------------------'"
      ]
     },
     "metadata": {},
     "output_type": "display_data"
    },
    {
     "data": {
      "text/plain": [
       "'Total: 3528  |  Nulos: 0  |  No nulos: 3528 | Únicos: 3'"
      ]
     },
     "metadata": {},
     "output_type": "display_data"
    },
    {
     "data": {
      "text/plain": [
       "'Valores únicos:'"
      ]
     },
     "metadata": {},
     "output_type": "display_data"
    },
    {
     "data": {
      "text/plain": [
       "array(['Bibliotecas Populares', 'Salas de cine',\n",
       "       'Espacios de Exhibición Patrimonial'], dtype=object)"
      ]
     },
     "metadata": {},
     "output_type": "display_data"
    },
    {
     "data": {
      "text/plain": [
       "'Distribución de valores:'"
      ]
     },
     "metadata": {},
     "output_type": "display_data"
    },
    {
     "data": {
      "text/plain": [
       "Bibliotecas Populares                 2017\n",
       "Espacios de Exhibición Patrimonial    1182\n",
       "Salas de cine                          329\n",
       "Name: Categoría, dtype: int64"
      ]
     },
     "metadata": {},
     "output_type": "display_data"
    },
    {
     "data": {
      "text/plain": [
       "'---------------------------- Columna Provincia - object ----------------------------'"
      ]
     },
     "metadata": {},
     "output_type": "display_data"
    },
    {
     "data": {
      "text/plain": [
       "'Total: 3528  |  Nulos: 0  |  No nulos: 3528 | Únicos: 27'"
      ]
     },
     "metadata": {},
     "output_type": "display_data"
    },
    {
     "data": {
      "text/plain": [
       "'Valores únicos:'"
      ]
     },
     "metadata": {},
     "output_type": "display_data"
    },
    {
     "data": {
      "text/plain": [
       "array(['San Juan', 'Ciudad Autónoma de Buenos Aires', 'Buenos Aires',\n",
       "       'Entre Ríos', 'Santa Fe', 'Corrientes', 'Córdoba', 'San Luis',\n",
       "       'Santiago del Estero', 'Tucumán', 'Mendoza', 'La Rioja',\n",
       "       'Catamarca', 'Salta', 'Jujuy', 'Chaco', 'Formosa', 'Misiones',\n",
       "       'La Pampa', 'Neuquén', 'Río Negro', 'Santa Cruz',\n",
       "       'Tierra del Fuego', 'Chubut', 'Santa Fé', 'Neuquén\\xa0',\n",
       "       'Tierra del Fuego, Antártida e Islas del Atlántico Sur'],\n",
       "      dtype=object)"
      ]
     },
     "metadata": {},
     "output_type": "display_data"
    },
    {
     "data": {
      "text/plain": [
       "'Distribución de valores:'"
      ]
     },
     "metadata": {},
     "output_type": "display_data"
    },
    {
     "data": {
      "text/plain": [
       "Buenos Aires                                             801\n",
       "Santa Fe                                                 457\n",
       "Córdoba                                                  346\n",
       "Ciudad Autónoma de Buenos Aires                          210\n",
       "Mendoza                                                  146\n",
       "Entre Ríos                                               128\n",
       "La Pampa                                                 123\n",
       "Salta                                                    110\n",
       "Chaco                                                    107\n",
       "Chubut                                                   102\n",
       "Río Negro                                                 92\n",
       "Jujuy                                                     91\n",
       "San Juan                                                  83\n",
       "Santiago del Estero                                       82\n",
       "San Luis                                                  80\n",
       "Corrientes                                                80\n",
       "Misiones                                                  78\n",
       "Neuquén                                                   75\n",
       "Catamarca                                                 74\n",
       "Tucumán                                                   71\n",
       "La Rioja                                                  46\n",
       "Santa Cruz                                                46\n",
       "Neuquén                                                   39\n",
       "Formosa                                                   34\n",
       "Tierra del Fuego, Antártida e Islas del Atlántico Sur     14\n",
       "Tierra del Fuego                                          12\n",
       "Santa Fé                                                   1\n",
       "Name: Provincia, dtype: int64"
      ]
     },
     "metadata": {},
     "output_type": "display_data"
    },
    {
     "data": {
      "text/plain": [
       "'---------------------------- Columna Localidad - object ----------------------------'"
      ]
     },
     "metadata": {},
     "output_type": "display_data"
    },
    {
     "data": {
      "text/plain": [
       "'Total: 3528  |  Nulos: 0  |  No nulos: 3528 | Únicos: 1417'"
      ]
     },
     "metadata": {},
     "output_type": "display_data"
    },
    {
     "data": {
      "text/plain": [
       "'Top Distribución de valores:'"
      ]
     },
     "metadata": {},
     "output_type": "display_data"
    },
    {
     "data": {
      "text/plain": [
       "Ciudad Autónoma de Buenos Aires    167\n",
       "Santa Fe                            72\n",
       "Rosario                             61\n",
       "Córdoba                             57\n",
       "La Plata                            55\n",
       "Salta                               49\n",
       "Resistencia                         46\n",
       "Ciudad de Buenos Aires              43\n",
       "Cordoba                             31\n",
       "Neuquén                             31\n",
       "Mendoza                             28\n",
       "Santiago del Estero                 27\n",
       "San Miguel de Tucumán               26\n",
       "San Juan                            25\n",
       "Corrientes                          21\n",
       "Name: Localidad, dtype: int64"
      ]
     },
     "metadata": {},
     "output_type": "display_data"
    },
    {
     "data": {
      "text/plain": [
       "'---------------------------- Columna Nombre - object ----------------------------'"
      ]
     },
     "metadata": {},
     "output_type": "display_data"
    },
    {
     "data": {
      "text/plain": [
       "'Total: 3528  |  Nulos: 0  |  No nulos: 3528 | Únicos: 2827'"
      ]
     },
     "metadata": {},
     "output_type": "display_data"
    },
    {
     "data": {
      "text/plain": [
       "'Top Distribución de valores:'"
      ]
     },
     "metadata": {},
     "output_type": "display_data"
    },
    {
     "data": {
      "text/plain": [
       "Biblioteca Popular Domingo Faustino Sarmiento    112\n",
       "Biblioteca Popular Mariano Moreno                 61\n",
       "Biblioteca Popular Bernardino Rivadavia           40\n",
       "Biblioteca Popular Juan Bautista Alberdi          37\n",
       "Biblioteca Popular Bartolomé Mitre                24\n",
       "Biblioteca Popular Almafuerte                     19\n",
       "Biblioteca Popular José Hernández                 19\n",
       "Biblioteca Popular Florentino Ameghino            18\n",
       "Cinemacenter                                      17\n",
       "Biblioteca Popular José Ingenieros                16\n",
       "Biblioteca Popular Manuel Belgrano                16\n",
       "Biblioteca Popular Alfonsina Storni               12\n",
       "Biblioteca Popular General San Martín             12\n",
       "Hoyts                                             11\n",
       "Museo De La Ciudad                                10\n",
       "Name: Nombre, dtype: int64"
      ]
     },
     "metadata": {},
     "output_type": "display_data"
    },
    {
     "data": {
      "text/plain": [
       "'---------------------------- Columna Domicilio - object ----------------------------'"
      ]
     },
     "metadata": {},
     "output_type": "display_data"
    },
    {
     "data": {
      "text/plain": [
       "'Total: 3528  |  Nulos: 18  |  No nulos: 3510 | Únicos: 3371'"
      ]
     },
     "metadata": {},
     "output_type": "display_data"
    },
    {
     "data": {
      "text/plain": [
       "'Top Distribución de valores:'"
      ]
     },
     "metadata": {},
     "output_type": "display_data"
    },
    {
     "data": {
      "text/plain": [
       "Sin dirección               30\n",
       "Sarmiento                   10\n",
       "San Martín                   9\n",
       "25 de mayo                   5\n",
       "9 de julio                   5\n",
       "Sarmiento 450                4\n",
       "Santa Rosa 1564              3\n",
       "Calle Principal              3\n",
       "San Martín 345               3\n",
       "Zona Rural                   3\n",
       "Independencia                3\n",
       "Sargento Cabral 2354         3\n",
       "Rivadavia S/N                3\n",
       "Estación del ferrocarril     3\n",
       "Planta Urbana                3\n",
       "Name: Domicilio, dtype: int64"
      ]
     },
     "metadata": {},
     "output_type": "display_data"
    },
    {
     "data": {
      "text/plain": [
       "'---------------------------- Columna CP - object ----------------------------'"
      ]
     },
     "metadata": {},
     "output_type": "display_data"
    },
    {
     "data": {
      "text/plain": [
       "'Total: 3528  |  Nulos: 349  |  No nulos: 3179 | Únicos: 1937'"
      ]
     },
     "metadata": {},
     "output_type": "display_data"
    },
    {
     "data": {
      "text/plain": [
       "'Top Distribución de valores:'"
      ]
     },
     "metadata": {},
     "output_type": "display_data"
    },
    {
     "data": {
      "text/plain": [
       "2000.0      41\n",
       "1900.0      31\n",
       "4400.0      29\n",
       "3500.0      28\n",
       "4200.0      27\n",
       "S3002GVP    27\n",
       "8300.0      27\n",
       "5400.0      25\n",
       "5000.0      19\n",
       "3000.0      18\n",
       "7000.0      16\n",
       "5500        16\n",
       "3400.0      14\n",
       "4000.0      13\n",
       "7600.0      13\n",
       "Name: CP, dtype: int64"
      ]
     },
     "metadata": {},
     "output_type": "display_data"
    },
    {
     "data": {
      "text/plain": [
       "'---------------------------- Columna Mail - object ----------------------------'"
      ]
     },
     "metadata": {},
     "output_type": "display_data"
    },
    {
     "data": {
      "text/plain": [
       "'Total: 3528  |  Nulos: 918  |  No nulos: 2610 | Únicos: 1980'"
      ]
     },
     "metadata": {},
     "output_type": "display_data"
    },
    {
     "data": {
      "text/plain": [
       "'Top Distribución de valores:'"
      ]
     },
     "metadata": {},
     "output_type": "display_data"
    },
    {
     "data": {
      "text/plain": [
       "s/d                                         561\n",
       "rmazzutti@hoyts.com.ar                       11\n",
       "iventura@cinemark.com.ar                      9\n",
       "info@atlascines.com.ar                        5\n",
       "fharari@hotmail.com.ar                        4\n",
       "diversidad.cultural@santafeciudad.gov.ar      4\n",
       "admin@lastipasboulevard.com.ar                3\n",
       "nuevocineteatrorex@gmail.com                  3\n",
       "cluduena@grupodinosaurio.com                  3\n",
       "rabdenur@gmail.com                            3\n",
       "ericontadoralinares@gmail.com                 3\n",
       "naiarg@naiarg.com.ar                          3\n",
       "gabriel.guralnik@gmail.com                    2\n",
       "york.cultura@vicentelopez.gov.ar              2\n",
       "museoesperanza@esperanza.gov.ar               2\n",
       "Name: Mail, dtype: int64"
      ]
     },
     "metadata": {},
     "output_type": "display_data"
    },
    {
     "data": {
      "text/plain": [
       "'---------------------------- Columna Web - object ----------------------------'"
      ]
     },
     "metadata": {},
     "output_type": "display_data"
    },
    {
     "data": {
      "text/plain": [
       "'Total: 3528  |  Nulos: 3124  |  No nulos: 404 | Únicos: 308'"
      ]
     },
     "metadata": {},
     "output_type": "display_data"
    },
    {
     "data": {
      "text/plain": [
       "'Top Distribución de valores:'"
      ]
     },
     "metadata": {},
     "output_type": "display_data"
    },
    {
     "data": {
      "text/plain": [
       "http://www.cinemacenter.com.ar/            17\n",
       "s/d                                        16\n",
       "https://www.cinemarkhoyts.com.ar/          11\n",
       "https://www.cinemarkhoyts.com.ar           10\n",
       "https://www.villagecines.com/               8\n",
       "cineatlasweb.com.ar                         7\n",
       "https://www.multiplex.com.ar/               6\n",
       "https://www.todoshowcase.com/               6\n",
       "http://www.cinesunstar.com/                 6\n",
       "www.ara.mil.ar                              4\n",
       "www.enteculturaltucuman.gov.ar              4\n",
       "http://cinema3dlarioja.com/                 3\n",
       "http://www.cinemalaplata.com                3\n",
       "www.culturarionegro.gov.ar                  3\n",
       "https://www.cinesdinomall.com.ar/Inicio     2\n",
       "Name: Web, dtype: int64"
      ]
     },
     "metadata": {},
     "output_type": "display_data"
    }
   ],
   "source": [
    "# Explorar datos, chequeando nulos, valores únicos y distribución de valores\n",
    "total_rows = master_df.shape[0]\n",
    "for column in columns:\n",
    "    display(f'---------------------------- Columna {column} - {master_df[column].dtype} ----------------------------')\n",
    "    no_nulos = master_df[column].count()\n",
    "    unique_values_count = len(master_df[column].unique())\n",
    "    display(f'Total: {total_rows}  |  Nulos: {total_rows - no_nulos}  |  No nulos: {no_nulos} | Únicos: {unique_values_count}')\n",
    "    if unique_values_count > 30:\n",
    "        display(f'Top Distribución de valores:')\n",
    "        display(master_df[column].value_counts().iloc[:15])\n",
    "    else:\n",
    "        display(f'Valores únicos:')\n",
    "        display(master_df[column].unique())\n",
    "        display(f'Distribución de valores:')\n",
    "        display(master_df[column].value_counts())\n"
   ]
  },
  {
   "cell_type": "markdown",
   "metadata": {},
   "source": [
    "#### Resultados de de la exploración\n",
    "- IdProvincia tiene 24 valores únicos pero Provincia tiene 27 valores únicos. Hay 3 provincias que tienen dos nombres cada una y se deben unificar: \n",
    "1. Neuquén y Neuquén\\xa0, \n",
    "2. Tierra del Fuego y Tierra del Fuego, Antártida e Islas del Atlántico Sur\n",
    "3. Santa Fe y Santa Fé\n",
    "- Domicilio: tiene 18 nulos + 30 'sin dirección', convertir a nulos\n",
    "- Web tiene 3124 nulos y 16 valores 's/d', convertir a nulos\n",
    "- Mail tiene 918 nulos y 561 's/d', convertir a nulos\n",
    "- CP es string pero tiene valores con .0 al final, eliminar .0"
   ]
  },
  {
   "cell_type": "markdown",
   "metadata": {},
   "source": [
    "### 3° Unificar nombres de Provincia"
   ]
  },
  {
   "cell_type": "code",
   "execution_count": 33,
   "metadata": {},
   "outputs": [
    {
     "data": {
      "text/html": [
       "<div>\n",
       "<style scoped>\n",
       "    .dataframe tbody tr th:only-of-type {\n",
       "        vertical-align: middle;\n",
       "    }\n",
       "\n",
       "    .dataframe tbody tr th {\n",
       "        vertical-align: top;\n",
       "    }\n",
       "\n",
       "    .dataframe thead th {\n",
       "        text-align: right;\n",
       "    }\n",
       "</style>\n",
       "<table border=\"1\" class=\"dataframe\">\n",
       "  <thead>\n",
       "    <tr style=\"text-align: right;\">\n",
       "      <th></th>\n",
       "      <th></th>\n",
       "      <th>Categoría</th>\n",
       "    </tr>\n",
       "    <tr>\n",
       "      <th>IdProvincia</th>\n",
       "      <th>Provincia</th>\n",
       "      <th></th>\n",
       "    </tr>\n",
       "  </thead>\n",
       "  <tbody>\n",
       "    <tr>\n",
       "      <th>2</th>\n",
       "      <th>Ciudad Autónoma de Buenos Aires</th>\n",
       "      <td>210</td>\n",
       "    </tr>\n",
       "    <tr>\n",
       "      <th>6</th>\n",
       "      <th>Buenos Aires</th>\n",
       "      <td>801</td>\n",
       "    </tr>\n",
       "    <tr>\n",
       "      <th>10</th>\n",
       "      <th>Catamarca</th>\n",
       "      <td>74</td>\n",
       "    </tr>\n",
       "    <tr>\n",
       "      <th>14</th>\n",
       "      <th>Córdoba</th>\n",
       "      <td>346</td>\n",
       "    </tr>\n",
       "    <tr>\n",
       "      <th>18</th>\n",
       "      <th>Corrientes</th>\n",
       "      <td>80</td>\n",
       "    </tr>\n",
       "    <tr>\n",
       "      <th>22</th>\n",
       "      <th>Chaco</th>\n",
       "      <td>107</td>\n",
       "    </tr>\n",
       "    <tr>\n",
       "      <th>26</th>\n",
       "      <th>Chubut</th>\n",
       "      <td>102</td>\n",
       "    </tr>\n",
       "    <tr>\n",
       "      <th>30</th>\n",
       "      <th>Entre Ríos</th>\n",
       "      <td>128</td>\n",
       "    </tr>\n",
       "    <tr>\n",
       "      <th>34</th>\n",
       "      <th>Formosa</th>\n",
       "      <td>34</td>\n",
       "    </tr>\n",
       "    <tr>\n",
       "      <th>38</th>\n",
       "      <th>Jujuy</th>\n",
       "      <td>91</td>\n",
       "    </tr>\n",
       "    <tr>\n",
       "      <th>42</th>\n",
       "      <th>La Pampa</th>\n",
       "      <td>123</td>\n",
       "    </tr>\n",
       "    <tr>\n",
       "      <th>46</th>\n",
       "      <th>La Rioja</th>\n",
       "      <td>46</td>\n",
       "    </tr>\n",
       "    <tr>\n",
       "      <th>50</th>\n",
       "      <th>Mendoza</th>\n",
       "      <td>146</td>\n",
       "    </tr>\n",
       "    <tr>\n",
       "      <th>54</th>\n",
       "      <th>Misiones</th>\n",
       "      <td>78</td>\n",
       "    </tr>\n",
       "    <tr>\n",
       "      <th rowspan=\"2\" valign=\"top\">58</th>\n",
       "      <th>Neuquén</th>\n",
       "      <td>114</td>\n",
       "    </tr>\n",
       "    <tr>\n",
       "      <th>Salta</th>\n",
       "      <td>1</td>\n",
       "    </tr>\n",
       "    <tr>\n",
       "      <th>62</th>\n",
       "      <th>Río Negro</th>\n",
       "      <td>92</td>\n",
       "    </tr>\n",
       "    <tr>\n",
       "      <th>66</th>\n",
       "      <th>Salta</th>\n",
       "      <td>109</td>\n",
       "    </tr>\n",
       "    <tr>\n",
       "      <th>70</th>\n",
       "      <th>San Juan</th>\n",
       "      <td>83</td>\n",
       "    </tr>\n",
       "    <tr>\n",
       "      <th>74</th>\n",
       "      <th>San Luis</th>\n",
       "      <td>80</td>\n",
       "    </tr>\n",
       "    <tr>\n",
       "      <th>78</th>\n",
       "      <th>Santa Cruz</th>\n",
       "      <td>46</td>\n",
       "    </tr>\n",
       "    <tr>\n",
       "      <th>82</th>\n",
       "      <th>Santa Fé</th>\n",
       "      <td>458</td>\n",
       "    </tr>\n",
       "    <tr>\n",
       "      <th>86</th>\n",
       "      <th>Santiago del Estero</th>\n",
       "      <td>82</td>\n",
       "    </tr>\n",
       "    <tr>\n",
       "      <th>90</th>\n",
       "      <th>Tucumán</th>\n",
       "      <td>71</td>\n",
       "    </tr>\n",
       "    <tr>\n",
       "      <th>94</th>\n",
       "      <th>Tierra del Fuego, Antártida e Islas del Atlántico Sur</th>\n",
       "      <td>26</td>\n",
       "    </tr>\n",
       "  </tbody>\n",
       "</table>\n",
       "</div>"
      ],
      "text/plain": [
       "                                                                   Categoría\n",
       "IdProvincia Provincia                                                       \n",
       "2           Ciudad Autónoma de Buenos Aires                              210\n",
       "6           Buenos Aires                                                 801\n",
       "10          Catamarca                                                     74\n",
       "14          Córdoba                                                      346\n",
       "18          Corrientes                                                    80\n",
       "22          Chaco                                                        107\n",
       "26          Chubut                                                       102\n",
       "30          Entre Ríos                                                   128\n",
       "34          Formosa                                                       34\n",
       "38          Jujuy                                                         91\n",
       "42          La Pampa                                                     123\n",
       "46          La Rioja                                                      46\n",
       "50          Mendoza                                                      146\n",
       "54          Misiones                                                      78\n",
       "58          Neuquén                                                      114\n",
       "            Salta                                                          1\n",
       "62          Río Negro                                                     92\n",
       "66          Salta                                                        109\n",
       "70          San Juan                                                      83\n",
       "74          San Luis                                                      80\n",
       "78          Santa Cruz                                                    46\n",
       "82          Santa Fé                                                     458\n",
       "86          Santiago del Estero                                           82\n",
       "90          Tucumán                                                       71\n",
       "94          Tierra del Fuego, Antártida e Islas del Atlántico Sur         26"
      ]
     },
     "execution_count": 33,
     "metadata": {},
     "output_type": "execute_result"
    }
   ],
   "source": [
    "master_df[['IdProvincia', 'Provincia', 'Categoría']].groupby(['IdProvincia', 'Provincia']).count().sort_values(by='IdProvincia')\n",
    "\n",
    "def unify_province_names(row):\n",
    "    if row['Provincia'] == 'Neuquén\\xa0':\n",
    "        row['Provincia'] = 'Neuquén'\n",
    "    elif row['Provincia'] == 'Santa Fe':\n",
    "        row['Provincia'] = 'Santa Fé'\n",
    "    elif row['Provincia'] == 'Tierra del Fuego':\n",
    "        row['Provincia'] = 'Tierra del Fuego, Antártida e Islas del Atlántico Sur'\n",
    "    return row\n",
    "master_df = master_df.apply(unify_province_names, axis='columns')\n",
    "\n",
    "master_df[['IdProvincia', 'Provincia', 'Categoría']].groupby(['IdProvincia', 'Provincia']).count().sort_values(by='IdProvincia')"
   ]
  },
  {
   "cell_type": "markdown",
   "metadata": {},
   "source": [
    "- Se detecta una row que tiene Salta con codigo 58, que corresponde a Neuquén. Cambiar a 66\n",
    "### 4° Cambiar cód de Salta en row erronea"
   ]
  },
  {
   "cell_type": "code",
   "execution_count": 34,
   "metadata": {},
   "outputs": [
    {
     "data": {
      "text/html": [
       "<div>\n",
       "<style scoped>\n",
       "    .dataframe tbody tr th:only-of-type {\n",
       "        vertical-align: middle;\n",
       "    }\n",
       "\n",
       "    .dataframe tbody tr th {\n",
       "        vertical-align: top;\n",
       "    }\n",
       "\n",
       "    .dataframe thead th {\n",
       "        text-align: right;\n",
       "    }\n",
       "</style>\n",
       "<table border=\"1\" class=\"dataframe\">\n",
       "  <thead>\n",
       "    <tr style=\"text-align: right;\">\n",
       "      <th></th>\n",
       "      <th>Cod_Loc</th>\n",
       "      <th>IdProvincia</th>\n",
       "      <th>IdDepartamento</th>\n",
       "      <th>Categoría</th>\n",
       "      <th>Provincia</th>\n",
       "      <th>Localidad</th>\n",
       "      <th>Nombre</th>\n",
       "      <th>Domicilio</th>\n",
       "      <th>CP</th>\n",
       "      <th>Mail</th>\n",
       "      <th>Web</th>\n",
       "      <th>Nro_Teléfono</th>\n",
       "    </tr>\n",
       "  </thead>\n",
       "  <tbody>\n",
       "    <tr>\n",
       "      <th>860</th>\n",
       "      <td>58035070</td>\n",
       "      <td>58</td>\n",
       "      <td>58035</td>\n",
       "      <td>Espacios de Exhibición Patrimonial</td>\n",
       "      <td>Salta</td>\n",
       "      <td>Salta</td>\n",
       "      <td>Museo Catedralicio</td>\n",
       "      <td>Av. Belgrano 589</td>\n",
       "      <td>NaN</td>\n",
       "      <td>NaN</td>\n",
       "      <td>NaN</td>\n",
       "      <td>NaN</td>\n",
       "    </tr>\n",
       "  </tbody>\n",
       "</table>\n",
       "</div>"
      ],
      "text/plain": [
       "      Cod_Loc  IdProvincia  IdDepartamento  \\\n",
       "860  58035070           58           58035   \n",
       "\n",
       "                              Categoría Provincia Localidad  \\\n",
       "860  Espacios de Exhibición Patrimonial     Salta     Salta   \n",
       "\n",
       "                 Nombre         Domicilio   CP Mail  Web Nro_Teléfono  \n",
       "860  Museo Catedralicio  Av. Belgrano 589  NaN  NaN  NaN          NaN  "
      ]
     },
     "execution_count": 34,
     "metadata": {},
     "output_type": "execute_result"
    }
   ],
   "source": [
    "# Chequear si lo que está incorrecto es el codigo o el nombre de la pcia.\n",
    "master_df.loc[(master_df['Provincia'] == 'Salta') & (master_df['IdProvincia'] == 58)]"
   ]
  },
  {
   "cell_type": "code",
   "execution_count": 35,
   "metadata": {},
   "outputs": [
    {
     "data": {
      "text/html": [
       "<div>\n",
       "<style scoped>\n",
       "    .dataframe tbody tr th:only-of-type {\n",
       "        vertical-align: middle;\n",
       "    }\n",
       "\n",
       "    .dataframe tbody tr th {\n",
       "        vertical-align: top;\n",
       "    }\n",
       "\n",
       "    .dataframe thead th {\n",
       "        text-align: right;\n",
       "    }\n",
       "</style>\n",
       "<table border=\"1\" class=\"dataframe\">\n",
       "  <thead>\n",
       "    <tr style=\"text-align: right;\">\n",
       "      <th></th>\n",
       "      <th></th>\n",
       "      <th>Categoría</th>\n",
       "    </tr>\n",
       "    <tr>\n",
       "      <th>IdProvincia</th>\n",
       "      <th>Provincia</th>\n",
       "      <th></th>\n",
       "    </tr>\n",
       "  </thead>\n",
       "  <tbody>\n",
       "    <tr>\n",
       "      <th>2</th>\n",
       "      <th>Ciudad Autónoma de Buenos Aires</th>\n",
       "      <td>210</td>\n",
       "    </tr>\n",
       "    <tr>\n",
       "      <th>6</th>\n",
       "      <th>Buenos Aires</th>\n",
       "      <td>801</td>\n",
       "    </tr>\n",
       "    <tr>\n",
       "      <th>10</th>\n",
       "      <th>Catamarca</th>\n",
       "      <td>74</td>\n",
       "    </tr>\n",
       "    <tr>\n",
       "      <th>14</th>\n",
       "      <th>Córdoba</th>\n",
       "      <td>346</td>\n",
       "    </tr>\n",
       "    <tr>\n",
       "      <th>18</th>\n",
       "      <th>Corrientes</th>\n",
       "      <td>80</td>\n",
       "    </tr>\n",
       "    <tr>\n",
       "      <th>22</th>\n",
       "      <th>Chaco</th>\n",
       "      <td>107</td>\n",
       "    </tr>\n",
       "    <tr>\n",
       "      <th>26</th>\n",
       "      <th>Chubut</th>\n",
       "      <td>102</td>\n",
       "    </tr>\n",
       "    <tr>\n",
       "      <th>30</th>\n",
       "      <th>Entre Ríos</th>\n",
       "      <td>128</td>\n",
       "    </tr>\n",
       "    <tr>\n",
       "      <th>34</th>\n",
       "      <th>Formosa</th>\n",
       "      <td>34</td>\n",
       "    </tr>\n",
       "    <tr>\n",
       "      <th>38</th>\n",
       "      <th>Jujuy</th>\n",
       "      <td>91</td>\n",
       "    </tr>\n",
       "    <tr>\n",
       "      <th>42</th>\n",
       "      <th>La Pampa</th>\n",
       "      <td>123</td>\n",
       "    </tr>\n",
       "    <tr>\n",
       "      <th>46</th>\n",
       "      <th>La Rioja</th>\n",
       "      <td>46</td>\n",
       "    </tr>\n",
       "    <tr>\n",
       "      <th>50</th>\n",
       "      <th>Mendoza</th>\n",
       "      <td>146</td>\n",
       "    </tr>\n",
       "    <tr>\n",
       "      <th>54</th>\n",
       "      <th>Misiones</th>\n",
       "      <td>78</td>\n",
       "    </tr>\n",
       "    <tr>\n",
       "      <th>58</th>\n",
       "      <th>Neuquén</th>\n",
       "      <td>114</td>\n",
       "    </tr>\n",
       "    <tr>\n",
       "      <th>62</th>\n",
       "      <th>Río Negro</th>\n",
       "      <td>92</td>\n",
       "    </tr>\n",
       "    <tr>\n",
       "      <th>66</th>\n",
       "      <th>Salta</th>\n",
       "      <td>110</td>\n",
       "    </tr>\n",
       "    <tr>\n",
       "      <th>70</th>\n",
       "      <th>San Juan</th>\n",
       "      <td>83</td>\n",
       "    </tr>\n",
       "    <tr>\n",
       "      <th>74</th>\n",
       "      <th>San Luis</th>\n",
       "      <td>80</td>\n",
       "    </tr>\n",
       "    <tr>\n",
       "      <th>78</th>\n",
       "      <th>Santa Cruz</th>\n",
       "      <td>46</td>\n",
       "    </tr>\n",
       "    <tr>\n",
       "      <th>82</th>\n",
       "      <th>Santa Fé</th>\n",
       "      <td>458</td>\n",
       "    </tr>\n",
       "    <tr>\n",
       "      <th>86</th>\n",
       "      <th>Santiago del Estero</th>\n",
       "      <td>82</td>\n",
       "    </tr>\n",
       "    <tr>\n",
       "      <th>90</th>\n",
       "      <th>Tucumán</th>\n",
       "      <td>71</td>\n",
       "    </tr>\n",
       "    <tr>\n",
       "      <th>94</th>\n",
       "      <th>Tierra del Fuego, Antártida e Islas del Atlántico Sur</th>\n",
       "      <td>26</td>\n",
       "    </tr>\n",
       "  </tbody>\n",
       "</table>\n",
       "</div>"
      ],
      "text/plain": [
       "                                                                   Categoría\n",
       "IdProvincia Provincia                                                       \n",
       "2           Ciudad Autónoma de Buenos Aires                              210\n",
       "6           Buenos Aires                                                 801\n",
       "10          Catamarca                                                     74\n",
       "14          Córdoba                                                      346\n",
       "18          Corrientes                                                    80\n",
       "22          Chaco                                                        107\n",
       "26          Chubut                                                       102\n",
       "30          Entre Ríos                                                   128\n",
       "34          Formosa                                                       34\n",
       "38          Jujuy                                                         91\n",
       "42          La Pampa                                                     123\n",
       "46          La Rioja                                                      46\n",
       "50          Mendoza                                                      146\n",
       "54          Misiones                                                      78\n",
       "58          Neuquén                                                      114\n",
       "62          Río Negro                                                     92\n",
       "66          Salta                                                        110\n",
       "70          San Juan                                                      83\n",
       "74          San Luis                                                      80\n",
       "78          Santa Cruz                                                    46\n",
       "82          Santa Fé                                                     458\n",
       "86          Santiago del Estero                                           82\n",
       "90          Tucumán                                                       71\n",
       "94          Tierra del Fuego, Antártida e Islas del Atlántico Sur         26"
      ]
     },
     "execution_count": 35,
     "metadata": {},
     "output_type": "execute_result"
    }
   ],
   "source": [
    "master_df.loc[(master_df['Provincia'] == 'Salta') & (master_df['IdProvincia'] == 58), 'IdProvincia'] = 66\n",
    "\n",
    "#chequear con group by\n",
    "master_df[['IdProvincia', 'Provincia', 'Categoría']].groupby(['IdProvincia', 'Provincia']).count().sort_values(by='IdProvincia')"
   ]
  },
  {
   "cell_type": "markdown",
   "metadata": {},
   "source": [
    "- Antes de unificar nulos, chequear que no haya 0s o espacios en blanco en ninguna columna"
   ]
  },
  {
   "cell_type": "code",
   "execution_count": 36,
   "metadata": {},
   "outputs": [
    {
     "data": {
      "text/plain": [
       "'Cod_Loc: zero 0'"
      ]
     },
     "metadata": {},
     "output_type": "display_data"
    },
    {
     "data": {
      "text/plain": [
       "'IdProvincia: zero 0'"
      ]
     },
     "metadata": {},
     "output_type": "display_data"
    },
    {
     "data": {
      "text/plain": [
       "'IdDepartamento: zero 0'"
      ]
     },
     "metadata": {},
     "output_type": "display_data"
    },
    {
     "data": {
      "text/plain": [
       "'Categoría: empty 0, whitespace 0'"
      ]
     },
     "metadata": {},
     "output_type": "display_data"
    },
    {
     "data": {
      "text/plain": [
       "'Provincia: empty 0, whitespace 0'"
      ]
     },
     "metadata": {},
     "output_type": "display_data"
    },
    {
     "data": {
      "text/plain": [
       "'Localidad: empty 0, whitespace 0'"
      ]
     },
     "metadata": {},
     "output_type": "display_data"
    },
    {
     "data": {
      "text/plain": [
       "'Nombre: empty 0, whitespace 0'"
      ]
     },
     "metadata": {},
     "output_type": "display_data"
    },
    {
     "data": {
      "text/plain": [
       "'Domicilio: empty 0, whitespace 0'"
      ]
     },
     "metadata": {},
     "output_type": "display_data"
    },
    {
     "data": {
      "text/plain": [
       "'CP: empty 0, whitespace 0'"
      ]
     },
     "metadata": {},
     "output_type": "display_data"
    },
    {
     "data": {
      "text/plain": [
       "'Mail: empty 0, whitespace 0'"
      ]
     },
     "metadata": {},
     "output_type": "display_data"
    },
    {
     "data": {
      "text/plain": [
       "'Web: empty 0, whitespace 0'"
      ]
     },
     "metadata": {},
     "output_type": "display_data"
    },
    {
     "data": {
      "text/plain": [
       "'Nro_Teléfono: empty 0, whitespace 0'"
      ]
     },
     "metadata": {},
     "output_type": "display_data"
    }
   ],
   "source": [
    "from pandas.api.types import is_string_dtype, is_numeric_dtype\n",
    "\n",
    "columns.append('Nro_Teléfono')\n",
    "\n",
    "for column in columns:\n",
    "    if is_string_dtype(master_df[column]):\n",
    "        # Para str chequeo espacio en blanco y vacio\n",
    "        empty_count = master_df.loc[master_df[column] == '', column].count()\n",
    "        whitespace_count = master_df.loc[master_df[column] == ' ', column].count()        \n",
    "        display(f'{column}: empty {empty_count}, whitespace {whitespace_count}')\n",
    "    elif is_numeric_dtype(master_df[column]):\n",
    "        # Para numeric chequeo 0\n",
    "        zero_count = master_df.loc[master_df[column] == 0, column].count()\n",
    "        display(f'{column}: zero {zero_count}')"
   ]
  },
  {
   "cell_type": "markdown",
   "metadata": {},
   "source": [
    "### 5° Unificar nulos"
   ]
  },
  {
   "cell_type": "code",
   "execution_count": 37,
   "metadata": {},
   "outputs": [
    {
     "data": {
      "text/plain": [
       "Sarmiento               10\n",
       "San Martín               9\n",
       "25 de mayo               5\n",
       "9 de julio               5\n",
       "Sarmiento 450            4\n",
       "                        ..\n",
       "Junín 2238               1\n",
       "Chubut y O.del Sur       1\n",
       "Ruta 36 Km 3             1\n",
       "Av. José Roberti 363     1\n",
       "Ernesto Padilla S/N      1\n",
       "Name: Domicilio, Length: 3367, dtype: int64"
      ]
     },
     "metadata": {},
     "output_type": "display_data"
    },
    {
     "data": {
      "text/plain": [
       "rmazzutti@hoyts.com.ar                      11\n",
       "iventura@cinemark.com.ar                     9\n",
       "info@atlascines.com.ar                       5\n",
       "diversidad.cultural@santafeciudad.gov.ar     4\n",
       "fharari@hotmail.com.ar                       4\n",
       "                                            ..\n",
       "dirrecioncultura@52.coopenet.com.ar          1\n",
       "biblio2945amenabar@hotmail.com               1\n",
       "bibliotecahoracioquiroga@live.com            1\n",
       "bibliotecalugones@bombal.net.ar              1\n",
       "museoejercitotucuman@hotmail.com             1\n",
       "Name: Mail, Length: 1978, dtype: int64"
      ]
     },
     "metadata": {},
     "output_type": "display_data"
    },
    {
     "data": {
      "text/plain": [
       "http://www.cinemacenter.com.ar/                                                       17\n",
       "https://www.cinemarkhoyts.com.ar/                                                     11\n",
       "https://www.cinemarkhoyts.com.ar                                                      10\n",
       "https://www.villagecines.com/                                                          8\n",
       "cineatlasweb.com.ar                                                                    7\n",
       "                                                                                      ..\n",
       "https://twitter.com/cineteatroalfa                                                     1\n",
       "https://www.facebook.com/pg/CineAHZ/about/?ref=page_internal                           1\n",
       "https://www.facebook.com/pg/Cines-Avenida-112830095434025/about/?ref=page_internal     1\n",
       "https://www.facebook.com/cine.italia/                                                  1\n",
       "www.casaindependencia.com.ar                                                           1\n",
       "Name: Web, Length: 306, dtype: int64"
      ]
     },
     "metadata": {},
     "output_type": "display_data"
    }
   ],
   "source": [
    "#Domicilio: tiene 18 nulos + 30 'Sin dirección', convertir a nulos\n",
    "#Web tiene 3124 nulos y 16 valores 's/d', convertir a nulos\n",
    "#Mail tiene 918 nulos y 561 's/d', convertir a nulos\n",
    "\n",
    "def convert_text_nulls_to_nan(row):\n",
    "    nulls = ['sin dirección', 's/d']\n",
    "    if str(row['Domicilio']).strip().lower() in nulls:\n",
    "        row['Domicilio'] = np.nan\n",
    "    if str(row['Web']).strip().lower() in nulls:\n",
    "        row['Web'] = np.nan\n",
    "    if str(row['Mail']).strip().lower() in nulls:\n",
    "        row['Mail'] = np.nan\n",
    "    return row\n",
    "\n",
    "master_df = master_df.apply(convert_text_nulls_to_nan, axis='columns')\n",
    "# Check\n",
    "display(master_df['Domicilio'].value_counts())\n",
    "display(master_df['Mail'].value_counts())\n",
    "display(master_df['Web'].value_counts())\n",
    "\n"
   ]
  },
  {
   "cell_type": "markdown",
   "metadata": {},
   "source": [
    "### 6° Quitar .0 de CP"
   ]
  },
  {
   "cell_type": "code",
   "execution_count": 38,
   "metadata": {},
   "outputs": [
    {
     "data": {
      "text/plain": [
       "dtype('O')"
      ]
     },
     "metadata": {},
     "output_type": "display_data"
    },
    {
     "data": {
      "text/plain": [
       "1552         NaN\n",
       "1038        2000\n",
       "1555      1744.0\n",
       "351     C1103ACH\n",
       "196         3700\n",
       "33           NaN\n",
       "Name: CP, dtype: object"
      ]
     },
     "execution_count": 38,
     "metadata": {},
     "output_type": "execute_result"
    }
   ],
   "source": [
    "display(master_df['CP'].dtype)\n",
    "master_df['CP'].sample(6)"
   ]
  },
  {
   "cell_type": "code",
   "execution_count": 42,
   "metadata": {},
   "outputs": [
    {
     "data": {
      "text/plain": [
       "826         5248\n",
       "589         3100\n",
       "74          7111\n",
       "1922        5109\n",
       "457     X5850CBA\n",
       "505          NaN\n",
       "Name: CP, dtype: object"
      ]
     },
     "execution_count": 42,
     "metadata": {},
     "output_type": "execute_result"
    }
   ],
   "source": [
    "master_df['CP'] = master_df['CP'].map(lambda x: str(x)[:-2] if str(x).find('.0') != -1 else x)\n",
    "master_df['CP'].sample(6)"
   ]
  },
  {
   "cell_type": "markdown",
   "metadata": {},
   "source": [
    "## "
   ]
  }
 ],
 "metadata": {
  "kernelspec": {
   "display_name": "Python 3.10.7 ('env': venv)",
   "language": "python",
   "name": "python3"
  },
  "language_info": {
   "codemirror_mode": {
    "name": "ipython",
    "version": 3
   },
   "file_extension": ".py",
   "mimetype": "text/x-python",
   "name": "python",
   "nbconvert_exporter": "python",
   "pygments_lexer": "ipython3",
   "version": "3.10.7"
  },
  "orig_nbformat": 4,
  "vscode": {
   "interpreter": {
    "hash": "40dcbba769bc9945f786c3e32445bfe66f4f516dde2c4cd41e92be9e1dbce03f"
   }
  }
 },
 "nbformat": 4,
 "nbformat_minor": 2
}
