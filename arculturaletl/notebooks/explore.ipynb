{
 "cells": [
  {
   "cell_type": "markdown",
   "metadata": {},
   "source": [
    "# Notebook para explorar datos y definir acciones a ejecutar en transform.py"
   ]
  },
  {
   "cell_type": "code",
   "execution_count": 45,
   "metadata": {},
   "outputs": [
    {
     "data": {
      "text/plain": [
       "Index(['Cod_Loc', 'IdProvincia', 'IdDepartamento', 'Observacion', 'Categoría',\n",
       "       'Subcategoria', 'Provincia', 'Departamento', 'Localidad', 'Nombre',\n",
       "       'Domicilio', 'Piso', 'CP', 'Cod_tel', 'Teléfono', 'Mail', 'Web',\n",
       "       'Información adicional', 'Latitud', 'Longitud', 'TipoLatitudLongitud',\n",
       "       'Fuente', 'Tipo_gestion', 'año_inicio', 'Año_actualizacion'],\n",
       "      dtype='object')"
      ]
     },
     "metadata": {},
     "output_type": "display_data"
    },
    {
     "data": {
      "text/plain": [
       "(2017, 25)"
      ]
     },
     "metadata": {},
     "output_type": "display_data"
    },
    {
     "data": {
      "text/plain": [
       "Index(['Cod_Loc', 'IdProvincia', 'IdDepartamento', 'Observaciones',\n",
       "       'Categoría', 'Provincia', 'Departamento', 'Localidad', 'Nombre',\n",
       "       'Dirección', 'Piso', 'CP', 'cod_area', 'Teléfono', 'Mail', 'Web',\n",
       "       'Información adicional', 'Latitud', 'Longitud', 'TipoLatitudLongitud',\n",
       "       'Fuente', 'tipo_gestion', 'Pantallas', 'Butacas', 'espacio_INCAA',\n",
       "       'año_actualizacion'],\n",
       "      dtype='object')"
      ]
     },
     "metadata": {},
     "output_type": "display_data"
    },
    {
     "data": {
      "text/plain": [
       "(329, 26)"
      ]
     },
     "metadata": {},
     "output_type": "display_data"
    },
    {
     "data": {
      "text/plain": [
       "Index(['Cod_Loc', 'IdProvincia', 'IdDepartamento', 'Observaciones',\n",
       "       'categoria', 'subcategoria', 'provincia', 'localidad', 'nombre',\n",
       "       'direccion', 'piso', 'CP', 'cod_area', 'telefono', 'Mail', 'Web',\n",
       "       'Latitud', 'Longitud', 'TipoLatitudLongitud', 'Info_adicional',\n",
       "       'fuente', 'jurisdiccion', 'año_inauguracion', 'actualizacion'],\n",
       "      dtype='object')"
      ]
     },
     "metadata": {},
     "output_type": "display_data"
    },
    {
     "data": {
      "text/plain": [
       "(1182, 24)"
      ]
     },
     "metadata": {},
     "output_type": "display_data"
    }
   ],
   "source": [
    "import numpy as np\n",
    "import pandas as pd\n",
    "pd.set_option('display.max_colwidth', None)\n",
    "\n",
    "# Cargar dfs\n",
    "df_bibliotecas_path = '../data/bibliotecas/2022-octubre/bibliotecas-07-10-2022.csv'\n",
    "df_cines_path = '../data/cines/2022-octubre/cines-07-10-2022.csv'\n",
    "df_museos_path = '../data/museos/2022-octubre/museos-07-10-2022.csv'\n",
    "\n",
    "bibliotecas_df = pd.read_csv(df_bibliotecas_path, encoding='utf8')\n",
    "cines_df = pd.read_csv(df_cines_path, encoding='utf8')\n",
    "museos_df = pd.read_csv(df_museos_path, encoding='utf8')\n",
    "\n",
    "# Ver tamaños y columnas de cada uno\n",
    "dfs = [bibliotecas_df, cines_df, museos_df]\n",
    "for df in dfs:\n",
    "    display(df.columns)\n",
    "    display(df.shape)"
   ]
  },
  {
   "cell_type": "markdown",
   "metadata": {},
   "source": [
    "## A) Transformaciones para master dataset\n",
    "### 1° Unificar nombres de columnas comunes requeridas entre los 3 dfs"
   ]
  },
  {
   "cell_type": "code",
   "execution_count": 46,
   "metadata": {},
   "outputs": [
    {
     "data": {
      "text/plain": [
       "Index(['cod_localidad', 'id_provincia', 'id_departamento', 'categoria',\n",
       "       'provincia', 'localidad', 'nombre', 'domicilio', 'codigo_postal',\n",
       "       'Cod_tel', 'Teléfono', 'mail', 'web', 'fuente'],\n",
       "      dtype='object')"
      ]
     },
     "metadata": {},
     "output_type": "display_data"
    },
    {
     "data": {
      "text/plain": [
       "(3528, 14)"
      ]
     },
     "metadata": {},
     "output_type": "display_data"
    },
    {
     "data": {
      "text/html": [
       "<div>\n",
       "<style scoped>\n",
       "    .dataframe tbody tr th:only-of-type {\n",
       "        vertical-align: middle;\n",
       "    }\n",
       "\n",
       "    .dataframe tbody tr th {\n",
       "        vertical-align: top;\n",
       "    }\n",
       "\n",
       "    .dataframe thead th {\n",
       "        text-align: right;\n",
       "    }\n",
       "</style>\n",
       "<table border=\"1\" class=\"dataframe\">\n",
       "  <thead>\n",
       "    <tr style=\"text-align: right;\">\n",
       "      <th></th>\n",
       "      <th>cod_localidad</th>\n",
       "      <th>id_provincia</th>\n",
       "      <th>id_departamento</th>\n",
       "      <th>categoria</th>\n",
       "      <th>provincia</th>\n",
       "      <th>localidad</th>\n",
       "      <th>nombre</th>\n",
       "      <th>domicilio</th>\n",
       "      <th>codigo_postal</th>\n",
       "      <th>Cod_tel</th>\n",
       "      <th>Teléfono</th>\n",
       "      <th>mail</th>\n",
       "      <th>web</th>\n",
       "      <th>fuente</th>\n",
       "    </tr>\n",
       "  </thead>\n",
       "  <tbody>\n",
       "    <tr>\n",
       "      <th>1064</th>\n",
       "      <td>46119010</td>\n",
       "      <td>46</td>\n",
       "      <td>46119</td>\n",
       "      <td>Bibliotecas Populares</td>\n",
       "      <td>La Rioja</td>\n",
       "      <td>Alpasinche</td>\n",
       "      <td>Biblioteca Popular Pastor de la Colina Villafañe</td>\n",
       "      <td>Ruta Nacional Nro. 40</td>\n",
       "      <td>5325.0</td>\n",
       "      <td>3825.0</td>\n",
       "      <td>422560.0</td>\n",
       "      <td>s/d</td>\n",
       "      <td>NaN</td>\n",
       "      <td>CONABIP</td>\n",
       "    </tr>\n",
       "    <tr>\n",
       "      <th>12</th>\n",
       "      <td>6105060</td>\n",
       "      <td>6</td>\n",
       "      <td>6105</td>\n",
       "      <td>Bibliotecas Populares</td>\n",
       "      <td>Buenos Aires</td>\n",
       "      <td>Bolívar</td>\n",
       "      <td>Biblioteca Popular Bernardino Rivadavia</td>\n",
       "      <td>Las Heras 80</td>\n",
       "      <td>NaN</td>\n",
       "      <td>2314.0</td>\n",
       "      <td>420626.0</td>\n",
       "      <td>bib_rivadavia@yahoo.com.ar</td>\n",
       "      <td>NaN</td>\n",
       "      <td>CONABIP</td>\n",
       "    </tr>\n",
       "    <tr>\n",
       "      <th>663</th>\n",
       "      <td>86035090</td>\n",
       "      <td>86</td>\n",
       "      <td>86035</td>\n",
       "      <td>Bibliotecas Populares</td>\n",
       "      <td>Santiago del Estero</td>\n",
       "      <td>La Banda</td>\n",
       "      <td>Biblioteca Popular Narciso Laprida</td>\n",
       "      <td>Laprida 434</td>\n",
       "      <td>NaN</td>\n",
       "      <td>385.0</td>\n",
       "      <td>4270932.0</td>\n",
       "      <td>s/d</td>\n",
       "      <td>NaN</td>\n",
       "      <td>CONABIP</td>\n",
       "    </tr>\n",
       "    <tr>\n",
       "      <th>1638</th>\n",
       "      <td>6490010</td>\n",
       "      <td>6</td>\n",
       "      <td>6490</td>\n",
       "      <td>Bibliotecas Populares</td>\n",
       "      <td>Buenos Aires</td>\n",
       "      <td>Ingeniero Budge</td>\n",
       "      <td>Biblioteca Popular Leopoldo Marechal</td>\n",
       "      <td>Campana 1629</td>\n",
       "      <td>1832.0</td>\n",
       "      <td>11.0</td>\n",
       "      <td>42851819.0</td>\n",
       "      <td>bibliotecamarechal@hotmail.com</td>\n",
       "      <td>NaN</td>\n",
       "      <td>CONABIP</td>\n",
       "    </tr>\n",
       "    <tr>\n",
       "      <th>1914</th>\n",
       "      <td>2000010</td>\n",
       "      <td>2</td>\n",
       "      <td>2000</td>\n",
       "      <td>Bibliotecas Populares</td>\n",
       "      <td>Ciudad Autónoma de Buenos Aires</td>\n",
       "      <td>Ciudad de Buenos Aires</td>\n",
       "      <td>Biblioteca Popular Creando Horizontes Educativos</td>\n",
       "      <td>Albarellos 2825</td>\n",
       "      <td>1419.0</td>\n",
       "      <td>11.0</td>\n",
       "      <td>38542459.0</td>\n",
       "      <td>s/d</td>\n",
       "      <td>NaN</td>\n",
       "      <td>CONABIP</td>\n",
       "    </tr>\n",
       "  </tbody>\n",
       "</table>\n",
       "</div>"
      ],
      "text/plain": [
       "      cod_localidad  id_provincia  id_departamento              categoria  \\\n",
       "1064       46119010            46            46119  Bibliotecas Populares   \n",
       "12          6105060             6             6105  Bibliotecas Populares   \n",
       "663        86035090            86            86035  Bibliotecas Populares   \n",
       "1638        6490010             6             6490  Bibliotecas Populares   \n",
       "1914        2000010             2             2000  Bibliotecas Populares   \n",
       "\n",
       "                            provincia               localidad  \\\n",
       "1064                         La Rioja              Alpasinche   \n",
       "12                       Buenos Aires                 Bolívar   \n",
       "663               Santiago del Estero                La Banda   \n",
       "1638                     Buenos Aires         Ingeniero Budge   \n",
       "1914  Ciudad Autónoma de Buenos Aires  Ciudad de Buenos Aires   \n",
       "\n",
       "                                                nombre              domicilio  \\\n",
       "1064  Biblioteca Popular Pastor de la Colina Villafañe  Ruta Nacional Nro. 40   \n",
       "12             Biblioteca Popular Bernardino Rivadavia           Las Heras 80   \n",
       "663                 Biblioteca Popular Narciso Laprida            Laprida 434   \n",
       "1638              Biblioteca Popular Leopoldo Marechal           Campana 1629   \n",
       "1914  Biblioteca Popular Creando Horizontes Educativos        Albarellos 2825   \n",
       "\n",
       "     codigo_postal  Cod_tel    Teléfono                            mail  web  \\\n",
       "1064        5325.0   3825.0    422560.0                             s/d  NaN   \n",
       "12             NaN   2314.0    420626.0      bib_rivadavia@yahoo.com.ar  NaN   \n",
       "663            NaN    385.0   4270932.0                             s/d  NaN   \n",
       "1638        1832.0     11.0  42851819.0  bibliotecamarechal@hotmail.com  NaN   \n",
       "1914        1419.0     11.0  38542459.0                             s/d  NaN   \n",
       "\n",
       "       fuente  \n",
       "1064  CONABIP  \n",
       "12    CONABIP  \n",
       "663   CONABIP  \n",
       "1638  CONABIP  \n",
       "1914  CONABIP  "
      ]
     },
     "execution_count": 46,
     "metadata": {},
     "output_type": "execute_result"
    }
   ],
   "source": [
    "# Columnas para master_df: cod_localidad, id_provincia, id_departamento, categoría, \n",
    "# provincia, localidad, nombre, domicilio, código postal, número de teléfono, mail, web\n",
    "\n",
    "# Cargar nombres de columnas de interés de cada df en mismo orden\n",
    "columns = ['cod_localidad', 'id_provincia', 'id_departamento', 'categoria', \n",
    "                'provincia', 'localidad','nombre','domicilio', 'codigo_postal', 'Cod_tel',\n",
    "                'Teléfono', 'mail', 'web', 'fuente' ]\n",
    "bibliotecas_columns = ['Cod_Loc', 'IdProvincia', 'IdDepartamento', 'Categoría', \n",
    "                        'Provincia', 'Localidad','Nombre','Domicilio', 'CP', 'Cod_tel', \n",
    "                        'Teléfono', 'Mail', 'Web', 'Fuente']\n",
    "cines_columns = ['Cod_Loc', 'IdProvincia', 'IdDepartamento', 'Categoría', 'Provincia', \n",
    "                    'Localidad','Nombre','Dirección', 'CP', 'cod_area', 'Teléfono', 'Mail', \n",
    "                    'Web', 'Fuente']\n",
    "museos_columns = ['Cod_Loc', 'IdProvincia', 'IdDepartamento', 'categoria', 'provincia', \n",
    "                    'localidad','nombre','direccion', 'CP', 'cod_area', 'telefono', \n",
    "                    'Mail', 'Web', 'fuente']\n",
    "\n",
    "# Renombrar columnas en cada df para que todos sean iguales y se pueda concatenar\n",
    "bibliotecas_df.rename(columns=dict(zip(bibliotecas_columns, columns)), inplace=True)\n",
    "cines_df.rename(columns=dict(zip(cines_columns, columns)), inplace=True)\n",
    "museos_df.rename(columns=dict(zip(museos_columns, columns)), inplace=True)\n",
    "\n",
    "# Concatenar dfs en master y ver resultados\n",
    "master_df = pd.concat([bibliotecas_df[columns], cines_df[columns], museos_df[columns]])\n",
    "display(master_df.columns, master_df.shape)\n",
    "master_df.sample(5)"
   ]
  },
  {
   "cell_type": "markdown",
   "metadata": {},
   "source": [
    "### 2° Unificar cod_tel y telefono en una única columna"
   ]
  },
  {
   "cell_type": "code",
   "execution_count": 3,
   "metadata": {},
   "outputs": [
    {
     "data": {
      "text/plain": [
       "dtype('float64')"
      ]
     },
     "metadata": {},
     "output_type": "display_data"
    },
    {
     "data": {
      "text/plain": [
       "dtype('O')"
      ]
     },
     "metadata": {},
     "output_type": "display_data"
    },
    {
     "data": {
      "text/html": [
       "<div>\n",
       "<style scoped>\n",
       "    .dataframe tbody tr th:only-of-type {\n",
       "        vertical-align: middle;\n",
       "    }\n",
       "\n",
       "    .dataframe tbody tr th {\n",
       "        vertical-align: top;\n",
       "    }\n",
       "\n",
       "    .dataframe thead th {\n",
       "        text-align: right;\n",
       "    }\n",
       "</style>\n",
       "<table border=\"1\" class=\"dataframe\">\n",
       "  <thead>\n",
       "    <tr style=\"text-align: right;\">\n",
       "      <th></th>\n",
       "      <th>Cod_tel</th>\n",
       "      <th>Teléfono</th>\n",
       "    </tr>\n",
       "  </thead>\n",
       "  <tbody>\n",
       "    <tr>\n",
       "      <th>310</th>\n",
       "      <td>2257.0</td>\n",
       "      <td>422022.0</td>\n",
       "    </tr>\n",
       "    <tr>\n",
       "      <th>1228</th>\n",
       "      <td>11.0</td>\n",
       "      <td>47687377.0</td>\n",
       "    </tr>\n",
       "    <tr>\n",
       "      <th>1547</th>\n",
       "      <td>3404.0</td>\n",
       "      <td>471037.0</td>\n",
       "    </tr>\n",
       "    <tr>\n",
       "      <th>1484</th>\n",
       "      <td>NaN</td>\n",
       "      <td>NaN</td>\n",
       "    </tr>\n",
       "    <tr>\n",
       "      <th>2000</th>\n",
       "      <td>NaN</td>\n",
       "      <td>NaN</td>\n",
       "    </tr>\n",
       "    <tr>\n",
       "      <th>689</th>\n",
       "      <td>3755.0</td>\n",
       "      <td>425832.0</td>\n",
       "    </tr>\n",
       "    <tr>\n",
       "      <th>684</th>\n",
       "      <td>2954.0</td>\n",
       "      <td>381 998</td>\n",
       "    </tr>\n",
       "    <tr>\n",
       "      <th>736</th>\n",
       "      <td>11.0</td>\n",
       "      <td>42257383.0</td>\n",
       "    </tr>\n",
       "    <tr>\n",
       "      <th>25</th>\n",
       "      <td>2344.0</td>\n",
       "      <td>481246.0</td>\n",
       "    </tr>\n",
       "  </tbody>\n",
       "</table>\n",
       "</div>"
      ],
      "text/plain": [
       "      Cod_tel    Teléfono\n",
       "310    2257.0    422022.0\n",
       "1228     11.0  47687377.0\n",
       "1547   3404.0    471037.0\n",
       "1484      NaN         NaN\n",
       "2000      NaN         NaN\n",
       "689    3755.0    425832.0\n",
       "684    2954.0     381 998\n",
       "736      11.0  42257383.0\n",
       "25     2344.0    481246.0"
      ]
     },
     "execution_count": 3,
     "metadata": {},
     "output_type": "execute_result"
    }
   ],
   "source": [
    "display(master_df['Cod_tel'].dtype, master_df['Teléfono'].dtype)\n",
    "master_df[['Cod_tel', 'Teléfono']].sample(9)"
   ]
  },
  {
   "cell_type": "code",
   "execution_count": 4,
   "metadata": {},
   "outputs": [],
   "source": [
    "# Cod_tel es de tipo float por lo que los nros tienen agregado .0 al final, y hay valores nulos\n",
    "# Teléfono es tipo str, tiene valores con espacios en blanco, pero también tiene algunos con .0 al final y valores nulos\n",
    "# La nueva columna será str para preservar nulos, y se creará uniendo los dos campos (siempre y cuando haya valor en Teléfono)\n",
    "# separados por un espacio (para seguir formato presentado), previa eliminación de los .0\n",
    "\n",
    "def make_phone_number(row):\n",
    "\n",
    "    if not pd.isnull(row['Teléfono']):\n",
    "        # convierto a str\n",
    "        tel = str(row['Teléfono']).strip()\n",
    "        # elimino .0 final si tiene\n",
    "        if tel.find('.0') != -1:\n",
    "            tel = tel[:tel.find('.0')]\n",
    "        # chequeo código para ver si debo concatenar o va solo nro de telefono sin cod area\n",
    "        if not pd.isnull(row['Cod_tel']):\n",
    "            cod = str(row['Cod_tel']).strip()\n",
    "            if cod.find('.0') != -1:\n",
    "                cod = cod[:cod.find('.0')]\n",
    "            row['telefono'] = cod + ' ' + tel\n",
    "        else:\n",
    "            row['telefono'] = tel\n",
    "    else:\n",
    "    # si no tengo número de teléfono no me interesa si hay código de área \n",
    "        row['telefono'] = np.nan\n",
    "    return row    \n",
    "\n",
    "master_df = master_df.apply(make_phone_number, axis='columns')\n",
    "\n",
    "master_df[['Cod_tel', 'Teléfono', 'telefono']].sample(12)\n",
    "master_df.drop(['Cod_tel', 'Teléfono'], inplace=True, axis='columns')\n",
    "columns.remove('Cod_tel')\n",
    "columns.remove('Teléfono')"
   ]
  },
  {
   "cell_type": "markdown",
   "metadata": {},
   "source": [
    "### Explorar datos por columna"
   ]
  },
  {
   "cell_type": "code",
   "execution_count": 5,
   "metadata": {},
   "outputs": [
    {
     "data": {
      "text/plain": [
       "'---------------------------- Columna cod_localidad - int64 ----------------------------'"
      ]
     },
     "metadata": {},
     "output_type": "display_data"
    },
    {
     "data": {
      "text/plain": [
       "'Total: 3528  |  Nulos: 0  |  No nulos: 3528 | Únicos: 1197'"
      ]
     },
     "metadata": {},
     "output_type": "display_data"
    },
    {
     "data": {
      "text/plain": [
       "'Top Distribución de valores:'"
      ]
     },
     "metadata": {},
     "output_type": "display_data"
    },
    {
     "data": {
      "text/plain": [
       "2000010     210\n",
       "14014010     92\n",
       "82063170     72\n",
       "6441030      63\n",
       "82084270     61\n",
       "66028050     50\n",
       "22140060     46\n",
       "58035070     37\n",
       "86049110     31\n",
       "50007010     31\n",
       "70028010     30\n",
       "90084010     27\n",
       "6056010      24\n",
       "6427010      22\n",
       "38021060     21\n",
       "Name: cod_localidad, dtype: int64"
      ]
     },
     "metadata": {},
     "output_type": "display_data"
    },
    {
     "data": {
      "text/plain": [
       "'---------------------------- Columna id_provincia - int64 ----------------------------'"
      ]
     },
     "metadata": {},
     "output_type": "display_data"
    },
    {
     "data": {
      "text/plain": [
       "'Total: 3528  |  Nulos: 0  |  No nulos: 3528 | Únicos: 24'"
      ]
     },
     "metadata": {},
     "output_type": "display_data"
    },
    {
     "data": {
      "text/plain": [
       "'Valores únicos:'"
      ]
     },
     "metadata": {},
     "output_type": "display_data"
    },
    {
     "data": {
      "text/plain": [
       "array([70,  2,  6, 30, 82, 18, 14, 74, 86, 90, 50, 46, 10, 66, 38, 22, 34,\n",
       "       54, 42, 58, 62, 78, 94, 26], dtype=int64)"
      ]
     },
     "metadata": {},
     "output_type": "display_data"
    },
    {
     "data": {
      "text/plain": [
       "'Distribución de valores:'"
      ]
     },
     "metadata": {},
     "output_type": "display_data"
    },
    {
     "data": {
      "text/plain": [
       "6     801\n",
       "82    458\n",
       "14    346\n",
       "2     210\n",
       "50    146\n",
       "30    128\n",
       "42    123\n",
       "58    115\n",
       "66    109\n",
       "22    107\n",
       "26    102\n",
       "62     92\n",
       "38     91\n",
       "70     83\n",
       "86     82\n",
       "74     80\n",
       "18     80\n",
       "54     78\n",
       "10     74\n",
       "90     71\n",
       "46     46\n",
       "78     46\n",
       "34     34\n",
       "94     26\n",
       "Name: id_provincia, dtype: int64"
      ]
     },
     "metadata": {},
     "output_type": "display_data"
    },
    {
     "data": {
      "text/plain": [
       "'---------------------------- Columna id_departamento - int64 ----------------------------'"
      ]
     },
     "metadata": {},
     "output_type": "display_data"
    },
    {
     "data": {
      "text/plain": [
       "'Total: 3528  |  Nulos: 0  |  No nulos: 3528 | Únicos: 461'"
      ]
     },
     "metadata": {},
     "output_type": "display_data"
    },
    {
     "data": {
      "text/plain": [
       "'Top Distribución de valores:'"
      ]
     },
     "metadata": {},
     "output_type": "display_data"
    },
    {
     "data": {
      "text/plain": [
       "2000     210\n",
       "14014     92\n",
       "82063     87\n",
       "82084     78\n",
       "6441      63\n",
       "58035     60\n",
       "22140     52\n",
       "66028     52\n",
       "62042     42\n",
       "82021     40\n",
       "14140     39\n",
       "86049     32\n",
       "50007     31\n",
       "14021     30\n",
       "70028     30\n",
       "Name: id_departamento, dtype: int64"
      ]
     },
     "metadata": {},
     "output_type": "display_data"
    },
    {
     "data": {
      "text/plain": [
       "'---------------------------- Columna categoria - object ----------------------------'"
      ]
     },
     "metadata": {},
     "output_type": "display_data"
    },
    {
     "data": {
      "text/plain": [
       "'Total: 3528  |  Nulos: 0  |  No nulos: 3528 | Únicos: 3'"
      ]
     },
     "metadata": {},
     "output_type": "display_data"
    },
    {
     "data": {
      "text/plain": [
       "'Valores únicos:'"
      ]
     },
     "metadata": {},
     "output_type": "display_data"
    },
    {
     "data": {
      "text/plain": [
       "array(['Bibliotecas Populares', 'Salas de cine',\n",
       "       'Espacios de Exhibición Patrimonial'], dtype=object)"
      ]
     },
     "metadata": {},
     "output_type": "display_data"
    },
    {
     "data": {
      "text/plain": [
       "'Distribución de valores:'"
      ]
     },
     "metadata": {},
     "output_type": "display_data"
    },
    {
     "data": {
      "text/plain": [
       "Bibliotecas Populares                 2017\n",
       "Espacios de Exhibición Patrimonial    1182\n",
       "Salas de cine                          329\n",
       "Name: categoria, dtype: int64"
      ]
     },
     "metadata": {},
     "output_type": "display_data"
    },
    {
     "data": {
      "text/plain": [
       "'---------------------------- Columna provincia - object ----------------------------'"
      ]
     },
     "metadata": {},
     "output_type": "display_data"
    },
    {
     "data": {
      "text/plain": [
       "'Total: 3528  |  Nulos: 0  |  No nulos: 3528 | Únicos: 27'"
      ]
     },
     "metadata": {},
     "output_type": "display_data"
    },
    {
     "data": {
      "text/plain": [
       "'Valores únicos:'"
      ]
     },
     "metadata": {},
     "output_type": "display_data"
    },
    {
     "data": {
      "text/plain": [
       "array(['San Juan', 'Ciudad Autónoma de Buenos Aires', 'Buenos Aires',\n",
       "       'Entre Ríos', 'Santa Fe', 'Corrientes', 'Córdoba', 'San Luis',\n",
       "       'Santiago del Estero', 'Tucumán', 'Mendoza', 'La Rioja',\n",
       "       'Catamarca', 'Salta', 'Jujuy', 'Chaco', 'Formosa', 'Misiones',\n",
       "       'La Pampa', 'Neuquén', 'Río Negro', 'Santa Cruz',\n",
       "       'Tierra del Fuego', 'Chubut', 'Santa Fé', 'Neuquén\\xa0',\n",
       "       'Tierra del Fuego, Antártida e Islas del Atlántico Sur'],\n",
       "      dtype=object)"
      ]
     },
     "metadata": {},
     "output_type": "display_data"
    },
    {
     "data": {
      "text/plain": [
       "'Distribución de valores:'"
      ]
     },
     "metadata": {},
     "output_type": "display_data"
    },
    {
     "data": {
      "text/plain": [
       "Buenos Aires                                             801\n",
       "Santa Fe                                                 457\n",
       "Córdoba                                                  346\n",
       "Ciudad Autónoma de Buenos Aires                          210\n",
       "Mendoza                                                  146\n",
       "Entre Ríos                                               128\n",
       "La Pampa                                                 123\n",
       "Salta                                                    110\n",
       "Chaco                                                    107\n",
       "Chubut                                                   102\n",
       "Río Negro                                                 92\n",
       "Jujuy                                                     91\n",
       "San Juan                                                  83\n",
       "Santiago del Estero                                       82\n",
       "San Luis                                                  80\n",
       "Corrientes                                                80\n",
       "Misiones                                                  78\n",
       "Neuquén                                                   75\n",
       "Catamarca                                                 74\n",
       "Tucumán                                                   71\n",
       "La Rioja                                                  46\n",
       "Santa Cruz                                                46\n",
       "Neuquén                                                   39\n",
       "Formosa                                                   34\n",
       "Tierra del Fuego, Antártida e Islas del Atlántico Sur     14\n",
       "Tierra del Fuego                                          12\n",
       "Santa Fé                                                   1\n",
       "Name: provincia, dtype: int64"
      ]
     },
     "metadata": {},
     "output_type": "display_data"
    },
    {
     "data": {
      "text/plain": [
       "'---------------------------- Columna localidad - object ----------------------------'"
      ]
     },
     "metadata": {},
     "output_type": "display_data"
    },
    {
     "data": {
      "text/plain": [
       "'Total: 3528  |  Nulos: 0  |  No nulos: 3528 | Únicos: 1417'"
      ]
     },
     "metadata": {},
     "output_type": "display_data"
    },
    {
     "data": {
      "text/plain": [
       "'Top Distribución de valores:'"
      ]
     },
     "metadata": {},
     "output_type": "display_data"
    },
    {
     "data": {
      "text/plain": [
       "Ciudad Autónoma de Buenos Aires    167\n",
       "Santa Fe                            72\n",
       "Rosario                             61\n",
       "Córdoba                             57\n",
       "La Plata                            55\n",
       "Salta                               49\n",
       "Resistencia                         46\n",
       "Ciudad de Buenos Aires              43\n",
       "Cordoba                             31\n",
       "Neuquén                             31\n",
       "Mendoza                             28\n",
       "Santiago del Estero                 27\n",
       "San Miguel de Tucumán               26\n",
       "San Juan                            25\n",
       "Corrientes                          21\n",
       "Name: localidad, dtype: int64"
      ]
     },
     "metadata": {},
     "output_type": "display_data"
    },
    {
     "data": {
      "text/plain": [
       "'---------------------------- Columna nombre - object ----------------------------'"
      ]
     },
     "metadata": {},
     "output_type": "display_data"
    },
    {
     "data": {
      "text/plain": [
       "'Total: 3528  |  Nulos: 0  |  No nulos: 3528 | Únicos: 2827'"
      ]
     },
     "metadata": {},
     "output_type": "display_data"
    },
    {
     "data": {
      "text/plain": [
       "'Top Distribución de valores:'"
      ]
     },
     "metadata": {},
     "output_type": "display_data"
    },
    {
     "data": {
      "text/plain": [
       "Biblioteca Popular Domingo Faustino Sarmiento    112\n",
       "Biblioteca Popular Mariano Moreno                 61\n",
       "Biblioteca Popular Bernardino Rivadavia           40\n",
       "Biblioteca Popular Juan Bautista Alberdi          37\n",
       "Biblioteca Popular Bartolomé Mitre                24\n",
       "Biblioteca Popular Almafuerte                     19\n",
       "Biblioteca Popular José Hernández                 19\n",
       "Biblioteca Popular Florentino Ameghino            18\n",
       "Cinemacenter                                      17\n",
       "Biblioteca Popular José Ingenieros                16\n",
       "Biblioteca Popular Manuel Belgrano                16\n",
       "Biblioteca Popular Alfonsina Storni               12\n",
       "Biblioteca Popular General San Martín             12\n",
       "Hoyts                                             11\n",
       "Museo De La Ciudad                                10\n",
       "Name: nombre, dtype: int64"
      ]
     },
     "metadata": {},
     "output_type": "display_data"
    },
    {
     "data": {
      "text/plain": [
       "'---------------------------- Columna domicilio - object ----------------------------'"
      ]
     },
     "metadata": {},
     "output_type": "display_data"
    },
    {
     "data": {
      "text/plain": [
       "'Total: 3528  |  Nulos: 18  |  No nulos: 3510 | Únicos: 3371'"
      ]
     },
     "metadata": {},
     "output_type": "display_data"
    },
    {
     "data": {
      "text/plain": [
       "'Top Distribución de valores:'"
      ]
     },
     "metadata": {},
     "output_type": "display_data"
    },
    {
     "data": {
      "text/plain": [
       "Sin dirección               30\n",
       "Sarmiento                   10\n",
       "San Martín                   9\n",
       "25 de mayo                   5\n",
       "9 de julio                   5\n",
       "Sarmiento 450                4\n",
       "Santa Rosa 1564              3\n",
       "Calle Principal              3\n",
       "San Martín 345               3\n",
       "Zona Rural                   3\n",
       "Independencia                3\n",
       "Sargento Cabral 2354         3\n",
       "Rivadavia S/N                3\n",
       "Estación del ferrocarril     3\n",
       "Planta Urbana                3\n",
       "Name: domicilio, dtype: int64"
      ]
     },
     "metadata": {},
     "output_type": "display_data"
    },
    {
     "data": {
      "text/plain": [
       "'---------------------------- Columna codigo_postal - object ----------------------------'"
      ]
     },
     "metadata": {},
     "output_type": "display_data"
    },
    {
     "data": {
      "text/plain": [
       "'Total: 3528  |  Nulos: 349  |  No nulos: 3179 | Únicos: 1937'"
      ]
     },
     "metadata": {},
     "output_type": "display_data"
    },
    {
     "data": {
      "text/plain": [
       "'Top Distribución de valores:'"
      ]
     },
     "metadata": {},
     "output_type": "display_data"
    },
    {
     "data": {
      "text/plain": [
       "2000.0      41\n",
       "1900.0      31\n",
       "4400.0      29\n",
       "3500.0      28\n",
       "4200.0      27\n",
       "S3002GVP    27\n",
       "8300.0      27\n",
       "5400.0      25\n",
       "5000.0      19\n",
       "3000.0      18\n",
       "7000.0      16\n",
       "5500        16\n",
       "3400.0      14\n",
       "4000.0      13\n",
       "7600.0      13\n",
       "Name: codigo_postal, dtype: int64"
      ]
     },
     "metadata": {},
     "output_type": "display_data"
    },
    {
     "data": {
      "text/plain": [
       "'---------------------------- Columna mail - object ----------------------------'"
      ]
     },
     "metadata": {},
     "output_type": "display_data"
    },
    {
     "data": {
      "text/plain": [
       "'Total: 3528  |  Nulos: 918  |  No nulos: 2610 | Únicos: 1980'"
      ]
     },
     "metadata": {},
     "output_type": "display_data"
    },
    {
     "data": {
      "text/plain": [
       "'Top Distribución de valores:'"
      ]
     },
     "metadata": {},
     "output_type": "display_data"
    },
    {
     "data": {
      "text/plain": [
       "s/d                                         561\n",
       "rmazzutti@hoyts.com.ar                       11\n",
       "iventura@cinemark.com.ar                      9\n",
       "info@atlascines.com.ar                        5\n",
       "fharari@hotmail.com.ar                        4\n",
       "diversidad.cultural@santafeciudad.gov.ar      4\n",
       "admin@lastipasboulevard.com.ar                3\n",
       "nuevocineteatrorex@gmail.com                  3\n",
       "cluduena@grupodinosaurio.com                  3\n",
       "rabdenur@gmail.com                            3\n",
       "ericontadoralinares@gmail.com                 3\n",
       "naiarg@naiarg.com.ar                          3\n",
       "gabriel.guralnik@gmail.com                    2\n",
       "york.cultura@vicentelopez.gov.ar              2\n",
       "museoesperanza@esperanza.gov.ar               2\n",
       "Name: mail, dtype: int64"
      ]
     },
     "metadata": {},
     "output_type": "display_data"
    },
    {
     "data": {
      "text/plain": [
       "'---------------------------- Columna web - object ----------------------------'"
      ]
     },
     "metadata": {},
     "output_type": "display_data"
    },
    {
     "data": {
      "text/plain": [
       "'Total: 3528  |  Nulos: 3124  |  No nulos: 404 | Únicos: 308'"
      ]
     },
     "metadata": {},
     "output_type": "display_data"
    },
    {
     "data": {
      "text/plain": [
       "'Top Distribución de valores:'"
      ]
     },
     "metadata": {},
     "output_type": "display_data"
    },
    {
     "data": {
      "text/plain": [
       "http://www.cinemacenter.com.ar/            17\n",
       "s/d                                        16\n",
       "https://www.cinemarkhoyts.com.ar/          11\n",
       "https://www.cinemarkhoyts.com.ar           10\n",
       "https://www.villagecines.com/               8\n",
       "cineatlasweb.com.ar                         7\n",
       "https://www.multiplex.com.ar/               6\n",
       "https://www.todoshowcase.com/               6\n",
       "http://www.cinesunstar.com/                 6\n",
       "www.ara.mil.ar                              4\n",
       "www.enteculturaltucuman.gov.ar              4\n",
       "http://cinema3dlarioja.com/                 3\n",
       "http://www.cinemalaplata.com                3\n",
       "www.culturarionegro.gov.ar                  3\n",
       "https://www.cinesdinomall.com.ar/Inicio     2\n",
       "Name: web, dtype: int64"
      ]
     },
     "metadata": {},
     "output_type": "display_data"
    }
   ],
   "source": [
    "# Explorar datos, chequeando nulos, valores únicos y distribución de valores\n",
    "total_rows = master_df.shape[0]\n",
    "for column in columns:\n",
    "    display(f'---------------------------- Columna {column} - {master_df[column].dtype} ----------------------------')\n",
    "    no_nulos = master_df[column].count()\n",
    "    unique_values_count = len(master_df[column].unique())\n",
    "    display(f'Total: {total_rows}  |  Nulos: {total_rows - no_nulos}  |  No nulos: {no_nulos} | Únicos: {unique_values_count}')\n",
    "    if unique_values_count > 30:\n",
    "        display(f'Top Distribución de valores:')\n",
    "        display(master_df[column].value_counts().iloc[:15])\n",
    "    else:\n",
    "        display(f'Valores únicos:')\n",
    "        display(master_df[column].unique())\n",
    "        display(f'Distribución de valores:')\n",
    "        display(master_df[column].value_counts())\n"
   ]
  },
  {
   "cell_type": "markdown",
   "metadata": {},
   "source": [
    "#### Resultados de de la exploración\n",
    "- IdProvincia tiene 24 valores únicos pero Provincia tiene 27 valores únicos. Hay 3 provincias que tienen dos nombres cada una y se deben unificar: \n",
    "1. Neuquén y Neuquén\\xa0, \n",
    "2. Tierra del Fuego y Tierra del Fuego, Antártida e Islas del Atlántico Sur\n",
    "3. Santa Fe y Santa Fé\n",
    "- Domicilio: tiene 18 nulos + 30 'sin dirección', convertir a nulos\n",
    "- Web tiene 3124 nulos y 16 valores 's/d', convertir a nulos\n",
    "- Mail tiene 918 nulos y 561 's/d', convertir a nulos\n",
    "- CP es string pero tiene valores con .0 al final, eliminar .0"
   ]
  },
  {
   "cell_type": "markdown",
   "metadata": {},
   "source": [
    "### 3° Unificar nombres de Provincia"
   ]
  },
  {
   "cell_type": "code",
   "execution_count": 6,
   "metadata": {},
   "outputs": [
    {
     "data": {
      "text/html": [
       "<div>\n",
       "<style scoped>\n",
       "    .dataframe tbody tr th:only-of-type {\n",
       "        vertical-align: middle;\n",
       "    }\n",
       "\n",
       "    .dataframe tbody tr th {\n",
       "        vertical-align: top;\n",
       "    }\n",
       "\n",
       "    .dataframe thead th {\n",
       "        text-align: right;\n",
       "    }\n",
       "</style>\n",
       "<table border=\"1\" class=\"dataframe\">\n",
       "  <thead>\n",
       "    <tr style=\"text-align: right;\">\n",
       "      <th></th>\n",
       "      <th></th>\n",
       "      <th>categoria</th>\n",
       "    </tr>\n",
       "    <tr>\n",
       "      <th>id_provincia</th>\n",
       "      <th>provincia</th>\n",
       "      <th></th>\n",
       "    </tr>\n",
       "  </thead>\n",
       "  <tbody>\n",
       "    <tr>\n",
       "      <th>2</th>\n",
       "      <th>Ciudad Autónoma de Buenos Aires</th>\n",
       "      <td>210</td>\n",
       "    </tr>\n",
       "    <tr>\n",
       "      <th>6</th>\n",
       "      <th>Buenos Aires</th>\n",
       "      <td>801</td>\n",
       "    </tr>\n",
       "    <tr>\n",
       "      <th>10</th>\n",
       "      <th>Catamarca</th>\n",
       "      <td>74</td>\n",
       "    </tr>\n",
       "    <tr>\n",
       "      <th>14</th>\n",
       "      <th>Córdoba</th>\n",
       "      <td>346</td>\n",
       "    </tr>\n",
       "    <tr>\n",
       "      <th>18</th>\n",
       "      <th>Corrientes</th>\n",
       "      <td>80</td>\n",
       "    </tr>\n",
       "    <tr>\n",
       "      <th>22</th>\n",
       "      <th>Chaco</th>\n",
       "      <td>107</td>\n",
       "    </tr>\n",
       "    <tr>\n",
       "      <th>26</th>\n",
       "      <th>Chubut</th>\n",
       "      <td>102</td>\n",
       "    </tr>\n",
       "    <tr>\n",
       "      <th>30</th>\n",
       "      <th>Entre Ríos</th>\n",
       "      <td>128</td>\n",
       "    </tr>\n",
       "    <tr>\n",
       "      <th>34</th>\n",
       "      <th>Formosa</th>\n",
       "      <td>34</td>\n",
       "    </tr>\n",
       "    <tr>\n",
       "      <th>38</th>\n",
       "      <th>Jujuy</th>\n",
       "      <td>91</td>\n",
       "    </tr>\n",
       "    <tr>\n",
       "      <th>42</th>\n",
       "      <th>La Pampa</th>\n",
       "      <td>123</td>\n",
       "    </tr>\n",
       "    <tr>\n",
       "      <th>46</th>\n",
       "      <th>La Rioja</th>\n",
       "      <td>46</td>\n",
       "    </tr>\n",
       "    <tr>\n",
       "      <th>50</th>\n",
       "      <th>Mendoza</th>\n",
       "      <td>146</td>\n",
       "    </tr>\n",
       "    <tr>\n",
       "      <th>54</th>\n",
       "      <th>Misiones</th>\n",
       "      <td>78</td>\n",
       "    </tr>\n",
       "    <tr>\n",
       "      <th rowspan=\"3\" valign=\"top\">58</th>\n",
       "      <th>Neuquén</th>\n",
       "      <td>75</td>\n",
       "    </tr>\n",
       "    <tr>\n",
       "      <th>Neuquén</th>\n",
       "      <td>39</td>\n",
       "    </tr>\n",
       "    <tr>\n",
       "      <th>Salta</th>\n",
       "      <td>1</td>\n",
       "    </tr>\n",
       "    <tr>\n",
       "      <th>62</th>\n",
       "      <th>Río Negro</th>\n",
       "      <td>92</td>\n",
       "    </tr>\n",
       "    <tr>\n",
       "      <th>66</th>\n",
       "      <th>Salta</th>\n",
       "      <td>109</td>\n",
       "    </tr>\n",
       "    <tr>\n",
       "      <th>70</th>\n",
       "      <th>San Juan</th>\n",
       "      <td>83</td>\n",
       "    </tr>\n",
       "    <tr>\n",
       "      <th>74</th>\n",
       "      <th>San Luis</th>\n",
       "      <td>80</td>\n",
       "    </tr>\n",
       "    <tr>\n",
       "      <th>78</th>\n",
       "      <th>Santa Cruz</th>\n",
       "      <td>46</td>\n",
       "    </tr>\n",
       "    <tr>\n",
       "      <th rowspan=\"2\" valign=\"top\">82</th>\n",
       "      <th>Santa Fe</th>\n",
       "      <td>457</td>\n",
       "    </tr>\n",
       "    <tr>\n",
       "      <th>Santa Fé</th>\n",
       "      <td>1</td>\n",
       "    </tr>\n",
       "    <tr>\n",
       "      <th>86</th>\n",
       "      <th>Santiago del Estero</th>\n",
       "      <td>82</td>\n",
       "    </tr>\n",
       "    <tr>\n",
       "      <th>90</th>\n",
       "      <th>Tucumán</th>\n",
       "      <td>71</td>\n",
       "    </tr>\n",
       "    <tr>\n",
       "      <th rowspan=\"2\" valign=\"top\">94</th>\n",
       "      <th>Tierra del Fuego</th>\n",
       "      <td>12</td>\n",
       "    </tr>\n",
       "    <tr>\n",
       "      <th>Tierra del Fuego, Antártida e Islas del Atlántico Sur</th>\n",
       "      <td>14</td>\n",
       "    </tr>\n",
       "  </tbody>\n",
       "</table>\n",
       "</div>"
      ],
      "text/plain": [
       "                                                                    categoria\n",
       "id_provincia provincia                                                       \n",
       "2            Ciudad Autónoma de Buenos Aires                              210\n",
       "6            Buenos Aires                                                 801\n",
       "10           Catamarca                                                     74\n",
       "14           Córdoba                                                      346\n",
       "18           Corrientes                                                    80\n",
       "22           Chaco                                                        107\n",
       "26           Chubut                                                       102\n",
       "30           Entre Ríos                                                   128\n",
       "34           Formosa                                                       34\n",
       "38           Jujuy                                                         91\n",
       "42           La Pampa                                                     123\n",
       "46           La Rioja                                                      46\n",
       "50           Mendoza                                                      146\n",
       "54           Misiones                                                      78\n",
       "58           Neuquén                                                       75\n",
       "             Neuquén                                                       39\n",
       "             Salta                                                          1\n",
       "62           Río Negro                                                     92\n",
       "66           Salta                                                        109\n",
       "70           San Juan                                                      83\n",
       "74           San Luis                                                      80\n",
       "78           Santa Cruz                                                    46\n",
       "82           Santa Fe                                                     457\n",
       "             Santa Fé                                                       1\n",
       "86           Santiago del Estero                                           82\n",
       "90           Tucumán                                                       71\n",
       "94           Tierra del Fuego                                              12\n",
       "             Tierra del Fuego, Antártida e Islas del Atlántico Sur         14"
      ]
     },
     "execution_count": 6,
     "metadata": {},
     "output_type": "execute_result"
    }
   ],
   "source": [
    "master_df[['id_provincia', 'provincia', 'categoria']].groupby(['id_provincia', 'provincia']).count().sort_values(by='id_provincia')"
   ]
  },
  {
   "cell_type": "code",
   "execution_count": 7,
   "metadata": {},
   "outputs": [
    {
     "data": {
      "text/html": [
       "<div>\n",
       "<style scoped>\n",
       "    .dataframe tbody tr th:only-of-type {\n",
       "        vertical-align: middle;\n",
       "    }\n",
       "\n",
       "    .dataframe tbody tr th {\n",
       "        vertical-align: top;\n",
       "    }\n",
       "\n",
       "    .dataframe thead th {\n",
       "        text-align: right;\n",
       "    }\n",
       "</style>\n",
       "<table border=\"1\" class=\"dataframe\">\n",
       "  <thead>\n",
       "    <tr style=\"text-align: right;\">\n",
       "      <th></th>\n",
       "      <th></th>\n",
       "      <th>categoria</th>\n",
       "    </tr>\n",
       "    <tr>\n",
       "      <th>id_provincia</th>\n",
       "      <th>provincia</th>\n",
       "      <th></th>\n",
       "    </tr>\n",
       "  </thead>\n",
       "  <tbody>\n",
       "    <tr>\n",
       "      <th>2</th>\n",
       "      <th>Ciudad Autónoma de Buenos Aires</th>\n",
       "      <td>210</td>\n",
       "    </tr>\n",
       "    <tr>\n",
       "      <th>6</th>\n",
       "      <th>Buenos Aires</th>\n",
       "      <td>801</td>\n",
       "    </tr>\n",
       "    <tr>\n",
       "      <th>10</th>\n",
       "      <th>Catamarca</th>\n",
       "      <td>74</td>\n",
       "    </tr>\n",
       "    <tr>\n",
       "      <th>14</th>\n",
       "      <th>Córdoba</th>\n",
       "      <td>346</td>\n",
       "    </tr>\n",
       "    <tr>\n",
       "      <th>18</th>\n",
       "      <th>Corrientes</th>\n",
       "      <td>80</td>\n",
       "    </tr>\n",
       "    <tr>\n",
       "      <th>22</th>\n",
       "      <th>Chaco</th>\n",
       "      <td>107</td>\n",
       "    </tr>\n",
       "    <tr>\n",
       "      <th>26</th>\n",
       "      <th>Chubut</th>\n",
       "      <td>102</td>\n",
       "    </tr>\n",
       "    <tr>\n",
       "      <th>30</th>\n",
       "      <th>Entre Ríos</th>\n",
       "      <td>128</td>\n",
       "    </tr>\n",
       "    <tr>\n",
       "      <th>34</th>\n",
       "      <th>Formosa</th>\n",
       "      <td>34</td>\n",
       "    </tr>\n",
       "    <tr>\n",
       "      <th>38</th>\n",
       "      <th>Jujuy</th>\n",
       "      <td>91</td>\n",
       "    </tr>\n",
       "    <tr>\n",
       "      <th>42</th>\n",
       "      <th>La Pampa</th>\n",
       "      <td>123</td>\n",
       "    </tr>\n",
       "    <tr>\n",
       "      <th>46</th>\n",
       "      <th>La Rioja</th>\n",
       "      <td>46</td>\n",
       "    </tr>\n",
       "    <tr>\n",
       "      <th>50</th>\n",
       "      <th>Mendoza</th>\n",
       "      <td>146</td>\n",
       "    </tr>\n",
       "    <tr>\n",
       "      <th>54</th>\n",
       "      <th>Misiones</th>\n",
       "      <td>78</td>\n",
       "    </tr>\n",
       "    <tr>\n",
       "      <th rowspan=\"2\" valign=\"top\">58</th>\n",
       "      <th>Neuquén</th>\n",
       "      <td>114</td>\n",
       "    </tr>\n",
       "    <tr>\n",
       "      <th>Salta</th>\n",
       "      <td>1</td>\n",
       "    </tr>\n",
       "    <tr>\n",
       "      <th>62</th>\n",
       "      <th>Río Negro</th>\n",
       "      <td>92</td>\n",
       "    </tr>\n",
       "    <tr>\n",
       "      <th>66</th>\n",
       "      <th>Salta</th>\n",
       "      <td>109</td>\n",
       "    </tr>\n",
       "    <tr>\n",
       "      <th>70</th>\n",
       "      <th>San Juan</th>\n",
       "      <td>83</td>\n",
       "    </tr>\n",
       "    <tr>\n",
       "      <th>74</th>\n",
       "      <th>San Luis</th>\n",
       "      <td>80</td>\n",
       "    </tr>\n",
       "    <tr>\n",
       "      <th>78</th>\n",
       "      <th>Santa Cruz</th>\n",
       "      <td>46</td>\n",
       "    </tr>\n",
       "    <tr>\n",
       "      <th>82</th>\n",
       "      <th>Santa Fé</th>\n",
       "      <td>458</td>\n",
       "    </tr>\n",
       "    <tr>\n",
       "      <th>86</th>\n",
       "      <th>Santiago del Estero</th>\n",
       "      <td>82</td>\n",
       "    </tr>\n",
       "    <tr>\n",
       "      <th>90</th>\n",
       "      <th>Tucumán</th>\n",
       "      <td>71</td>\n",
       "    </tr>\n",
       "    <tr>\n",
       "      <th>94</th>\n",
       "      <th>Tierra del Fuego, Antártida e Islas del Atlántico Sur</th>\n",
       "      <td>26</td>\n",
       "    </tr>\n",
       "  </tbody>\n",
       "</table>\n",
       "</div>"
      ],
      "text/plain": [
       "                                                                    categoria\n",
       "id_provincia provincia                                                       \n",
       "2            Ciudad Autónoma de Buenos Aires                              210\n",
       "6            Buenos Aires                                                 801\n",
       "10           Catamarca                                                     74\n",
       "14           Córdoba                                                      346\n",
       "18           Corrientes                                                    80\n",
       "22           Chaco                                                        107\n",
       "26           Chubut                                                       102\n",
       "30           Entre Ríos                                                   128\n",
       "34           Formosa                                                       34\n",
       "38           Jujuy                                                         91\n",
       "42           La Pampa                                                     123\n",
       "46           La Rioja                                                      46\n",
       "50           Mendoza                                                      146\n",
       "54           Misiones                                                      78\n",
       "58           Neuquén                                                      114\n",
       "             Salta                                                          1\n",
       "62           Río Negro                                                     92\n",
       "66           Salta                                                        109\n",
       "70           San Juan                                                      83\n",
       "74           San Luis                                                      80\n",
       "78           Santa Cruz                                                    46\n",
       "82           Santa Fé                                                     458\n",
       "86           Santiago del Estero                                           82\n",
       "90           Tucumán                                                       71\n",
       "94           Tierra del Fuego, Antártida e Islas del Atlántico Sur         26"
      ]
     },
     "execution_count": 7,
     "metadata": {},
     "output_type": "execute_result"
    }
   ],
   "source": [
    "def unify_province_names(row):\n",
    "    if row['provincia'] == 'Neuquén\\xa0':\n",
    "        row['provincia'] = 'Neuquén'\n",
    "    elif row['provincia'] == 'Santa Fe':\n",
    "        row['provincia'] = 'Santa Fé'\n",
    "    elif row['provincia'] == 'Tierra del Fuego':\n",
    "        row['provincia'] = 'Tierra del Fuego, Antártida e Islas del Atlántico Sur'\n",
    "    return row\n",
    "master_df = master_df.apply(unify_province_names, axis='columns')\n",
    "\n",
    "master_df[['id_provincia', 'provincia', 'categoria']].groupby(['id_provincia', 'provincia']).count().sort_values(by='id_provincia')"
   ]
  },
  {
   "cell_type": "markdown",
   "metadata": {},
   "source": [
    "- Se detecta una row que tiene Salta con codigo 58, que corresponde a Neuquén. Cambiar a 66\n",
    "### 4° Cambiar cód de Salta en row erronea"
   ]
  },
  {
   "cell_type": "code",
   "execution_count": 8,
   "metadata": {},
   "outputs": [
    {
     "data": {
      "text/html": [
       "<div>\n",
       "<style scoped>\n",
       "    .dataframe tbody tr th:only-of-type {\n",
       "        vertical-align: middle;\n",
       "    }\n",
       "\n",
       "    .dataframe tbody tr th {\n",
       "        vertical-align: top;\n",
       "    }\n",
       "\n",
       "    .dataframe thead th {\n",
       "        text-align: right;\n",
       "    }\n",
       "</style>\n",
       "<table border=\"1\" class=\"dataframe\">\n",
       "  <thead>\n",
       "    <tr style=\"text-align: right;\">\n",
       "      <th></th>\n",
       "      <th>cod_localidad</th>\n",
       "      <th>id_provincia</th>\n",
       "      <th>id_departamento</th>\n",
       "      <th>categoria</th>\n",
       "      <th>provincia</th>\n",
       "      <th>localidad</th>\n",
       "      <th>nombre</th>\n",
       "      <th>domicilio</th>\n",
       "      <th>codigo_postal</th>\n",
       "      <th>mail</th>\n",
       "      <th>web</th>\n",
       "      <th>telefono</th>\n",
       "    </tr>\n",
       "  </thead>\n",
       "  <tbody>\n",
       "    <tr>\n",
       "      <th>860</th>\n",
       "      <td>58035070</td>\n",
       "      <td>58</td>\n",
       "      <td>58035</td>\n",
       "      <td>Espacios de Exhibición Patrimonial</td>\n",
       "      <td>Salta</td>\n",
       "      <td>Salta</td>\n",
       "      <td>Museo Catedralicio</td>\n",
       "      <td>Av. Belgrano 589</td>\n",
       "      <td>NaN</td>\n",
       "      <td>NaN</td>\n",
       "      <td>NaN</td>\n",
       "      <td>NaN</td>\n",
       "    </tr>\n",
       "  </tbody>\n",
       "</table>\n",
       "</div>"
      ],
      "text/plain": [
       "     cod_localidad  id_provincia  id_departamento  \\\n",
       "860       58035070            58            58035   \n",
       "\n",
       "                              categoria provincia localidad  \\\n",
       "860  Espacios de Exhibición Patrimonial     Salta     Salta   \n",
       "\n",
       "                 nombre         domicilio codigo_postal mail  web telefono  \n",
       "860  Museo Catedralicio  Av. Belgrano 589           NaN  NaN  NaN      NaN  "
      ]
     },
     "execution_count": 8,
     "metadata": {},
     "output_type": "execute_result"
    }
   ],
   "source": [
    "# Chequear si lo que está incorrecto es el codigo o el nombre de la pcia.\n",
    "master_df.loc[(master_df['provincia'] == 'Salta') & (master_df['id_provincia'] == 58)]"
   ]
  },
  {
   "cell_type": "code",
   "execution_count": 9,
   "metadata": {},
   "outputs": [
    {
     "data": {
      "text/html": [
       "<div>\n",
       "<style scoped>\n",
       "    .dataframe tbody tr th:only-of-type {\n",
       "        vertical-align: middle;\n",
       "    }\n",
       "\n",
       "    .dataframe tbody tr th {\n",
       "        vertical-align: top;\n",
       "    }\n",
       "\n",
       "    .dataframe thead th {\n",
       "        text-align: right;\n",
       "    }\n",
       "</style>\n",
       "<table border=\"1\" class=\"dataframe\">\n",
       "  <thead>\n",
       "    <tr style=\"text-align: right;\">\n",
       "      <th></th>\n",
       "      <th></th>\n",
       "      <th>categoria</th>\n",
       "    </tr>\n",
       "    <tr>\n",
       "      <th>id_provincia</th>\n",
       "      <th>provincia</th>\n",
       "      <th></th>\n",
       "    </tr>\n",
       "  </thead>\n",
       "  <tbody>\n",
       "    <tr>\n",
       "      <th>2</th>\n",
       "      <th>Ciudad Autónoma de Buenos Aires</th>\n",
       "      <td>210</td>\n",
       "    </tr>\n",
       "    <tr>\n",
       "      <th>6</th>\n",
       "      <th>Buenos Aires</th>\n",
       "      <td>801</td>\n",
       "    </tr>\n",
       "    <tr>\n",
       "      <th>10</th>\n",
       "      <th>Catamarca</th>\n",
       "      <td>74</td>\n",
       "    </tr>\n",
       "    <tr>\n",
       "      <th>14</th>\n",
       "      <th>Córdoba</th>\n",
       "      <td>346</td>\n",
       "    </tr>\n",
       "    <tr>\n",
       "      <th>18</th>\n",
       "      <th>Corrientes</th>\n",
       "      <td>80</td>\n",
       "    </tr>\n",
       "    <tr>\n",
       "      <th>22</th>\n",
       "      <th>Chaco</th>\n",
       "      <td>107</td>\n",
       "    </tr>\n",
       "    <tr>\n",
       "      <th>26</th>\n",
       "      <th>Chubut</th>\n",
       "      <td>102</td>\n",
       "    </tr>\n",
       "    <tr>\n",
       "      <th>30</th>\n",
       "      <th>Entre Ríos</th>\n",
       "      <td>128</td>\n",
       "    </tr>\n",
       "    <tr>\n",
       "      <th>34</th>\n",
       "      <th>Formosa</th>\n",
       "      <td>34</td>\n",
       "    </tr>\n",
       "    <tr>\n",
       "      <th>38</th>\n",
       "      <th>Jujuy</th>\n",
       "      <td>91</td>\n",
       "    </tr>\n",
       "    <tr>\n",
       "      <th>42</th>\n",
       "      <th>La Pampa</th>\n",
       "      <td>123</td>\n",
       "    </tr>\n",
       "    <tr>\n",
       "      <th>46</th>\n",
       "      <th>La Rioja</th>\n",
       "      <td>46</td>\n",
       "    </tr>\n",
       "    <tr>\n",
       "      <th>50</th>\n",
       "      <th>Mendoza</th>\n",
       "      <td>146</td>\n",
       "    </tr>\n",
       "    <tr>\n",
       "      <th>54</th>\n",
       "      <th>Misiones</th>\n",
       "      <td>78</td>\n",
       "    </tr>\n",
       "    <tr>\n",
       "      <th>58</th>\n",
       "      <th>Neuquén</th>\n",
       "      <td>114</td>\n",
       "    </tr>\n",
       "    <tr>\n",
       "      <th>62</th>\n",
       "      <th>Río Negro</th>\n",
       "      <td>92</td>\n",
       "    </tr>\n",
       "    <tr>\n",
       "      <th>66</th>\n",
       "      <th>Salta</th>\n",
       "      <td>110</td>\n",
       "    </tr>\n",
       "    <tr>\n",
       "      <th>70</th>\n",
       "      <th>San Juan</th>\n",
       "      <td>83</td>\n",
       "    </tr>\n",
       "    <tr>\n",
       "      <th>74</th>\n",
       "      <th>San Luis</th>\n",
       "      <td>80</td>\n",
       "    </tr>\n",
       "    <tr>\n",
       "      <th>78</th>\n",
       "      <th>Santa Cruz</th>\n",
       "      <td>46</td>\n",
       "    </tr>\n",
       "    <tr>\n",
       "      <th>82</th>\n",
       "      <th>Santa Fé</th>\n",
       "      <td>458</td>\n",
       "    </tr>\n",
       "    <tr>\n",
       "      <th>86</th>\n",
       "      <th>Santiago del Estero</th>\n",
       "      <td>82</td>\n",
       "    </tr>\n",
       "    <tr>\n",
       "      <th>90</th>\n",
       "      <th>Tucumán</th>\n",
       "      <td>71</td>\n",
       "    </tr>\n",
       "    <tr>\n",
       "      <th>94</th>\n",
       "      <th>Tierra del Fuego, Antártida e Islas del Atlántico Sur</th>\n",
       "      <td>26</td>\n",
       "    </tr>\n",
       "  </tbody>\n",
       "</table>\n",
       "</div>"
      ],
      "text/plain": [
       "                                                                    categoria\n",
       "id_provincia provincia                                                       \n",
       "2            Ciudad Autónoma de Buenos Aires                              210\n",
       "6            Buenos Aires                                                 801\n",
       "10           Catamarca                                                     74\n",
       "14           Córdoba                                                      346\n",
       "18           Corrientes                                                    80\n",
       "22           Chaco                                                        107\n",
       "26           Chubut                                                       102\n",
       "30           Entre Ríos                                                   128\n",
       "34           Formosa                                                       34\n",
       "38           Jujuy                                                         91\n",
       "42           La Pampa                                                     123\n",
       "46           La Rioja                                                      46\n",
       "50           Mendoza                                                      146\n",
       "54           Misiones                                                      78\n",
       "58           Neuquén                                                      114\n",
       "62           Río Negro                                                     92\n",
       "66           Salta                                                        110\n",
       "70           San Juan                                                      83\n",
       "74           San Luis                                                      80\n",
       "78           Santa Cruz                                                    46\n",
       "82           Santa Fé                                                     458\n",
       "86           Santiago del Estero                                           82\n",
       "90           Tucumán                                                       71\n",
       "94           Tierra del Fuego, Antártida e Islas del Atlántico Sur         26"
      ]
     },
     "execution_count": 9,
     "metadata": {},
     "output_type": "execute_result"
    }
   ],
   "source": [
    "master_df.loc[(master_df['provincia'] == 'Salta') & (master_df['id_provincia'] == 58), 'id_provincia'] = 66\n",
    "\n",
    "#chequear con group by\n",
    "master_df[['id_provincia', 'provincia', 'categoria']].groupby(['id_provincia', 'provincia']).count().sort_values(by='id_provincia')"
   ]
  },
  {
   "cell_type": "markdown",
   "metadata": {},
   "source": [
    "- Antes de unificar nulos, chequear que no haya 0s o espacios en blanco en ninguna columna"
   ]
  },
  {
   "cell_type": "code",
   "execution_count": 10,
   "metadata": {},
   "outputs": [
    {
     "data": {
      "text/plain": [
       "'cod_localidad: zero 0'"
      ]
     },
     "metadata": {},
     "output_type": "display_data"
    },
    {
     "data": {
      "text/plain": [
       "'id_provincia: zero 0'"
      ]
     },
     "metadata": {},
     "output_type": "display_data"
    },
    {
     "data": {
      "text/plain": [
       "'id_departamento: zero 0'"
      ]
     },
     "metadata": {},
     "output_type": "display_data"
    },
    {
     "data": {
      "text/plain": [
       "'categoria: empty 0, whitespace 0'"
      ]
     },
     "metadata": {},
     "output_type": "display_data"
    },
    {
     "data": {
      "text/plain": [
       "'provincia: empty 0, whitespace 0'"
      ]
     },
     "metadata": {},
     "output_type": "display_data"
    },
    {
     "data": {
      "text/plain": [
       "'localidad: empty 0, whitespace 0'"
      ]
     },
     "metadata": {},
     "output_type": "display_data"
    },
    {
     "data": {
      "text/plain": [
       "'nombre: empty 0, whitespace 0'"
      ]
     },
     "metadata": {},
     "output_type": "display_data"
    },
    {
     "data": {
      "text/plain": [
       "'domicilio: empty 0, whitespace 0'"
      ]
     },
     "metadata": {},
     "output_type": "display_data"
    },
    {
     "data": {
      "text/plain": [
       "'codigo_postal: empty 0, whitespace 0'"
      ]
     },
     "metadata": {},
     "output_type": "display_data"
    },
    {
     "data": {
      "text/plain": [
       "'mail: empty 0, whitespace 0'"
      ]
     },
     "metadata": {},
     "output_type": "display_data"
    },
    {
     "data": {
      "text/plain": [
       "'web: empty 0, whitespace 0'"
      ]
     },
     "metadata": {},
     "output_type": "display_data"
    },
    {
     "data": {
      "text/plain": [
       "'telefono: empty 0, whitespace 0'"
      ]
     },
     "metadata": {},
     "output_type": "display_data"
    }
   ],
   "source": [
    "from pandas.api.types import is_string_dtype, is_numeric_dtype\n",
    "\n",
    "columns.append('telefono')\n",
    "\n",
    "for column in columns:\n",
    "    if is_string_dtype(master_df[column]):\n",
    "        # Para str chequeo espacio en blanco y vacio\n",
    "        empty_count = master_df.loc[master_df[column] == '', column].count()\n",
    "        whitespace_count = master_df.loc[master_df[column] == ' ', column].count()        \n",
    "        display(f'{column}: empty {empty_count}, whitespace {whitespace_count}')\n",
    "    elif is_numeric_dtype(master_df[column]):\n",
    "        # Para numeric chequeo 0\n",
    "        zero_count = master_df.loc[master_df[column] == 0, column].count()\n",
    "        display(f'{column}: zero {zero_count}')"
   ]
  },
  {
   "cell_type": "markdown",
   "metadata": {},
   "source": [
    "### 5° Unificar nulos"
   ]
  },
  {
   "cell_type": "code",
   "execution_count": 11,
   "metadata": {},
   "outputs": [
    {
     "data": {
      "text/plain": [
       "Sarmiento               10\n",
       "San Martín               9\n",
       "25 de mayo               5\n",
       "9 de julio               5\n",
       "Sarmiento 450            4\n",
       "                        ..\n",
       "Junín 2238               1\n",
       "Chubut y O.del Sur       1\n",
       "Ruta 36 Km 3             1\n",
       "Av. José Roberti 363     1\n",
       "Ernesto Padilla S/N      1\n",
       "Name: domicilio, Length: 3367, dtype: int64"
      ]
     },
     "metadata": {},
     "output_type": "display_data"
    },
    {
     "data": {
      "text/plain": [
       "rmazzutti@hoyts.com.ar                      11\n",
       "iventura@cinemark.com.ar                     9\n",
       "info@atlascines.com.ar                       5\n",
       "diversidad.cultural@santafeciudad.gov.ar     4\n",
       "fharari@hotmail.com.ar                       4\n",
       "                                            ..\n",
       "dirrecioncultura@52.coopenet.com.ar          1\n",
       "biblio2945amenabar@hotmail.com               1\n",
       "bibliotecahoracioquiroga@live.com            1\n",
       "bibliotecalugones@bombal.net.ar              1\n",
       "museoejercitotucuman@hotmail.com             1\n",
       "Name: mail, Length: 1978, dtype: int64"
      ]
     },
     "metadata": {},
     "output_type": "display_data"
    },
    {
     "data": {
      "text/plain": [
       "http://www.cinemacenter.com.ar/                                                       17\n",
       "https://www.cinemarkhoyts.com.ar/                                                     11\n",
       "https://www.cinemarkhoyts.com.ar                                                      10\n",
       "https://www.villagecines.com/                                                          8\n",
       "cineatlasweb.com.ar                                                                    7\n",
       "                                                                                      ..\n",
       "https://twitter.com/cineteatroalfa                                                     1\n",
       "https://www.facebook.com/pg/CineAHZ/about/?ref=page_internal                           1\n",
       "https://www.facebook.com/pg/Cines-Avenida-112830095434025/about/?ref=page_internal     1\n",
       "https://www.facebook.com/cine.italia/                                                  1\n",
       "www.casaindependencia.com.ar                                                           1\n",
       "Name: web, Length: 306, dtype: int64"
      ]
     },
     "metadata": {},
     "output_type": "display_data"
    }
   ],
   "source": [
    "#Domicilio: tiene 18 nulos + 30 'Sin dirección', convertir a nulos\n",
    "#Web tiene 3124 nulos y 16 valores 's/d', convertir a nulos\n",
    "#Mail tiene 918 nulos y 561 's/d', convertir a nulos\n",
    "\n",
    "def convert_text_nulls_to_nan(row):\n",
    "    nulls = ['sin dirección', 's/d']\n",
    "    if str(row['domicilio']).strip().lower() in nulls:\n",
    "        row['domicilio'] = np.nan\n",
    "    if str(row['web']).strip().lower() in nulls:\n",
    "        row['web'] = np.nan\n",
    "    if str(row['mail']).strip().lower() in nulls:\n",
    "        row['mail'] = np.nan\n",
    "    return row\n",
    "\n",
    "master_df = master_df.apply(convert_text_nulls_to_nan, axis='columns')\n",
    "# Check\n",
    "display(master_df['domicilio'].value_counts())\n",
    "display(master_df['mail'].value_counts())\n",
    "display(master_df['web'].value_counts())\n",
    "\n"
   ]
  },
  {
   "cell_type": "markdown",
   "metadata": {},
   "source": [
    "### 6° Quitar .0 de CP"
   ]
  },
  {
   "cell_type": "code",
   "execution_count": 12,
   "metadata": {},
   "outputs": [
    {
     "data": {
      "text/plain": [
       "dtype('O')"
      ]
     },
     "metadata": {},
     "output_type": "display_data"
    },
    {
     "data": {
      "text/plain": [
       "25         5700\n",
       "299    C1416AAI\n",
       "390    C1027AAO\n",
       "767      3025.0\n",
       "177      5777.0\n",
       "367         NaN\n",
       "Name: codigo_postal, dtype: object"
      ]
     },
     "execution_count": 12,
     "metadata": {},
     "output_type": "execute_result"
    }
   ],
   "source": [
    "display(master_df['codigo_postal'].dtype)\n",
    "master_df['codigo_postal'].sample(6)"
   ]
  },
  {
   "cell_type": "code",
   "execution_count": 13,
   "metadata": {},
   "outputs": [
    {
     "data": {
      "text/plain": [
       "1293    9311\n",
       "1661    4427\n",
       "270     3044\n",
       "745     5755\n",
       "1853    3013\n",
       "766     5501\n",
       "Name: codigo_postal, dtype: object"
      ]
     },
     "execution_count": 13,
     "metadata": {},
     "output_type": "execute_result"
    }
   ],
   "source": [
    "master_df['codigo_postal'] = master_df['codigo_postal'].map(lambda x: str(x)[:-2] if str(x).find('.0') != -1 else x)\n",
    "master_df['codigo_postal'].sample(6)"
   ]
  },
  {
   "cell_type": "markdown",
   "metadata": {},
   "source": [
    "## B) Transformaciones para resumen dataset"
   ]
  },
  {
   "cell_type": "markdown",
   "metadata": {},
   "source": [
    "### 1° Cantidad de registros totales por categoria"
   ]
  },
  {
   "cell_type": "code",
   "execution_count": 14,
   "metadata": {},
   "outputs": [
    {
     "data": {
      "text/html": [
       "<div>\n",
       "<style scoped>\n",
       "    .dataframe tbody tr th:only-of-type {\n",
       "        vertical-align: middle;\n",
       "    }\n",
       "\n",
       "    .dataframe tbody tr th {\n",
       "        vertical-align: top;\n",
       "    }\n",
       "\n",
       "    .dataframe thead th {\n",
       "        text-align: right;\n",
       "    }\n",
       "</style>\n",
       "<table border=\"1\" class=\"dataframe\">\n",
       "  <thead>\n",
       "    <tr style=\"text-align: right;\">\n",
       "      <th></th>\n",
       "      <th>etiqueta</th>\n",
       "      <th>valor</th>\n",
       "      <th>total</th>\n",
       "    </tr>\n",
       "  </thead>\n",
       "  <tbody>\n",
       "    <tr>\n",
       "      <th>0</th>\n",
       "      <td>categoria</td>\n",
       "      <td>Bibliotecas Populares</td>\n",
       "      <td>2017</td>\n",
       "    </tr>\n",
       "    <tr>\n",
       "      <th>1</th>\n",
       "      <td>categoria</td>\n",
       "      <td>Espacios de Exhibición Patrimonial</td>\n",
       "      <td>1182</td>\n",
       "    </tr>\n",
       "    <tr>\n",
       "      <th>2</th>\n",
       "      <td>categoria</td>\n",
       "      <td>Salas de cine</td>\n",
       "      <td>329</td>\n",
       "    </tr>\n",
       "  </tbody>\n",
       "</table>\n",
       "</div>"
      ],
      "text/plain": [
       "    etiqueta                               valor  total\n",
       "0  categoria               Bibliotecas Populares   2017\n",
       "1  categoria  Espacios de Exhibición Patrimonial   1182\n",
       "2  categoria                       Salas de cine    329"
      ]
     },
     "execution_count": 14,
     "metadata": {},
     "output_type": "execute_result"
    }
   ],
   "source": [
    "# Cantidad de registros totales por categoría\n",
    "df_totales_categoria = master_df[['id_provincia', 'categoria']].groupby('categoria').count()\n",
    "df_resumen = pd.DataFrame(\n",
    "    {\n",
    "        'etiqueta': ['categoria']*3,\n",
    "        'valor': df_totales_categoria.index,\n",
    "        'total': df_totales_categoria['id_provincia']\n",
    "    }\n",
    ")\n",
    "\n",
    "df_resumen.reset_index(inplace=True)\n",
    "df_resumen.drop(['categoria'], inplace=True, axis='columns')\n",
    "df_resumen"
   ]
  },
  {
   "cell_type": "markdown",
   "metadata": {},
   "source": [
    "### 2° Cantidad de registros totales por fuente"
   ]
  },
  {
   "cell_type": "code",
   "execution_count": 49,
   "metadata": {},
   "outputs": [
    {
     "data": {
      "text/html": [
       "<div>\n",
       "<style scoped>\n",
       "    .dataframe tbody tr th:only-of-type {\n",
       "        vertical-align: middle;\n",
       "    }\n",
       "\n",
       "    .dataframe tbody tr th {\n",
       "        vertical-align: top;\n",
       "    }\n",
       "\n",
       "    .dataframe thead th {\n",
       "        text-align: right;\n",
       "    }\n",
       "</style>\n",
       "<table border=\"1\" class=\"dataframe\">\n",
       "  <thead>\n",
       "    <tr style=\"text-align: right;\">\n",
       "      <th></th>\n",
       "      <th>etiqueta</th>\n",
       "      <th>valor</th>\n",
       "      <th>total</th>\n",
       "    </tr>\n",
       "  </thead>\n",
       "  <tbody>\n",
       "    <tr>\n",
       "      <th>0</th>\n",
       "      <td>fuente</td>\n",
       "      <td>CNMLH - Enlace SInCA</td>\n",
       "      <td>1</td>\n",
       "    </tr>\n",
       "    <tr>\n",
       "      <th>1</th>\n",
       "      <td>fuente</td>\n",
       "      <td>CNMLH - Ente Cultural de Tucumán</td>\n",
       "      <td>1</td>\n",
       "    </tr>\n",
       "    <tr>\n",
       "      <th>2</th>\n",
       "      <td>fuente</td>\n",
       "      <td>CONABIP</td>\n",
       "      <td>2010</td>\n",
       "    </tr>\n",
       "    <tr>\n",
       "      <th>3</th>\n",
       "      <td>fuente</td>\n",
       "      <td>DNPyM</td>\n",
       "      <td>1048</td>\n",
       "    </tr>\n",
       "    <tr>\n",
       "      <th>4</th>\n",
       "      <td>fuente</td>\n",
       "      <td>Dirección Provincial de Patrimonio Cultural - Enlace SInCA</td>\n",
       "      <td>1</td>\n",
       "    </tr>\n",
       "    <tr>\n",
       "      <th>5</th>\n",
       "      <td>fuente</td>\n",
       "      <td>Dirección de Cultura de Villa Allende</td>\n",
       "      <td>2</td>\n",
       "    </tr>\n",
       "    <tr>\n",
       "      <th>6</th>\n",
       "      <td>fuente</td>\n",
       "      <td>Dirección de Cultura y de Educación de la Municipalidad de Unquillo</td>\n",
       "      <td>1</td>\n",
       "    </tr>\n",
       "    <tr>\n",
       "      <th>7</th>\n",
       "      <td>fuente</td>\n",
       "      <td>Gob. Pcia.</td>\n",
       "      <td>1</td>\n",
       "    </tr>\n",
       "    <tr>\n",
       "      <th>8</th>\n",
       "      <td>fuente</td>\n",
       "      <td>Gobierno de la Provincia</td>\n",
       "      <td>14</td>\n",
       "    </tr>\n",
       "    <tr>\n",
       "      <th>9</th>\n",
       "      <td>fuente</td>\n",
       "      <td>Gobierno de la Provincia de Chubut / SInCA 2013</td>\n",
       "      <td>3</td>\n",
       "    </tr>\n",
       "    <tr>\n",
       "      <th>10</th>\n",
       "      <td>fuente</td>\n",
       "      <td>Gobierno de la Provincia de Jujuy</td>\n",
       "      <td>4</td>\n",
       "    </tr>\n",
       "    <tr>\n",
       "      <th>11</th>\n",
       "      <td>fuente</td>\n",
       "      <td>Gobierno de la Provincia de La Pampa</td>\n",
       "      <td>1</td>\n",
       "    </tr>\n",
       "    <tr>\n",
       "      <th>12</th>\n",
       "      <td>fuente</td>\n",
       "      <td>Gobierno de la Provincia de La Rioja</td>\n",
       "      <td>1</td>\n",
       "    </tr>\n",
       "    <tr>\n",
       "      <th>13</th>\n",
       "      <td>fuente</td>\n",
       "      <td>Gobierno de la Provincia de Mendoza</td>\n",
       "      <td>4</td>\n",
       "    </tr>\n",
       "    <tr>\n",
       "      <th>14</th>\n",
       "      <td>fuente</td>\n",
       "      <td>Gobierno de la Provincia de Neuquén</td>\n",
       "      <td>1</td>\n",
       "    </tr>\n",
       "    <tr>\n",
       "      <th>15</th>\n",
       "      <td>fuente</td>\n",
       "      <td>Gobierno de la Provincia de Salta</td>\n",
       "      <td>1</td>\n",
       "    </tr>\n",
       "    <tr>\n",
       "      <th>16</th>\n",
       "      <td>fuente</td>\n",
       "      <td>Gobierno de la Provincia de San Juan</td>\n",
       "      <td>3</td>\n",
       "    </tr>\n",
       "    <tr>\n",
       "      <th>17</th>\n",
       "      <td>fuente</td>\n",
       "      <td>Gobierno de la provincia</td>\n",
       "      <td>1</td>\n",
       "    </tr>\n",
       "    <tr>\n",
       "      <th>18</th>\n",
       "      <td>fuente</td>\n",
       "      <td>INCAA / SInCA</td>\n",
       "      <td>329</td>\n",
       "    </tr>\n",
       "    <tr>\n",
       "      <th>19</th>\n",
       "      <td>fuente</td>\n",
       "      <td>Municipalidad de Puerto Madryn</td>\n",
       "      <td>2</td>\n",
       "    </tr>\n",
       "    <tr>\n",
       "      <th>20</th>\n",
       "      <td>fuente</td>\n",
       "      <td>Municipalidad de Río Gallegos - Red de Ciudades Creativas</td>\n",
       "      <td>4</td>\n",
       "    </tr>\n",
       "    <tr>\n",
       "      <th>21</th>\n",
       "      <td>fuente</td>\n",
       "      <td>Municipalidad de Santa Fe - Red de Ciudades Creativas</td>\n",
       "      <td>37</td>\n",
       "    </tr>\n",
       "    <tr>\n",
       "      <th>22</th>\n",
       "      <td>fuente</td>\n",
       "      <td>RCC</td>\n",
       "      <td>10</td>\n",
       "    </tr>\n",
       "    <tr>\n",
       "      <th>23</th>\n",
       "      <td>fuente</td>\n",
       "      <td>RCC- Córdoba</td>\n",
       "      <td>31</td>\n",
       "    </tr>\n",
       "    <tr>\n",
       "      <th>24</th>\n",
       "      <td>fuente</td>\n",
       "      <td>Red de Espacios Culturales Vicente López</td>\n",
       "      <td>4</td>\n",
       "    </tr>\n",
       "    <tr>\n",
       "      <th>25</th>\n",
       "      <td>fuente</td>\n",
       "      <td>SInCA</td>\n",
       "      <td>1</td>\n",
       "    </tr>\n",
       "    <tr>\n",
       "      <th>26</th>\n",
       "      <td>fuente</td>\n",
       "      <td>Secretaria de Cultura Provincial</td>\n",
       "      <td>6</td>\n",
       "    </tr>\n",
       "    <tr>\n",
       "      <th>27</th>\n",
       "      <td>fuente</td>\n",
       "      <td>Secretaria de Cultura del Municipio de Esteban Echeverría</td>\n",
       "      <td>1</td>\n",
       "    </tr>\n",
       "    <tr>\n",
       "      <th>28</th>\n",
       "      <td>fuente</td>\n",
       "      <td>UNLA</td>\n",
       "      <td>1</td>\n",
       "    </tr>\n",
       "    <tr>\n",
       "      <th>29</th>\n",
       "      <td>fuente</td>\n",
       "      <td>Área Gestión Cultural de la Municipalidad de Colonia Caroya</td>\n",
       "      <td>4</td>\n",
       "    </tr>\n",
       "  </tbody>\n",
       "</table>\n",
       "</div>"
      ],
      "text/plain": [
       "   etiqueta  \\\n",
       "0    fuente   \n",
       "1    fuente   \n",
       "2    fuente   \n",
       "3    fuente   \n",
       "4    fuente   \n",
       "5    fuente   \n",
       "6    fuente   \n",
       "7    fuente   \n",
       "8    fuente   \n",
       "9    fuente   \n",
       "10   fuente   \n",
       "11   fuente   \n",
       "12   fuente   \n",
       "13   fuente   \n",
       "14   fuente   \n",
       "15   fuente   \n",
       "16   fuente   \n",
       "17   fuente   \n",
       "18   fuente   \n",
       "19   fuente   \n",
       "20   fuente   \n",
       "21   fuente   \n",
       "22   fuente   \n",
       "23   fuente   \n",
       "24   fuente   \n",
       "25   fuente   \n",
       "26   fuente   \n",
       "27   fuente   \n",
       "28   fuente   \n",
       "29   fuente   \n",
       "\n",
       "                                                                  valor  total  \n",
       "0                                                  CNMLH - Enlace SInCA      1  \n",
       "1                                      CNMLH - Ente Cultural de Tucumán      1  \n",
       "2                                                               CONABIP   2010  \n",
       "3                                                                 DNPyM   1048  \n",
       "4            Dirección Provincial de Patrimonio Cultural - Enlace SInCA      1  \n",
       "5                                 Dirección de Cultura de Villa Allende      2  \n",
       "6   Dirección de Cultura y de Educación de la Municipalidad de Unquillo      1  \n",
       "7                                                            Gob. Pcia.      1  \n",
       "8                                              Gobierno de la Provincia     14  \n",
       "9                       Gobierno de la Provincia de Chubut / SInCA 2013      3  \n",
       "10                                    Gobierno de la Provincia de Jujuy      4  \n",
       "11                                 Gobierno de la Provincia de La Pampa      1  \n",
       "12                                 Gobierno de la Provincia de La Rioja      1  \n",
       "13                                  Gobierno de la Provincia de Mendoza      4  \n",
       "14                                  Gobierno de la Provincia de Neuquén      1  \n",
       "15                                    Gobierno de la Provincia de Salta      1  \n",
       "16                                 Gobierno de la Provincia de San Juan      3  \n",
       "17                                             Gobierno de la provincia      1  \n",
       "18                                                        INCAA / SInCA    329  \n",
       "19                                       Municipalidad de Puerto Madryn      2  \n",
       "20            Municipalidad de Río Gallegos - Red de Ciudades Creativas      4  \n",
       "21                Municipalidad de Santa Fe - Red de Ciudades Creativas     37  \n",
       "22                                                                  RCC     10  \n",
       "23                                                         RCC- Córdoba     31  \n",
       "24                             Red de Espacios Culturales Vicente López      4  \n",
       "25                                                                SInCA      1  \n",
       "26                                     Secretaria de Cultura Provincial      6  \n",
       "27            Secretaria de Cultura del Municipio de Esteban Echeverría      1  \n",
       "28                                                                 UNLA      1  \n",
       "29          Área Gestión Cultural de la Municipalidad de Colonia Caroya      4  "
      ]
     },
     "execution_count": 49,
     "metadata": {},
     "output_type": "execute_result"
    }
   ],
   "source": [
    "# Cantidad de registros totales por fuente\n",
    "\n",
    "df_totales_categoria = master_df[['id_provincia', 'fuente']].groupby('fuente').count()\n",
    "df_resumen2 = pd.DataFrame(\n",
    "    {\n",
    "        'etiqueta': ['fuente']*df_totales_categoria.shape[0],\n",
    "        'valor': df_totales_categoria.index,\n",
    "        'total': df_totales_categoria['id_provincia']\n",
    "    } \n",
    ")\n",
    "df_resumen2.reset_index(inplace=True)\n",
    "df_resumen2.drop(['fuente'], inplace=True, axis='columns')\n",
    "\n",
    "df_resumen2"
   ]
  },
  {
   "cell_type": "markdown",
   "metadata": {},
   "source": [
    "### 3° Cantidad de registros por provincia y categoria"
   ]
  },
  {
   "cell_type": "code",
   "execution_count": 16,
   "metadata": {},
   "outputs": [
    {
     "data": {
      "text/html": [
       "<div>\n",
       "<style scoped>\n",
       "    .dataframe tbody tr th:only-of-type {\n",
       "        vertical-align: middle;\n",
       "    }\n",
       "\n",
       "    .dataframe tbody tr th {\n",
       "        vertical-align: top;\n",
       "    }\n",
       "\n",
       "    .dataframe thead th {\n",
       "        text-align: right;\n",
       "    }\n",
       "</style>\n",
       "<table border=\"1\" class=\"dataframe\">\n",
       "  <thead>\n",
       "    <tr style=\"text-align: right;\">\n",
       "      <th></th>\n",
       "      <th></th>\n",
       "      <th>id_provincia</th>\n",
       "    </tr>\n",
       "    <tr>\n",
       "      <th>provincia</th>\n",
       "      <th>categoria</th>\n",
       "      <th></th>\n",
       "    </tr>\n",
       "  </thead>\n",
       "  <tbody>\n",
       "    <tr>\n",
       "      <th rowspan=\"3\" valign=\"top\">Buenos Aires</th>\n",
       "      <th>Bibliotecas Populares</th>\n",
       "      <td>543</td>\n",
       "    </tr>\n",
       "    <tr>\n",
       "      <th>Espacios de Exhibición Patrimonial</th>\n",
       "      <td>152</td>\n",
       "    </tr>\n",
       "    <tr>\n",
       "      <th>Salas de cine</th>\n",
       "      <td>106</td>\n",
       "    </tr>\n",
       "    <tr>\n",
       "      <th rowspan=\"2\" valign=\"top\">Catamarca</th>\n",
       "      <th>Bibliotecas Populares</th>\n",
       "      <td>38</td>\n",
       "    </tr>\n",
       "    <tr>\n",
       "      <th>Espacios de Exhibición Patrimonial</th>\n",
       "      <td>32</td>\n",
       "    </tr>\n",
       "    <tr>\n",
       "      <th>...</th>\n",
       "      <th>...</th>\n",
       "      <td>...</td>\n",
       "    </tr>\n",
       "    <tr>\n",
       "      <th rowspan=\"2\" valign=\"top\">Tierra del Fuego, Antártida e Islas del Atlántico Sur</th>\n",
       "      <th>Espacios de Exhibición Patrimonial</th>\n",
       "      <td>14</td>\n",
       "    </tr>\n",
       "    <tr>\n",
       "      <th>Salas de cine</th>\n",
       "      <td>3</td>\n",
       "    </tr>\n",
       "    <tr>\n",
       "      <th rowspan=\"3\" valign=\"top\">Tucumán</th>\n",
       "      <th>Bibliotecas Populares</th>\n",
       "      <td>37</td>\n",
       "    </tr>\n",
       "    <tr>\n",
       "      <th>Espacios de Exhibición Patrimonial</th>\n",
       "      <td>26</td>\n",
       "    </tr>\n",
       "    <tr>\n",
       "      <th>Salas de cine</th>\n",
       "      <td>8</td>\n",
       "    </tr>\n",
       "  </tbody>\n",
       "</table>\n",
       "<p>72 rows × 1 columns</p>\n",
       "</div>"
      ],
      "text/plain": [
       "                                                                                          id_provincia\n",
       "provincia                                             categoria                                       \n",
       "Buenos Aires                                          Bibliotecas Populares                        543\n",
       "                                                      Espacios de Exhibición Patrimonial           152\n",
       "                                                      Salas de cine                                106\n",
       "Catamarca                                             Bibliotecas Populares                         38\n",
       "                                                      Espacios de Exhibición Patrimonial            32\n",
       "...                                                                                                ...\n",
       "Tierra del Fuego, Antártida e Islas del Atlántico Sur Espacios de Exhibición Patrimonial            14\n",
       "                                                      Salas de cine                                  3\n",
       "Tucumán                                               Bibliotecas Populares                         37\n",
       "                                                      Espacios de Exhibición Patrimonial            26\n",
       "                                                      Salas de cine                                  8\n",
       "\n",
       "[72 rows x 1 columns]"
      ]
     },
     "metadata": {},
     "output_type": "display_data"
    }
   ],
   "source": [
    "# Cantidad de registros por provincia y categoría\n",
    "df_totales_prov_categoria = master_df[['id_provincia', 'provincia', 'categoria']].groupby(['provincia','categoria']).count()\n",
    "display(df_totales_prov_categoria)\n",
    "values = ['_'.join(row) for row in df_totales_prov_categoria.index]"
   ]
  },
  {
   "cell_type": "code",
   "execution_count": 17,
   "metadata": {},
   "outputs": [
    {
     "data": {
      "text/html": [
       "<div>\n",
       "<style scoped>\n",
       "    .dataframe tbody tr th:only-of-type {\n",
       "        vertical-align: middle;\n",
       "    }\n",
       "\n",
       "    .dataframe tbody tr th {\n",
       "        vertical-align: top;\n",
       "    }\n",
       "\n",
       "    .dataframe thead th {\n",
       "        text-align: right;\n",
       "    }\n",
       "</style>\n",
       "<table border=\"1\" class=\"dataframe\">\n",
       "  <thead>\n",
       "    <tr style=\"text-align: right;\">\n",
       "      <th></th>\n",
       "      <th>etiqueta</th>\n",
       "      <th>valor</th>\n",
       "      <th>total</th>\n",
       "    </tr>\n",
       "  </thead>\n",
       "  <tbody>\n",
       "    <tr>\n",
       "      <th>0</th>\n",
       "      <td>provincia_categoria</td>\n",
       "      <td>Buenos Aires_Bibliotecas Populares</td>\n",
       "      <td>543</td>\n",
       "    </tr>\n",
       "    <tr>\n",
       "      <th>1</th>\n",
       "      <td>provincia_categoria</td>\n",
       "      <td>Buenos Aires_Espacios de Exhibición Patrimonial</td>\n",
       "      <td>152</td>\n",
       "    </tr>\n",
       "    <tr>\n",
       "      <th>2</th>\n",
       "      <td>provincia_categoria</td>\n",
       "      <td>Buenos Aires_Salas de cine</td>\n",
       "      <td>106</td>\n",
       "    </tr>\n",
       "    <tr>\n",
       "      <th>3</th>\n",
       "      <td>provincia_categoria</td>\n",
       "      <td>Catamarca_Bibliotecas Populares</td>\n",
       "      <td>38</td>\n",
       "    </tr>\n",
       "    <tr>\n",
       "      <th>4</th>\n",
       "      <td>provincia_categoria</td>\n",
       "      <td>Catamarca_Espacios de Exhibición Patrimonial</td>\n",
       "      <td>32</td>\n",
       "    </tr>\n",
       "    <tr>\n",
       "      <th>...</th>\n",
       "      <td>...</td>\n",
       "      <td>...</td>\n",
       "      <td>...</td>\n",
       "    </tr>\n",
       "    <tr>\n",
       "      <th>67</th>\n",
       "      <td>provincia_categoria</td>\n",
       "      <td>Tierra del Fuego, Antártida e Islas del Atlántico Sur_Espacios de Exhibición Patrimonial</td>\n",
       "      <td>14</td>\n",
       "    </tr>\n",
       "    <tr>\n",
       "      <th>68</th>\n",
       "      <td>provincia_categoria</td>\n",
       "      <td>Tierra del Fuego, Antártida e Islas del Atlántico Sur_Salas de cine</td>\n",
       "      <td>3</td>\n",
       "    </tr>\n",
       "    <tr>\n",
       "      <th>69</th>\n",
       "      <td>provincia_categoria</td>\n",
       "      <td>Tucumán_Bibliotecas Populares</td>\n",
       "      <td>37</td>\n",
       "    </tr>\n",
       "    <tr>\n",
       "      <th>70</th>\n",
       "      <td>provincia_categoria</td>\n",
       "      <td>Tucumán_Espacios de Exhibición Patrimonial</td>\n",
       "      <td>26</td>\n",
       "    </tr>\n",
       "    <tr>\n",
       "      <th>71</th>\n",
       "      <td>provincia_categoria</td>\n",
       "      <td>Tucumán_Salas de cine</td>\n",
       "      <td>8</td>\n",
       "    </tr>\n",
       "  </tbody>\n",
       "</table>\n",
       "<p>72 rows × 3 columns</p>\n",
       "</div>"
      ],
      "text/plain": [
       "               etiqueta  \\\n",
       "0   provincia_categoria   \n",
       "1   provincia_categoria   \n",
       "2   provincia_categoria   \n",
       "3   provincia_categoria   \n",
       "4   provincia_categoria   \n",
       "..                  ...   \n",
       "67  provincia_categoria   \n",
       "68  provincia_categoria   \n",
       "69  provincia_categoria   \n",
       "70  provincia_categoria   \n",
       "71  provincia_categoria   \n",
       "\n",
       "                                                                                       valor  \\\n",
       "0                                                         Buenos Aires_Bibliotecas Populares   \n",
       "1                                            Buenos Aires_Espacios de Exhibición Patrimonial   \n",
       "2                                                                 Buenos Aires_Salas de cine   \n",
       "3                                                            Catamarca_Bibliotecas Populares   \n",
       "4                                               Catamarca_Espacios de Exhibición Patrimonial   \n",
       "..                                                                                       ...   \n",
       "67  Tierra del Fuego, Antártida e Islas del Atlántico Sur_Espacios de Exhibición Patrimonial   \n",
       "68                       Tierra del Fuego, Antártida e Islas del Atlántico Sur_Salas de cine   \n",
       "69                                                             Tucumán_Bibliotecas Populares   \n",
       "70                                                Tucumán_Espacios de Exhibición Patrimonial   \n",
       "71                                                                     Tucumán_Salas de cine   \n",
       "\n",
       "    total  \n",
       "0     543  \n",
       "1     152  \n",
       "2     106  \n",
       "3      38  \n",
       "4      32  \n",
       "..    ...  \n",
       "67     14  \n",
       "68      3  \n",
       "69     37  \n",
       "70     26  \n",
       "71      8  \n",
       "\n",
       "[72 rows x 3 columns]"
      ]
     },
     "execution_count": 17,
     "metadata": {},
     "output_type": "execute_result"
    }
   ],
   "source": [
    "df_resumen3 = pd.DataFrame(\n",
    "        {\n",
    "        'etiqueta': ['provincia_categoria']*df_totales_prov_categoria.shape[0],\n",
    "        'valor': ['_'.join(row) for row in df_totales_prov_categoria.index],\n",
    "        'total': df_totales_prov_categoria['id_provincia']\n",
    "    }\n",
    ")\n",
    "df_resumen3.reset_index(inplace=True)\n",
    "df_resumen3.drop(['provincia', 'categoria'], inplace=True, axis='columns')\n",
    "df_resumen3"
   ]
  },
  {
   "cell_type": "code",
   "execution_count": 18,
   "metadata": {},
   "outputs": [
    {
     "data": {
      "text/html": [
       "<div>\n",
       "<style scoped>\n",
       "    .dataframe tbody tr th:only-of-type {\n",
       "        vertical-align: middle;\n",
       "    }\n",
       "\n",
       "    .dataframe tbody tr th {\n",
       "        vertical-align: top;\n",
       "    }\n",
       "\n",
       "    .dataframe thead th {\n",
       "        text-align: right;\n",
       "    }\n",
       "</style>\n",
       "<table border=\"1\" class=\"dataframe\">\n",
       "  <thead>\n",
       "    <tr style=\"text-align: right;\">\n",
       "      <th></th>\n",
       "      <th>etiqueta</th>\n",
       "      <th>valor</th>\n",
       "      <th>total</th>\n",
       "    </tr>\n",
       "  </thead>\n",
       "  <tbody>\n",
       "    <tr>\n",
       "      <th>0</th>\n",
       "      <td>categoria</td>\n",
       "      <td>Bibliotecas Populares</td>\n",
       "      <td>2017</td>\n",
       "    </tr>\n",
       "    <tr>\n",
       "      <th>1</th>\n",
       "      <td>categoria</td>\n",
       "      <td>Espacios de Exhibición Patrimonial</td>\n",
       "      <td>1182</td>\n",
       "    </tr>\n",
       "    <tr>\n",
       "      <th>2</th>\n",
       "      <td>categoria</td>\n",
       "      <td>Salas de cine</td>\n",
       "      <td>329</td>\n",
       "    </tr>\n",
       "    <tr>\n",
       "      <th>0</th>\n",
       "      <td>fuente</td>\n",
       "      <td>bibliotecas</td>\n",
       "      <td>2017</td>\n",
       "    </tr>\n",
       "    <tr>\n",
       "      <th>1</th>\n",
       "      <td>fuente</td>\n",
       "      <td>cines</td>\n",
       "      <td>329</td>\n",
       "    </tr>\n",
       "    <tr>\n",
       "      <th>...</th>\n",
       "      <td>...</td>\n",
       "      <td>...</td>\n",
       "      <td>...</td>\n",
       "    </tr>\n",
       "    <tr>\n",
       "      <th>67</th>\n",
       "      <td>provincia_categoria</td>\n",
       "      <td>Tierra del Fuego, Antártida e Islas del Atlántico Sur_Espacios de Exhibición Patrimonial</td>\n",
       "      <td>14</td>\n",
       "    </tr>\n",
       "    <tr>\n",
       "      <th>68</th>\n",
       "      <td>provincia_categoria</td>\n",
       "      <td>Tierra del Fuego, Antártida e Islas del Atlántico Sur_Salas de cine</td>\n",
       "      <td>3</td>\n",
       "    </tr>\n",
       "    <tr>\n",
       "      <th>69</th>\n",
       "      <td>provincia_categoria</td>\n",
       "      <td>Tucumán_Bibliotecas Populares</td>\n",
       "      <td>37</td>\n",
       "    </tr>\n",
       "    <tr>\n",
       "      <th>70</th>\n",
       "      <td>provincia_categoria</td>\n",
       "      <td>Tucumán_Espacios de Exhibición Patrimonial</td>\n",
       "      <td>26</td>\n",
       "    </tr>\n",
       "    <tr>\n",
       "      <th>71</th>\n",
       "      <td>provincia_categoria</td>\n",
       "      <td>Tucumán_Salas de cine</td>\n",
       "      <td>8</td>\n",
       "    </tr>\n",
       "  </tbody>\n",
       "</table>\n",
       "<p>78 rows × 3 columns</p>\n",
       "</div>"
      ],
      "text/plain": [
       "               etiqueta  \\\n",
       "0             categoria   \n",
       "1             categoria   \n",
       "2             categoria   \n",
       "0                fuente   \n",
       "1                fuente   \n",
       "..                  ...   \n",
       "67  provincia_categoria   \n",
       "68  provincia_categoria   \n",
       "69  provincia_categoria   \n",
       "70  provincia_categoria   \n",
       "71  provincia_categoria   \n",
       "\n",
       "                                                                                       valor  \\\n",
       "0                                                                      Bibliotecas Populares   \n",
       "1                                                         Espacios de Exhibición Patrimonial   \n",
       "2                                                                              Salas de cine   \n",
       "0                                                                                bibliotecas   \n",
       "1                                                                                      cines   \n",
       "..                                                                                       ...   \n",
       "67  Tierra del Fuego, Antártida e Islas del Atlántico Sur_Espacios de Exhibición Patrimonial   \n",
       "68                       Tierra del Fuego, Antártida e Islas del Atlántico Sur_Salas de cine   \n",
       "69                                                             Tucumán_Bibliotecas Populares   \n",
       "70                                                Tucumán_Espacios de Exhibición Patrimonial   \n",
       "71                                                                     Tucumán_Salas de cine   \n",
       "\n",
       "    total  \n",
       "0    2017  \n",
       "1    1182  \n",
       "2     329  \n",
       "0    2017  \n",
       "1     329  \n",
       "..    ...  \n",
       "67     14  \n",
       "68      3  \n",
       "69     37  \n",
       "70     26  \n",
       "71      8  \n",
       "\n",
       "[78 rows x 3 columns]"
      ]
     },
     "execution_count": 18,
     "metadata": {},
     "output_type": "execute_result"
    }
   ],
   "source": [
    "# Concat all three to make the final summary df\n",
    "df_summary = pd.concat([df_resumen, df_resumen2, df_resumen3], axis='rows', copy=True)\n",
    "df_summary"
   ]
  },
  {
   "cell_type": "markdown",
   "metadata": {},
   "source": [
    "## C) Transforms para dataset de cines"
   ]
  },
  {
   "cell_type": "code",
   "execution_count": 21,
   "metadata": {},
   "outputs": [
    {
     "data": {
      "text/html": [
       "<div>\n",
       "<style scoped>\n",
       "    .dataframe tbody tr th:only-of-type {\n",
       "        vertical-align: middle;\n",
       "    }\n",
       "\n",
       "    .dataframe tbody tr th {\n",
       "        vertical-align: top;\n",
       "    }\n",
       "\n",
       "    .dataframe thead th {\n",
       "        text-align: right;\n",
       "    }\n",
       "</style>\n",
       "<table border=\"1\" class=\"dataframe\">\n",
       "  <thead>\n",
       "    <tr style=\"text-align: right;\">\n",
       "      <th></th>\n",
       "      <th>cod_localidad</th>\n",
       "      <th>id_provincia</th>\n",
       "      <th>id_departamento</th>\n",
       "      <th>Observaciones</th>\n",
       "      <th>categoria</th>\n",
       "      <th>provincia</th>\n",
       "      <th>Departamento</th>\n",
       "      <th>localidad</th>\n",
       "      <th>nombre</th>\n",
       "      <th>domicilio</th>\n",
       "      <th>...</th>\n",
       "      <th>Información adicional</th>\n",
       "      <th>Latitud</th>\n",
       "      <th>Longitud</th>\n",
       "      <th>TipoLatitudLongitud</th>\n",
       "      <th>Fuente</th>\n",
       "      <th>tipo_gestion</th>\n",
       "      <th>Pantallas</th>\n",
       "      <th>Butacas</th>\n",
       "      <th>espacio_INCAA</th>\n",
       "      <th>año_actualizacion</th>\n",
       "    </tr>\n",
       "  </thead>\n",
       "  <tbody>\n",
       "    <tr>\n",
       "      <th>202</th>\n",
       "      <td>50077040</td>\n",
       "      <td>50</td>\n",
       "      <td>50077</td>\n",
       "      <td>NaN</td>\n",
       "      <td>Salas de cine</td>\n",
       "      <td>Mendoza</td>\n",
       "      <td>Malargue</td>\n",
       "      <td>Malargüe</td>\n",
       "      <td>Sala Maitén</td>\n",
       "      <td>Ruta 40 Norte Y Pje Orteguina</td>\n",
       "      <td>...</td>\n",
       "      <td>NaN</td>\n",
       "      <td>-3.548.035.000</td>\n",
       "      <td>-6.958.467.000</td>\n",
       "      <td>Localización precisa</td>\n",
       "      <td>INCAA / SInCA</td>\n",
       "      <td>Público municipal</td>\n",
       "      <td>1</td>\n",
       "      <td>160</td>\n",
       "      <td>NaN</td>\n",
       "      <td>2018</td>\n",
       "    </tr>\n",
       "    <tr>\n",
       "      <th>321</th>\n",
       "      <td>6357110</td>\n",
       "      <td>6</td>\n",
       "      <td>6357</td>\n",
       "      <td>NaN</td>\n",
       "      <td>Salas de cine</td>\n",
       "      <td>Buenos Aires</td>\n",
       "      <td>General Pueyrredon</td>\n",
       "      <td>Mar del Plata</td>\n",
       "      <td>Cinemacenter</td>\n",
       "      <td>Rivadavia 3050</td>\n",
       "      <td>...</td>\n",
       "      <td>NaN</td>\n",
       "      <td>-3.799.796.500</td>\n",
       "      <td>-5.755.201.900</td>\n",
       "      <td>Localización precisa</td>\n",
       "      <td>INCAA / SInCA</td>\n",
       "      <td>Privado comercial</td>\n",
       "      <td>2</td>\n",
       "      <td>487</td>\n",
       "      <td>NaN</td>\n",
       "      <td>2018</td>\n",
       "    </tr>\n",
       "    <tr>\n",
       "      <th>226</th>\n",
       "      <td>14021290</td>\n",
       "      <td>14</td>\n",
       "      <td>14021</td>\n",
       "      <td>NaN</td>\n",
       "      <td>Salas de cine</td>\n",
       "      <td>Córdoba</td>\n",
       "      <td>Colon</td>\n",
       "      <td>Villa Allende</td>\n",
       "      <td>Showcase</td>\n",
       "      <td>Rio De Janeiro 1725</td>\n",
       "      <td>...</td>\n",
       "      <td>NaN</td>\n",
       "      <td>-3.129.374.000</td>\n",
       "      <td>-6.429.076.600</td>\n",
       "      <td>Localización precisa</td>\n",
       "      <td>INCAA / SInCA</td>\n",
       "      <td>Privado comercial</td>\n",
       "      <td>3</td>\n",
       "      <td>563</td>\n",
       "      <td>NaN</td>\n",
       "      <td>2018</td>\n",
       "    </tr>\n",
       "  </tbody>\n",
       "</table>\n",
       "<p>3 rows × 26 columns</p>\n",
       "</div>"
      ],
      "text/plain": [
       "     cod_localidad  id_provincia  id_departamento  Observaciones  \\\n",
       "202       50077040            50            50077            NaN   \n",
       "321        6357110             6             6357            NaN   \n",
       "226       14021290            14            14021            NaN   \n",
       "\n",
       "         categoria     provincia        Departamento      localidad  \\\n",
       "202  Salas de cine       Mendoza            Malargue       Malargüe   \n",
       "321  Salas de cine  Buenos Aires  General Pueyrredon  Mar del Plata   \n",
       "226  Salas de cine       Córdoba               Colon  Villa Allende   \n",
       "\n",
       "           nombre                      domicilio  ... Información adicional  \\\n",
       "202   Sala Maitén  Ruta 40 Norte Y Pje Orteguina  ...                   NaN   \n",
       "321  Cinemacenter                 Rivadavia 3050  ...                   NaN   \n",
       "226      Showcase            Rio De Janeiro 1725  ...                   NaN   \n",
       "\n",
       "            Latitud        Longitud   TipoLatitudLongitud         Fuente  \\\n",
       "202  -3.548.035.000  -6.958.467.000  Localización precisa  INCAA / SInCA   \n",
       "321  -3.799.796.500  -5.755.201.900  Localización precisa  INCAA / SInCA   \n",
       "226  -3.129.374.000  -6.429.076.600  Localización precisa  INCAA / SInCA   \n",
       "\n",
       "          tipo_gestion  Pantallas Butacas espacio_INCAA año_actualizacion  \n",
       "202  Público municipal          1     160           NaN              2018  \n",
       "321  Privado comercial          2     487           NaN              2018  \n",
       "226  Privado comercial          3     563           NaN              2018  \n",
       "\n",
       "[3 rows x 26 columns]"
      ]
     },
     "execution_count": 21,
     "metadata": {},
     "output_type": "execute_result"
    }
   ],
   "source": [
    "#Provincia, Cantidad de pantallas, Cantidad de butacas, Cantidad de espacios INCAA\n",
    "cines_df.sample(3)"
   ]
  },
  {
   "cell_type": "markdown",
   "metadata": {},
   "source": [
    "#### Explorar columnas a resumir"
   ]
  },
  {
   "cell_type": "code",
   "execution_count": 42,
   "metadata": {},
   "outputs": [
    {
     "data": {
      "text/plain": [
       "'---------------------------- Columna Pantallas - int64 ----------------------------'"
      ]
     },
     "metadata": {},
     "output_type": "display_data"
    },
    {
     "data": {
      "text/plain": [
       "'Total: 329  |  Nulos: 0  |  No nulos: 329 | Únicos: 15'"
      ]
     },
     "metadata": {},
     "output_type": "display_data"
    },
    {
     "data": {
      "text/plain": [
       "'Valores únicos:'"
      ]
     },
     "metadata": {},
     "output_type": "display_data"
    },
    {
     "data": {
      "text/plain": [
       "array([ 5,  1,  2,  3,  4,  6, 10,  8, 16,  9,  7, 13, 14, 12, 17],\n",
       "      dtype=int64)"
      ]
     },
     "metadata": {},
     "output_type": "display_data"
    },
    {
     "data": {
      "text/plain": [
       "'Distribución de valores:'"
      ]
     },
     "metadata": {},
     "output_type": "display_data"
    },
    {
     "data": {
      "text/plain": [
       "1     170\n",
       "2      48\n",
       "3      23\n",
       "6      17\n",
       "5      15\n",
       "4      14\n",
       "8      10\n",
       "10      9\n",
       "7       8\n",
       "9       6\n",
       "12      3\n",
       "16      2\n",
       "14      2\n",
       "13      1\n",
       "17      1\n",
       "Name: Pantallas, dtype: int64"
      ]
     },
     "metadata": {},
     "output_type": "display_data"
    },
    {
     "data": {
      "text/plain": [
       "'---------------------------- Columna Butacas - int64 ----------------------------'"
      ]
     },
     "metadata": {},
     "output_type": "display_data"
    },
    {
     "data": {
      "text/plain": [
       "'Total: 329  |  Nulos: 0  |  No nulos: 329 | Únicos: 265'"
      ]
     },
     "metadata": {},
     "output_type": "display_data"
    },
    {
     "data": {
      "text/plain": [
       "'Top Distribución de valores:'"
      ]
     },
     "metadata": {},
     "output_type": "display_data"
    },
    {
     "data": {
      "text/plain": [
       "350    8\n",
       "300    7\n",
       "400    5\n",
       "100    5\n",
       "200    5\n",
       "160    4\n",
       "220    4\n",
       "250    4\n",
       "40     3\n",
       "120    3\n",
       "380    3\n",
       "292    2\n",
       "584    2\n",
       "800    2\n",
       "413    2\n",
       "Name: Butacas, dtype: int64"
      ]
     },
     "metadata": {},
     "output_type": "display_data"
    },
    {
     "data": {
      "text/plain": [
       "'---------------------------- Columna espacio_INCAA - object ----------------------------'"
      ]
     },
     "metadata": {},
     "output_type": "display_data"
    },
    {
     "data": {
      "text/plain": [
       "'Total: 329  |  Nulos: 266  |  No nulos: 63 | Únicos: 3'"
      ]
     },
     "metadata": {},
     "output_type": "display_data"
    },
    {
     "data": {
      "text/plain": [
       "'Valores únicos:'"
      ]
     },
     "metadata": {},
     "output_type": "display_data"
    },
    {
     "data": {
      "text/plain": [
       "array([nan, 'si', 'SI'], dtype=object)"
      ]
     },
     "metadata": {},
     "output_type": "display_data"
    },
    {
     "data": {
      "text/plain": [
       "'Distribución de valores:'"
      ]
     },
     "metadata": {},
     "output_type": "display_data"
    },
    {
     "data": {
      "text/plain": [
       "si    52\n",
       "SI    11\n",
       "Name: espacio_INCAA, dtype: int64"
      ]
     },
     "metadata": {},
     "output_type": "display_data"
    }
   ],
   "source": [
    "total_rows = cines_df.shape[0]\n",
    "for column in ['Pantallas', 'Butacas', 'espacio_INCAA']:\n",
    "    display(f'---------------------------- Columna {column} - {cines_df[column].dtype} ----------------------------')\n",
    "    no_nulos = cines_df[column].count()\n",
    "    unique_values_count = len(cines_df[column].unique())\n",
    "    display(f'Total: {total_rows}  |  Nulos: {total_rows - no_nulos}  |  No nulos: {no_nulos} | Únicos: {unique_values_count}')\n",
    "    if unique_values_count > 30:\n",
    "        display(f'Top Distribución de valores:')\n",
    "        display(cines_df[column].value_counts().iloc[:15])\n",
    "    else:\n",
    "        display(f'Valores únicos:')\n",
    "        display(cines_df[column].unique())\n",
    "        display(f'Distribución de valores:')\n",
    "        display(cines_df[column].value_counts())"
   ]
  },
  {
   "cell_type": "markdown",
   "metadata": {},
   "source": [
    "#### 1° Groupby provincia, sumar pantallas"
   ]
  },
  {
   "cell_type": "code",
   "execution_count": 24,
   "metadata": {},
   "outputs": [
    {
     "data": {
      "text/html": [
       "<div>\n",
       "<style scoped>\n",
       "    .dataframe tbody tr th:only-of-type {\n",
       "        vertical-align: middle;\n",
       "    }\n",
       "\n",
       "    .dataframe tbody tr th {\n",
       "        vertical-align: top;\n",
       "    }\n",
       "\n",
       "    .dataframe thead th {\n",
       "        text-align: right;\n",
       "    }\n",
       "</style>\n",
       "<table border=\"1\" class=\"dataframe\">\n",
       "  <thead>\n",
       "    <tr style=\"text-align: right;\">\n",
       "      <th></th>\n",
       "      <th>Pantallas</th>\n",
       "    </tr>\n",
       "    <tr>\n",
       "      <th>provincia</th>\n",
       "      <th></th>\n",
       "    </tr>\n",
       "  </thead>\n",
       "  <tbody>\n",
       "    <tr>\n",
       "      <th>Buenos Aires</th>\n",
       "      <td>358</td>\n",
       "    </tr>\n",
       "    <tr>\n",
       "      <th>Catamarca</th>\n",
       "      <td>12</td>\n",
       "    </tr>\n",
       "    <tr>\n",
       "      <th>Chaco</th>\n",
       "      <td>14</td>\n",
       "    </tr>\n",
       "    <tr>\n",
       "      <th>Chubut</th>\n",
       "      <td>10</td>\n",
       "    </tr>\n",
       "    <tr>\n",
       "      <th>Ciudad Autónoma de Buenos Aires</th>\n",
       "      <td>153</td>\n",
       "    </tr>\n",
       "    <tr>\n",
       "      <th>Corrientes</th>\n",
       "      <td>17</td>\n",
       "    </tr>\n",
       "    <tr>\n",
       "      <th>Córdoba</th>\n",
       "      <td>105</td>\n",
       "    </tr>\n",
       "    <tr>\n",
       "      <th>Entre Ríos</th>\n",
       "      <td>17</td>\n",
       "    </tr>\n",
       "    <tr>\n",
       "      <th>Formosa</th>\n",
       "      <td>4</td>\n",
       "    </tr>\n",
       "    <tr>\n",
       "      <th>Jujuy</th>\n",
       "      <td>5</td>\n",
       "    </tr>\n",
       "    <tr>\n",
       "      <th>La Pampa</th>\n",
       "      <td>6</td>\n",
       "    </tr>\n",
       "    <tr>\n",
       "      <th>La Rioja</th>\n",
       "      <td>10</td>\n",
       "    </tr>\n",
       "    <tr>\n",
       "      <th>Mendoza</th>\n",
       "      <td>47</td>\n",
       "    </tr>\n",
       "    <tr>\n",
       "      <th>Misiones</th>\n",
       "      <td>10</td>\n",
       "    </tr>\n",
       "    <tr>\n",
       "      <th>Neuquén</th>\n",
       "      <td>12</td>\n",
       "    </tr>\n",
       "    <tr>\n",
       "      <th>Río Negro</th>\n",
       "      <td>10</td>\n",
       "    </tr>\n",
       "    <tr>\n",
       "      <th>Salta</th>\n",
       "      <td>23</td>\n",
       "    </tr>\n",
       "    <tr>\n",
       "      <th>San Juan</th>\n",
       "      <td>22</td>\n",
       "    </tr>\n",
       "    <tr>\n",
       "      <th>San Luis</th>\n",
       "      <td>12</td>\n",
       "    </tr>\n",
       "    <tr>\n",
       "      <th>Santa Cruz</th>\n",
       "      <td>7</td>\n",
       "    </tr>\n",
       "    <tr>\n",
       "      <th>Santa Fe</th>\n",
       "      <td>79</td>\n",
       "    </tr>\n",
       "    <tr>\n",
       "      <th>Santiago del Estero</th>\n",
       "      <td>11</td>\n",
       "    </tr>\n",
       "    <tr>\n",
       "      <th>Tierra del Fuego</th>\n",
       "      <td>6</td>\n",
       "    </tr>\n",
       "    <tr>\n",
       "      <th>Tucumán</th>\n",
       "      <td>24</td>\n",
       "    </tr>\n",
       "  </tbody>\n",
       "</table>\n",
       "</div>"
      ],
      "text/plain": [
       "                                 Pantallas\n",
       "provincia                                 \n",
       "Buenos Aires                           358\n",
       "Catamarca                               12\n",
       "Chaco                                   14\n",
       "Chubut                                  10\n",
       "Ciudad Autónoma de Buenos Aires        153\n",
       "Corrientes                              17\n",
       "Córdoba                                105\n",
       "Entre Ríos                              17\n",
       "Formosa                                  4\n",
       "Jujuy                                    5\n",
       "La Pampa                                 6\n",
       "La Rioja                                10\n",
       "Mendoza                                 47\n",
       "Misiones                                10\n",
       "Neuquén                                 12\n",
       "Río Negro                               10\n",
       "Salta                                   23\n",
       "San Juan                                22\n",
       "San Luis                                12\n",
       "Santa Cruz                               7\n",
       "Santa Fe                                79\n",
       "Santiago del Estero                     11\n",
       "Tierra del Fuego                         6\n",
       "Tucumán                                 24"
      ]
     },
     "execution_count": 24,
     "metadata": {},
     "output_type": "execute_result"
    }
   ],
   "source": [
    "# Cantidad de pantallas por provincia\n",
    "df_pantallas = cines_df[['Pantallas', 'provincia']].groupby('provincia').sum()\n",
    "\n",
    "df_pantallas"
   ]
  },
  {
   "cell_type": "markdown",
   "metadata": {},
   "source": [
    "#### 2° Groupby provincia, sumar butacas"
   ]
  },
  {
   "cell_type": "code",
   "execution_count": 25,
   "metadata": {},
   "outputs": [
    {
     "data": {
      "text/html": [
       "<div>\n",
       "<style scoped>\n",
       "    .dataframe tbody tr th:only-of-type {\n",
       "        vertical-align: middle;\n",
       "    }\n",
       "\n",
       "    .dataframe tbody tr th {\n",
       "        vertical-align: top;\n",
       "    }\n",
       "\n",
       "    .dataframe thead th {\n",
       "        text-align: right;\n",
       "    }\n",
       "</style>\n",
       "<table border=\"1\" class=\"dataframe\">\n",
       "  <thead>\n",
       "    <tr style=\"text-align: right;\">\n",
       "      <th></th>\n",
       "      <th>Butacas</th>\n",
       "    </tr>\n",
       "    <tr>\n",
       "      <th>provincia</th>\n",
       "      <th></th>\n",
       "    </tr>\n",
       "  </thead>\n",
       "  <tbody>\n",
       "    <tr>\n",
       "      <th>Buenos Aires</th>\n",
       "      <td>93112</td>\n",
       "    </tr>\n",
       "    <tr>\n",
       "      <th>Catamarca</th>\n",
       "      <td>3200</td>\n",
       "    </tr>\n",
       "    <tr>\n",
       "      <th>Chaco</th>\n",
       "      <td>2469</td>\n",
       "    </tr>\n",
       "    <tr>\n",
       "      <th>Chubut</th>\n",
       "      <td>2682</td>\n",
       "    </tr>\n",
       "    <tr>\n",
       "      <th>Ciudad Autónoma de Buenos Aires</th>\n",
       "      <td>31386</td>\n",
       "    </tr>\n",
       "    <tr>\n",
       "      <th>Corrientes</th>\n",
       "      <td>3370</td>\n",
       "    </tr>\n",
       "    <tr>\n",
       "      <th>Córdoba</th>\n",
       "      <td>20799</td>\n",
       "    </tr>\n",
       "    <tr>\n",
       "      <th>Entre Ríos</th>\n",
       "      <td>4086</td>\n",
       "    </tr>\n",
       "    <tr>\n",
       "      <th>Formosa</th>\n",
       "      <td>1184</td>\n",
       "    </tr>\n",
       "    <tr>\n",
       "      <th>Jujuy</th>\n",
       "      <td>2277</td>\n",
       "    </tr>\n",
       "    <tr>\n",
       "      <th>La Pampa</th>\n",
       "      <td>2071</td>\n",
       "    </tr>\n",
       "    <tr>\n",
       "      <th>La Rioja</th>\n",
       "      <td>1477</td>\n",
       "    </tr>\n",
       "    <tr>\n",
       "      <th>Mendoza</th>\n",
       "      <td>11116</td>\n",
       "    </tr>\n",
       "    <tr>\n",
       "      <th>Misiones</th>\n",
       "      <td>2177</td>\n",
       "    </tr>\n",
       "    <tr>\n",
       "      <th>Neuquén</th>\n",
       "      <td>3959</td>\n",
       "    </tr>\n",
       "    <tr>\n",
       "      <th>Río Negro</th>\n",
       "      <td>2474</td>\n",
       "    </tr>\n",
       "    <tr>\n",
       "      <th>Salta</th>\n",
       "      <td>4665</td>\n",
       "    </tr>\n",
       "    <tr>\n",
       "      <th>San Juan</th>\n",
       "      <td>4617</td>\n",
       "    </tr>\n",
       "    <tr>\n",
       "      <th>San Luis</th>\n",
       "      <td>2601</td>\n",
       "    </tr>\n",
       "    <tr>\n",
       "      <th>Santa Cruz</th>\n",
       "      <td>1256</td>\n",
       "    </tr>\n",
       "    <tr>\n",
       "      <th>Santa Fe</th>\n",
       "      <td>20131</td>\n",
       "    </tr>\n",
       "    <tr>\n",
       "      <th>Santiago del Estero</th>\n",
       "      <td>2928</td>\n",
       "    </tr>\n",
       "    <tr>\n",
       "      <th>Tierra del Fuego</th>\n",
       "      <td>1445</td>\n",
       "    </tr>\n",
       "    <tr>\n",
       "      <th>Tucumán</th>\n",
       "      <td>5161</td>\n",
       "    </tr>\n",
       "  </tbody>\n",
       "</table>\n",
       "</div>"
      ],
      "text/plain": [
       "                                 Butacas\n",
       "provincia                               \n",
       "Buenos Aires                       93112\n",
       "Catamarca                           3200\n",
       "Chaco                               2469\n",
       "Chubut                              2682\n",
       "Ciudad Autónoma de Buenos Aires    31386\n",
       "Corrientes                          3370\n",
       "Córdoba                            20799\n",
       "Entre Ríos                          4086\n",
       "Formosa                             1184\n",
       "Jujuy                               2277\n",
       "La Pampa                            2071\n",
       "La Rioja                            1477\n",
       "Mendoza                            11116\n",
       "Misiones                            2177\n",
       "Neuquén                             3959\n",
       "Río Negro                           2474\n",
       "Salta                               4665\n",
       "San Juan                            4617\n",
       "San Luis                            2601\n",
       "Santa Cruz                          1256\n",
       "Santa Fe                           20131\n",
       "Santiago del Estero                 2928\n",
       "Tierra del Fuego                    1445\n",
       "Tucumán                             5161"
      ]
     },
     "execution_count": 25,
     "metadata": {},
     "output_type": "execute_result"
    }
   ],
   "source": [
    "# Cantidad de butacas por provincia\n",
    "df_butacas = cines_df[['Butacas', 'provincia']].groupby('provincia').sum()\n",
    "\n",
    "df_butacas"
   ]
  },
  {
   "cell_type": "markdown",
   "metadata": {},
   "source": [
    "#### 3° Groupby provincia, contar espacio_INCAA (corregir 0 primero)"
   ]
  },
  {
   "cell_type": "code",
   "execution_count": 41,
   "metadata": {},
   "outputs": [
    {
     "data": {
      "text/html": [
       "<div>\n",
       "<style scoped>\n",
       "    .dataframe tbody tr th:only-of-type {\n",
       "        vertical-align: middle;\n",
       "    }\n",
       "\n",
       "    .dataframe tbody tr th {\n",
       "        vertical-align: top;\n",
       "    }\n",
       "\n",
       "    .dataframe thead th {\n",
       "        text-align: right;\n",
       "    }\n",
       "</style>\n",
       "<table border=\"1\" class=\"dataframe\">\n",
       "  <thead>\n",
       "    <tr style=\"text-align: right;\">\n",
       "      <th></th>\n",
       "      <th>espacio_INCAA</th>\n",
       "    </tr>\n",
       "    <tr>\n",
       "      <th>provincia</th>\n",
       "      <th></th>\n",
       "    </tr>\n",
       "  </thead>\n",
       "  <tbody>\n",
       "    <tr>\n",
       "      <th>Buenos Aires</th>\n",
       "      <td>20</td>\n",
       "    </tr>\n",
       "    <tr>\n",
       "      <th>Catamarca</th>\n",
       "      <td>1</td>\n",
       "    </tr>\n",
       "    <tr>\n",
       "      <th>Chaco</th>\n",
       "      <td>1</td>\n",
       "    </tr>\n",
       "    <tr>\n",
       "      <th>Chubut</th>\n",
       "      <td>4</td>\n",
       "    </tr>\n",
       "    <tr>\n",
       "      <th>Ciudad Autónoma de Buenos Aires</th>\n",
       "      <td>3</td>\n",
       "    </tr>\n",
       "    <tr>\n",
       "      <th>Corrientes</th>\n",
       "      <td>1</td>\n",
       "    </tr>\n",
       "    <tr>\n",
       "      <th>Córdoba</th>\n",
       "      <td>2</td>\n",
       "    </tr>\n",
       "    <tr>\n",
       "      <th>Entre Ríos</th>\n",
       "      <td>2</td>\n",
       "    </tr>\n",
       "    <tr>\n",
       "      <th>Formosa</th>\n",
       "      <td>1</td>\n",
       "    </tr>\n",
       "    <tr>\n",
       "      <th>Jujuy</th>\n",
       "      <td>2</td>\n",
       "    </tr>\n",
       "    <tr>\n",
       "      <th>La Pampa</th>\n",
       "      <td>2</td>\n",
       "    </tr>\n",
       "    <tr>\n",
       "      <th>La Rioja</th>\n",
       "      <td>1</td>\n",
       "    </tr>\n",
       "    <tr>\n",
       "      <th>Mendoza</th>\n",
       "      <td>2</td>\n",
       "    </tr>\n",
       "    <tr>\n",
       "      <th>Misiones</th>\n",
       "      <td>2</td>\n",
       "    </tr>\n",
       "    <tr>\n",
       "      <th>Neuquén</th>\n",
       "      <td>3</td>\n",
       "    </tr>\n",
       "    <tr>\n",
       "      <th>Río Negro</th>\n",
       "      <td>4</td>\n",
       "    </tr>\n",
       "    <tr>\n",
       "      <th>Salta</th>\n",
       "      <td>2</td>\n",
       "    </tr>\n",
       "    <tr>\n",
       "      <th>San Juan</th>\n",
       "      <td>2</td>\n",
       "    </tr>\n",
       "    <tr>\n",
       "      <th>San Luis</th>\n",
       "      <td>0</td>\n",
       "    </tr>\n",
       "    <tr>\n",
       "      <th>Santa Cruz</th>\n",
       "      <td>2</td>\n",
       "    </tr>\n",
       "    <tr>\n",
       "      <th>Santa Fe</th>\n",
       "      <td>3</td>\n",
       "    </tr>\n",
       "    <tr>\n",
       "      <th>Santiago del Estero</th>\n",
       "      <td>1</td>\n",
       "    </tr>\n",
       "    <tr>\n",
       "      <th>Tierra del Fuego</th>\n",
       "      <td>0</td>\n",
       "    </tr>\n",
       "    <tr>\n",
       "      <th>Tucumán</th>\n",
       "      <td>2</td>\n",
       "    </tr>\n",
       "  </tbody>\n",
       "</table>\n",
       "</div>"
      ],
      "text/plain": [
       "                                 espacio_INCAA\n",
       "provincia                                     \n",
       "Buenos Aires                                20\n",
       "Catamarca                                    1\n",
       "Chaco                                        1\n",
       "Chubut                                       4\n",
       "Ciudad Autónoma de Buenos Aires              3\n",
       "Corrientes                                   1\n",
       "Córdoba                                      2\n",
       "Entre Ríos                                   2\n",
       "Formosa                                      1\n",
       "Jujuy                                        2\n",
       "La Pampa                                     2\n",
       "La Rioja                                     1\n",
       "Mendoza                                      2\n",
       "Misiones                                     2\n",
       "Neuquén                                      3\n",
       "Río Negro                                    4\n",
       "Salta                                        2\n",
       "San Juan                                     2\n",
       "San Luis                                     0\n",
       "Santa Cruz                                   2\n",
       "Santa Fe                                     3\n",
       "Santiago del Estero                          1\n",
       "Tierra del Fuego                             0\n",
       "Tucumán                                      2"
      ]
     },
     "execution_count": 41,
     "metadata": {},
     "output_type": "execute_result"
    }
   ],
   "source": [
    "# Cantidad de espacios incaa por provincia\n",
    "# Primero cambiamos el 0 por Nan para que no lo cuente\n",
    "#cines_df.loc[cines_df['espacio_INCAA']=='0', 'espacio_INCAA'] = np.nan\n",
    "cines_df['espacio_INCAA'] = cines_df['espacio_INCAA'].map(lambda x: np.nan if x=='0' else x)\n",
    "df_incaa = cines_df[['espacio_INCAA', 'provincia']].groupby('provincia').count()\n",
    "\n",
    "df_incaa"
   ]
  },
  {
   "cell_type": "code",
   "execution_count": 44,
   "metadata": {},
   "outputs": [
    {
     "data": {
      "text/html": [
       "<div>\n",
       "<style scoped>\n",
       "    .dataframe tbody tr th:only-of-type {\n",
       "        vertical-align: middle;\n",
       "    }\n",
       "\n",
       "    .dataframe tbody tr th {\n",
       "        vertical-align: top;\n",
       "    }\n",
       "\n",
       "    .dataframe thead th {\n",
       "        text-align: right;\n",
       "    }\n",
       "</style>\n",
       "<table border=\"1\" class=\"dataframe\">\n",
       "  <thead>\n",
       "    <tr style=\"text-align: right;\">\n",
       "      <th></th>\n",
       "      <th>provincia</th>\n",
       "      <th>cant_pantallas</th>\n",
       "      <th>cant_butacas</th>\n",
       "      <th>cant_espacios_incaa</th>\n",
       "    </tr>\n",
       "  </thead>\n",
       "  <tbody>\n",
       "    <tr>\n",
       "      <th>0</th>\n",
       "      <td>Buenos Aires</td>\n",
       "      <td>358</td>\n",
       "      <td>93112</td>\n",
       "      <td>20</td>\n",
       "    </tr>\n",
       "    <tr>\n",
       "      <th>1</th>\n",
       "      <td>Catamarca</td>\n",
       "      <td>12</td>\n",
       "      <td>3200</td>\n",
       "      <td>1</td>\n",
       "    </tr>\n",
       "    <tr>\n",
       "      <th>2</th>\n",
       "      <td>Chaco</td>\n",
       "      <td>14</td>\n",
       "      <td>2469</td>\n",
       "      <td>1</td>\n",
       "    </tr>\n",
       "    <tr>\n",
       "      <th>3</th>\n",
       "      <td>Chubut</td>\n",
       "      <td>10</td>\n",
       "      <td>2682</td>\n",
       "      <td>4</td>\n",
       "    </tr>\n",
       "    <tr>\n",
       "      <th>4</th>\n",
       "      <td>Ciudad Autónoma de Buenos Aires</td>\n",
       "      <td>153</td>\n",
       "      <td>31386</td>\n",
       "      <td>3</td>\n",
       "    </tr>\n",
       "    <tr>\n",
       "      <th>5</th>\n",
       "      <td>Corrientes</td>\n",
       "      <td>17</td>\n",
       "      <td>3370</td>\n",
       "      <td>1</td>\n",
       "    </tr>\n",
       "    <tr>\n",
       "      <th>6</th>\n",
       "      <td>Córdoba</td>\n",
       "      <td>105</td>\n",
       "      <td>20799</td>\n",
       "      <td>2</td>\n",
       "    </tr>\n",
       "    <tr>\n",
       "      <th>7</th>\n",
       "      <td>Entre Ríos</td>\n",
       "      <td>17</td>\n",
       "      <td>4086</td>\n",
       "      <td>2</td>\n",
       "    </tr>\n",
       "    <tr>\n",
       "      <th>8</th>\n",
       "      <td>Formosa</td>\n",
       "      <td>4</td>\n",
       "      <td>1184</td>\n",
       "      <td>1</td>\n",
       "    </tr>\n",
       "    <tr>\n",
       "      <th>9</th>\n",
       "      <td>Jujuy</td>\n",
       "      <td>5</td>\n",
       "      <td>2277</td>\n",
       "      <td>2</td>\n",
       "    </tr>\n",
       "    <tr>\n",
       "      <th>10</th>\n",
       "      <td>La Pampa</td>\n",
       "      <td>6</td>\n",
       "      <td>2071</td>\n",
       "      <td>2</td>\n",
       "    </tr>\n",
       "    <tr>\n",
       "      <th>11</th>\n",
       "      <td>La Rioja</td>\n",
       "      <td>10</td>\n",
       "      <td>1477</td>\n",
       "      <td>1</td>\n",
       "    </tr>\n",
       "    <tr>\n",
       "      <th>12</th>\n",
       "      <td>Mendoza</td>\n",
       "      <td>47</td>\n",
       "      <td>11116</td>\n",
       "      <td>2</td>\n",
       "    </tr>\n",
       "    <tr>\n",
       "      <th>13</th>\n",
       "      <td>Misiones</td>\n",
       "      <td>10</td>\n",
       "      <td>2177</td>\n",
       "      <td>2</td>\n",
       "    </tr>\n",
       "    <tr>\n",
       "      <th>14</th>\n",
       "      <td>Neuquén</td>\n",
       "      <td>12</td>\n",
       "      <td>3959</td>\n",
       "      <td>3</td>\n",
       "    </tr>\n",
       "    <tr>\n",
       "      <th>15</th>\n",
       "      <td>Río Negro</td>\n",
       "      <td>10</td>\n",
       "      <td>2474</td>\n",
       "      <td>4</td>\n",
       "    </tr>\n",
       "    <tr>\n",
       "      <th>16</th>\n",
       "      <td>Salta</td>\n",
       "      <td>23</td>\n",
       "      <td>4665</td>\n",
       "      <td>2</td>\n",
       "    </tr>\n",
       "    <tr>\n",
       "      <th>17</th>\n",
       "      <td>San Juan</td>\n",
       "      <td>22</td>\n",
       "      <td>4617</td>\n",
       "      <td>2</td>\n",
       "    </tr>\n",
       "    <tr>\n",
       "      <th>18</th>\n",
       "      <td>San Luis</td>\n",
       "      <td>12</td>\n",
       "      <td>2601</td>\n",
       "      <td>0</td>\n",
       "    </tr>\n",
       "    <tr>\n",
       "      <th>19</th>\n",
       "      <td>Santa Cruz</td>\n",
       "      <td>7</td>\n",
       "      <td>1256</td>\n",
       "      <td>2</td>\n",
       "    </tr>\n",
       "    <tr>\n",
       "      <th>20</th>\n",
       "      <td>Santa Fe</td>\n",
       "      <td>79</td>\n",
       "      <td>20131</td>\n",
       "      <td>3</td>\n",
       "    </tr>\n",
       "    <tr>\n",
       "      <th>21</th>\n",
       "      <td>Santiago del Estero</td>\n",
       "      <td>11</td>\n",
       "      <td>2928</td>\n",
       "      <td>1</td>\n",
       "    </tr>\n",
       "    <tr>\n",
       "      <th>22</th>\n",
       "      <td>Tierra del Fuego</td>\n",
       "      <td>6</td>\n",
       "      <td>1445</td>\n",
       "      <td>0</td>\n",
       "    </tr>\n",
       "    <tr>\n",
       "      <th>23</th>\n",
       "      <td>Tucumán</td>\n",
       "      <td>24</td>\n",
       "      <td>5161</td>\n",
       "      <td>2</td>\n",
       "    </tr>\n",
       "  </tbody>\n",
       "</table>\n",
       "</div>"
      ],
      "text/plain": [
       "                          provincia  cant_pantallas  cant_butacas  \\\n",
       "0                      Buenos Aires             358         93112   \n",
       "1                         Catamarca              12          3200   \n",
       "2                             Chaco              14          2469   \n",
       "3                            Chubut              10          2682   \n",
       "4   Ciudad Autónoma de Buenos Aires             153         31386   \n",
       "5                        Corrientes              17          3370   \n",
       "6                           Córdoba             105         20799   \n",
       "7                        Entre Ríos              17          4086   \n",
       "8                           Formosa               4          1184   \n",
       "9                             Jujuy               5          2277   \n",
       "10                         La Pampa               6          2071   \n",
       "11                         La Rioja              10          1477   \n",
       "12                          Mendoza              47         11116   \n",
       "13                         Misiones              10          2177   \n",
       "14                          Neuquén              12          3959   \n",
       "15                        Río Negro              10          2474   \n",
       "16                            Salta              23          4665   \n",
       "17                         San Juan              22          4617   \n",
       "18                         San Luis              12          2601   \n",
       "19                       Santa Cruz               7          1256   \n",
       "20                         Santa Fe              79         20131   \n",
       "21              Santiago del Estero              11          2928   \n",
       "22                 Tierra del Fuego               6          1445   \n",
       "23                          Tucumán              24          5161   \n",
       "\n",
       "    cant_espacios_incaa  \n",
       "0                    20  \n",
       "1                     1  \n",
       "2                     1  \n",
       "3                     4  \n",
       "4                     3  \n",
       "5                     1  \n",
       "6                     2  \n",
       "7                     2  \n",
       "8                     1  \n",
       "9                     2  \n",
       "10                    2  \n",
       "11                    1  \n",
       "12                    2  \n",
       "13                    2  \n",
       "14                    3  \n",
       "15                    4  \n",
       "16                    2  \n",
       "17                    2  \n",
       "18                    0  \n",
       "19                    2  \n",
       "20                    3  \n",
       "21                    1  \n",
       "22                    0  \n",
       "23                    2  "
      ]
     },
     "execution_count": 44,
     "metadata": {},
     "output_type": "execute_result"
    }
   ],
   "source": [
    "# concat dfs by columns\n",
    "df_resumen_cine = pd.concat([df_pantallas, df_butacas, df_incaa], axis='columns', copy=True)\n",
    "df_resumen_cine.rename(columns={\n",
    "        'Pantallas': 'cant_pantallas', \n",
    "        'Butacas': 'cant_butacas',\n",
    "        'espacio_INCAA': 'cant_espacios_incaa'\n",
    "        }, inplace=True)\n",
    "df_resumen_cine.reset_index(inplace=True)\n",
    "df_resumen_cine"
   ]
  }
 ],
 "metadata": {
  "kernelspec": {
   "display_name": "Python 3.10.7 ('env': venv)",
   "language": "python",
   "name": "python3"
  },
  "language_info": {
   "codemirror_mode": {
    "name": "ipython",
    "version": 3
   },
   "file_extension": ".py",
   "mimetype": "text/x-python",
   "name": "python",
   "nbconvert_exporter": "python",
   "pygments_lexer": "ipython3",
   "version": "3.10.7"
  },
  "orig_nbformat": 4,
  "vscode": {
   "interpreter": {
    "hash": "40dcbba769bc9945f786c3e32445bfe66f4f516dde2c4cd41e92be9e1dbce03f"
   }
  }
 },
 "nbformat": 4,
 "nbformat_minor": 2
}
